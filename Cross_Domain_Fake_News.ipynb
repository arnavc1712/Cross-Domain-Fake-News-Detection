{
  "nbformat": 4,
  "nbformat_minor": 0,
  "metadata": {
    "kernelspec": {
      "display_name": "Social",
      "language": "python",
      "name": "social"
    },
    "language_info": {
      "codemirror_mode": {
        "name": "ipython",
        "version": 3
      },
      "file_extension": ".py",
      "mimetype": "text/x-python",
      "name": "python",
      "nbconvert_exporter": "python",
      "pygments_lexer": "ipython3",
      "version": "3.6.1"
    },
    "colab": {
      "name": "Cross Domain Fake News.ipynb",
      "provenance": [],
      "toc_visible": true,
      "machine_shape": "hm",
      "include_colab_link": true
    },
    "accelerator": "GPU"
  },
  "cells": [
    {
      "cell_type": "markdown",
      "metadata": {
        "id": "view-in-github",
        "colab_type": "text"
      },
      "source": [
        "<a href=\"https://colab.research.google.com/github/arnavc1712/Cross-Domain-Fake-News-Detection/blob/master/Cross_Domain_Fake_News.ipynb\" target=\"_parent\"><img src=\"https://colab.research.google.com/assets/colab-badge.svg\" alt=\"Open In Colab\"/></a>"
      ]
    },
    {
      "cell_type": "code",
      "metadata": {
        "id": "7YbGKKiu92Ly",
        "colab_type": "code",
        "colab": {}
      },
      "source": [
        ""
      ],
      "execution_count": 0,
      "outputs": []
    },
    {
      "cell_type": "code",
      "metadata": {
        "id": "yjjT8MW6nh-A",
        "colab_type": "code",
        "outputId": "bc1a3ced-2df9-42df-a35d-14e3448bbac6",
        "colab": {
          "base_uri": "https://localhost:8080/",
          "height": 80
        }
      },
      "source": [
        "import pandas as pd\n",
        "import keras\n",
        "from keras.preprocessing.text import Tokenizer\n",
        "from keras.preprocessing.sequence import pad_sequences\n",
        "from keras.layers import Input, LSTM, Dense,Embedding,RepeatVector,Bidirectional\n",
        "from keras.models import Model\n",
        "import re\n",
        "import numpy as np\n",
        "from scipy import stats\n",
        "# import demoji\n",
        "# import tokenizer\n",
        "# from nltk.corpus import stopwords\n",
        "# stopwords_list = list(set(stopwords.words('english')))\n",
        "from keras.utils import to_categorical\n",
        "import os\n",
        "from sklearn.model_selection import train_test_split\n",
        "from keras.callbacks import EarlyStopping\n",
        "from sklearn.metrics import accuracy_score,precision_score,recall_score,f1_score,confusion_matrix"
      ],
      "execution_count": 1,
      "outputs": [
        {
          "output_type": "stream",
          "text": [
            "Using TensorFlow backend.\n"
          ],
          "name": "stderr"
        },
        {
          "output_type": "display_data",
          "data": {
            "text/html": [
              "<p style=\"color: red;\">\n",
              "The default version of TensorFlow in Colab will soon switch to TensorFlow 2.x.<br>\n",
              "We recommend you <a href=\"https://www.tensorflow.org/guide/migrate\" target=\"_blank\">upgrade</a> now \n",
              "or ensure your notebook will continue to use TensorFlow 1.x via the <code>%tensorflow_version 1.x</code> magic:\n",
              "<a href=\"https://colab.research.google.com/notebooks/tensorflow_version.ipynb\" target=\"_blank\">more info</a>.</p>\n"
            ],
            "text/plain": [
              "<IPython.core.display.HTML object>"
            ]
          },
          "metadata": {
            "tags": []
          }
        }
      ]
    },
    {
      "cell_type": "code",
      "metadata": {
        "id": "jsbpEHn4nh-F",
        "colab_type": "code",
        "colab": {}
      },
      "source": [
        "domain1_path = \"./gossipcop_content_no_ignore.tsv\"\n",
        "domain2_path = \"./politifact_content_no_ignore.tsv\""
      ],
      "execution_count": 0,
      "outputs": []
    },
    {
      "cell_type": "code",
      "metadata": {
        "id": "phgfMSc2nh-H",
        "colab_type": "code",
        "colab": {}
      },
      "source": [
        "domain1_frame = pd.read_csv(domain1_path,delimiter=\"\\t\").set_index('id')\n",
        "domain2_frame = pd.read_csv(domain2_path,delimiter=\"\\t\").set_index('id')"
      ],
      "execution_count": 0,
      "outputs": []
    },
    {
      "cell_type": "markdown",
      "metadata": {
        "id": "Xl573iaInh-J",
        "colab_type": "text"
      },
      "source": [
        "### Exploring the Dataset"
      ]
    },
    {
      "cell_type": "markdown",
      "metadata": {
        "id": "s-bgMHpYnh-J",
        "colab_type": "text"
      },
      "source": [
        "#### First Domain"
      ]
    },
    {
      "cell_type": "code",
      "metadata": {
        "id": "osdT_7iVnh-K",
        "colab_type": "code",
        "outputId": "4be0ebe3-740d-4252-b3a1-56d7bdf4287f",
        "colab": {
          "base_uri": "https://localhost:8080/",
          "height": 450
        }
      },
      "source": [
        "domain1_frame"
      ],
      "execution_count": 4,
      "outputs": [
        {
          "output_type": "execute_result",
          "data": {
            "text/html": [
              "<div>\n",
              "<style scoped>\n",
              "    .dataframe tbody tr th:only-of-type {\n",
              "        vertical-align: middle;\n",
              "    }\n",
              "\n",
              "    .dataframe tbody tr th {\n",
              "        vertical-align: top;\n",
              "    }\n",
              "\n",
              "    .dataframe thead th {\n",
              "        text-align: right;\n",
              "    }\n",
              "</style>\n",
              "<table border=\"1\" class=\"dataframe\">\n",
              "  <thead>\n",
              "    <tr style=\"text-align: right;\">\n",
              "      <th></th>\n",
              "      <th>label</th>\n",
              "      <th>content</th>\n",
              "    </tr>\n",
              "    <tr>\n",
              "      <th>id</th>\n",
              "      <th></th>\n",
              "      <th></th>\n",
              "    </tr>\n",
              "  </thead>\n",
              "  <tbody>\n",
              "    <tr>\n",
              "      <th>gossipcop-9096198130</th>\n",
              "      <td>1</td>\n",
              "      <td>Sarah Jessica Parker is getting candid about h...</td>\n",
              "    </tr>\n",
              "    <tr>\n",
              "      <th>gossipcop-6982710185</th>\n",
              "      <td>1</td>\n",
              "      <td>Many celebrities have been sharing their thoug...</td>\n",
              "    </tr>\n",
              "    <tr>\n",
              "      <th>gossipcop-7887456921</th>\n",
              "      <td>1</td>\n",
              "      <td>He reportedly hasn't seen her in over four yea...</td>\n",
              "    </tr>\n",
              "    <tr>\n",
              "      <th>gossipcop-1594778479</th>\n",
              "      <td>1</td>\n",
              "      <td>The fashion crowd is speaking out about Kim Ka...</td>\n",
              "    </tr>\n",
              "    <tr>\n",
              "      <th>gossipcop-8172018375</th>\n",
              "      <td>1</td>\n",
              "      <td>What term do you want to search? Search with g...</td>\n",
              "    </tr>\n",
              "    <tr>\n",
              "      <th>...</th>\n",
              "      <td>...</td>\n",
              "      <td>...</td>\n",
              "    </tr>\n",
              "    <tr>\n",
              "      <th>gossipcop-854842</th>\n",
              "      <td>0</td>\n",
              "      <td>Aisha Tyler‘s divorce from Jeffrey Tietjens ha...</td>\n",
              "    </tr>\n",
              "    <tr>\n",
              "      <th>gossipcop-843491</th>\n",
              "      <td>0</td>\n",
              "      <td>All four of Queen Elizabeth and Prince Philip'...</td>\n",
              "    </tr>\n",
              "    <tr>\n",
              "      <th>gossipcop-897778</th>\n",
              "      <td>0</td>\n",
              "      <td>Theresa Caputo is adjusting to her new life af...</td>\n",
              "    </tr>\n",
              "    <tr>\n",
              "      <th>gossipcop-899849</th>\n",
              "      <td>0</td>\n",
              "      <td>Follow Us on Twitter  Nominations for the 25th...</td>\n",
              "    </tr>\n",
              "    <tr>\n",
              "      <th>gossipcop-927093</th>\n",
              "      <td>0</td>\n",
              "      <td>Though the happy couple can’t be together in p...</td>\n",
              "    </tr>\n",
              "  </tbody>\n",
              "</table>\n",
              "<p>5816 rows × 2 columns</p>\n",
              "</div>"
            ],
            "text/plain": [
              "                      label                                            content\n",
              "id                                                                            \n",
              "gossipcop-9096198130      1  Sarah Jessica Parker is getting candid about h...\n",
              "gossipcop-6982710185      1  Many celebrities have been sharing their thoug...\n",
              "gossipcop-7887456921      1  He reportedly hasn't seen her in over four yea...\n",
              "gossipcop-1594778479      1  The fashion crowd is speaking out about Kim Ka...\n",
              "gossipcop-8172018375      1  What term do you want to search? Search with g...\n",
              "...                     ...                                                ...\n",
              "gossipcop-854842          0  Aisha Tyler‘s divorce from Jeffrey Tietjens ha...\n",
              "gossipcop-843491          0  All four of Queen Elizabeth and Prince Philip'...\n",
              "gossipcop-897778          0  Theresa Caputo is adjusting to her new life af...\n",
              "gossipcop-899849          0  Follow Us on Twitter  Nominations for the 25th...\n",
              "gossipcop-927093          0  Though the happy couple can’t be together in p...\n",
              "\n",
              "[5816 rows x 2 columns]"
            ]
          },
          "metadata": {
            "tags": []
          },
          "execution_count": 4
        }
      ]
    },
    {
      "cell_type": "code",
      "metadata": {
        "id": "hiDXAODnnh-M",
        "colab_type": "code",
        "outputId": "8e91c1e6-cbd8-4dd6-ab63-6b5f24e54f12",
        "colab": {
          "base_uri": "https://localhost:8080/",
          "height": 142
        }
      },
      "source": [
        "domain1_frame.groupby(['label'])[['label']].count()"
      ],
      "execution_count": 5,
      "outputs": [
        {
          "output_type": "execute_result",
          "data": {
            "text/html": [
              "<div>\n",
              "<style scoped>\n",
              "    .dataframe tbody tr th:only-of-type {\n",
              "        vertical-align: middle;\n",
              "    }\n",
              "\n",
              "    .dataframe tbody tr th {\n",
              "        vertical-align: top;\n",
              "    }\n",
              "\n",
              "    .dataframe thead th {\n",
              "        text-align: right;\n",
              "    }\n",
              "</style>\n",
              "<table border=\"1\" class=\"dataframe\">\n",
              "  <thead>\n",
              "    <tr style=\"text-align: right;\">\n",
              "      <th></th>\n",
              "      <th>label</th>\n",
              "    </tr>\n",
              "    <tr>\n",
              "      <th>label</th>\n",
              "      <th></th>\n",
              "    </tr>\n",
              "  </thead>\n",
              "  <tbody>\n",
              "    <tr>\n",
              "      <th>0</th>\n",
              "      <td>3586</td>\n",
              "    </tr>\n",
              "    <tr>\n",
              "      <th>1</th>\n",
              "      <td>2230</td>\n",
              "    </tr>\n",
              "  </tbody>\n",
              "</table>\n",
              "</div>"
            ],
            "text/plain": [
              "       label\n",
              "label       \n",
              "0       3586\n",
              "1       2230"
            ]
          },
          "metadata": {
            "tags": []
          },
          "execution_count": 5
        }
      ]
    },
    {
      "cell_type": "markdown",
      "metadata": {
        "id": "B50hJsd5nh-O",
        "colab_type": "text"
      },
      "source": [
        "#### Second Domain"
      ]
    },
    {
      "cell_type": "code",
      "metadata": {
        "id": "otm6z1Pxnh-P",
        "colab_type": "code",
        "outputId": "b216116b-5935-4e06-824f-9457ab649053",
        "colab": {
          "base_uri": "https://localhost:8080/",
          "height": 142
        }
      },
      "source": [
        "domain2_frame.groupby(['label'])[['label']].count()"
      ],
      "execution_count": 6,
      "outputs": [
        {
          "output_type": "execute_result",
          "data": {
            "text/html": [
              "<div>\n",
              "<style scoped>\n",
              "    .dataframe tbody tr th:only-of-type {\n",
              "        vertical-align: middle;\n",
              "    }\n",
              "\n",
              "    .dataframe tbody tr th {\n",
              "        vertical-align: top;\n",
              "    }\n",
              "\n",
              "    .dataframe thead th {\n",
              "        text-align: right;\n",
              "    }\n",
              "</style>\n",
              "<table border=\"1\" class=\"dataframe\">\n",
              "  <thead>\n",
              "    <tr style=\"text-align: right;\">\n",
              "      <th></th>\n",
              "      <th>label</th>\n",
              "    </tr>\n",
              "    <tr>\n",
              "      <th>label</th>\n",
              "      <th></th>\n",
              "    </tr>\n",
              "  </thead>\n",
              "  <tbody>\n",
              "    <tr>\n",
              "      <th>0</th>\n",
              "      <td>145</td>\n",
              "    </tr>\n",
              "    <tr>\n",
              "      <th>1</th>\n",
              "      <td>270</td>\n",
              "    </tr>\n",
              "  </tbody>\n",
              "</table>\n",
              "</div>"
            ],
            "text/plain": [
              "       label\n",
              "label       \n",
              "0        145\n",
              "1        270"
            ]
          },
          "metadata": {
            "tags": []
          },
          "execution_count": 6
        }
      ]
    },
    {
      "cell_type": "markdown",
      "metadata": {
        "id": "fO0kuFXGnh-R",
        "colab_type": "text"
      },
      "source": [
        "### Preprocessing and Feature Engineering"
      ]
    },
    {
      "cell_type": "code",
      "metadata": {
        "id": "8qtZjFiWnh-R",
        "colab_type": "code",
        "colab": {
          "base_uri": "https://localhost:8080/",
          "height": 85
        },
        "outputId": "be862521-fa2a-4ca5-c5c7-ae87703bb9c3"
      },
      "source": [
        "import nltk\n",
        "from nltk.stem import WordNetLemmatizer,PorterStemmer\n",
        "nltk.download('punkt')\n",
        "nltk.download('wordnet')\n",
        "\n",
        "class Preprocess:\n",
        "\n",
        "  def __init__(self):\n",
        "    self.wordnet_lemmatizer = WordNetLemmatizer()\n",
        "    self.porter = PorterStemmer()\n",
        "\n",
        "  def clean_text(self,text):\n",
        "      '''Clean text by removing unnecessary characters and altering the format of words.'''\n",
        "\n",
        "      text = text.lower()\n",
        "      text = re.sub(r\"i'm\", \"i am\", text)\n",
        "      text = re.sub(r\"he's\", \"he is\", text)\n",
        "      text = re.sub(r\"she's\", \"she is\", text)\n",
        "      text = re.sub(r\"it's\", \"it is\", text)\n",
        "      text = re.sub(r\"that's\", \"that is\", text)\n",
        "      text = re.sub(r\"what's\", \"that is\", text)\n",
        "      text = re.sub(r\"where's\", \"where is\", text)\n",
        "      text = re.sub(r\"how's\", \"how is\", text)\n",
        "      text = re.sub(r\"\\'ll\", \" will\", text)\n",
        "      text = re.sub(r\"\\'ve\", \" have\", text)\n",
        "      text = re.sub(r\"\\'re\", \" are\", text)\n",
        "      text = re.sub(r\"\\'d\", \" would\", text)\n",
        "      text = re.sub(r\"\\'re\", \" are\", text)\n",
        "      text = re.sub(r\"won't\", \"will not\", text)\n",
        "      text = re.sub(r\"can't\", \"cannot\", text)\n",
        "      text = re.sub(r\"n't\", \" not\", text)\n",
        "      text = re.sub(r\"n'\", \"ng\", text)\n",
        "      text = re.sub(r\"'bout\", \"about\", text)\n",
        "      text = re.sub(r\"'til\", \"until\", text)\n",
        "      text = re.sub(r\"[()\\\"_#/@;*%:{}<>`+=~|.!?,'$-\\[\\]]\", \"\", text)\n",
        "      text = re.sub(r\"[0-9]\", \"\", text)\n",
        "      \n",
        "      return text\n",
        "    \n",
        "  def lemmatizer(self,text):\n",
        "    sentence_words = nltk.word_tokenize(text)\n",
        "    ret_text = []\n",
        "    for word in sentence_words:\n",
        "      ret_text.append(self.wordnet_lemmatizer.lemmatize(word))\n",
        "    \n",
        "    return \" \".join(ret_text)\n",
        "\n",
        "\n",
        "  def stemmer(self,text):\n",
        "    sentence_words = nltk.word_tokenize(text)\n",
        "    ret_text = []\n",
        "    for word in sentence_words:\n",
        "      ret_text.append(self.porter.stem(word))\n",
        "    \n",
        "    return \" \".join(ret_text)"
      ],
      "execution_count": 7,
      "outputs": [
        {
          "output_type": "stream",
          "text": [
            "[nltk_data] Downloading package punkt to /root/nltk_data...\n",
            "[nltk_data]   Package punkt is already up-to-date!\n",
            "[nltk_data] Downloading package wordnet to /root/nltk_data...\n",
            "[nltk_data]   Package wordnet is already up-to-date!\n"
          ],
          "name": "stdout"
        }
      ]
    },
    {
      "cell_type": "markdown",
      "metadata": {
        "id": "I2S04asgnh-Y",
        "colab_type": "text"
      },
      "source": [
        "# Preparing Data for the Model"
      ]
    },
    {
      "cell_type": "markdown",
      "metadata": {
        "id": "UiRNGPcaLRwe",
        "colab_type": "text"
      },
      "source": [
        "## Encoder data"
      ]
    },
    {
      "cell_type": "code",
      "metadata": {
        "id": "AlfpTw3Gnh-Z",
        "colab_type": "code",
        "colab": {}
      },
      "source": [
        "def encoder_data(df,lemmatize=False,stem=False):\n",
        "  preprocessor = Preprocess()\n",
        "  encoder_inputs = df['content'].apply(lambda x: preprocessor.clean_text(x))\n",
        "  if lemmatize:\n",
        "    encoder_inputs = df['content'].apply(lambda x: preprocessor.lemmatizer(x))\n",
        "  if stem:\n",
        "    encoder_inputs = df['content'].apply(lambda x: preprocessor.stemmer(x))\n",
        "  encoder_inputs = np.array(encoder_inputs.values.tolist())\n",
        "  return encoder_inputs\n"
      ],
      "execution_count": 0,
      "outputs": []
    },
    {
      "cell_type": "markdown",
      "metadata": {
        "id": "VtRD7t2xnh-a",
        "colab_type": "text"
      },
      "source": [
        "## Fake news detection training data"
      ]
    },
    {
      "cell_type": "code",
      "metadata": {
        "id": "MYS5-ebOnh-b",
        "colab_type": "code",
        "colab": {}
      },
      "source": [
        "def fake_news_target(df):\n",
        "  y_cc = np.array(df['label'].apply(lambda x:int(x)).values.tolist())\n",
        "  return y_cc\n"
      ],
      "execution_count": 0,
      "outputs": []
    },
    {
      "cell_type": "markdown",
      "metadata": {
        "id": "38_lywxsnh-c",
        "colab_type": "text"
      },
      "source": [
        "## Domain classification Data"
      ]
    },
    {
      "cell_type": "code",
      "metadata": {
        "id": "L6Gow5EPnh-d",
        "colab_type": "code",
        "colab": {}
      },
      "source": [
        "def domain_target(df):\n",
        "  y_dc = np.array([0]*len(domain1_frame) + [1]*len(domain2_frame))\n",
        "  return y_dc\n"
      ],
      "execution_count": 0,
      "outputs": []
    },
    {
      "cell_type": "markdown",
      "metadata": {
        "id": "ZNNFiDHYMIQp",
        "colab_type": "text"
      },
      "source": [
        "## Shuffling the data"
      ]
    },
    {
      "cell_type": "code",
      "metadata": {
        "id": "Yi4uejDAfVT-",
        "colab_type": "code",
        "colab": {}
      },
      "source": [
        "class Shuffle:\n",
        "\n",
        "  def __init__(self,data_len):\n",
        "    self.idx = np.arange(data_len)\n",
        "    np.random.shuffle(self.idx)\n",
        "  \n",
        "  def shuffle(self,data):\n",
        "    return np.array(data)[self.idx]"
      ],
      "execution_count": 0,
      "outputs": []
    },
    {
      "cell_type": "markdown",
      "metadata": {
        "id": "WEtAE0iTd8vU",
        "colab_type": "text"
      },
      "source": [
        "## Creating word to index mapping and vice versa"
      ]
    },
    {
      "cell_type": "code",
      "metadata": {
        "id": "lzss0di-eW1G",
        "colab_type": "code",
        "colab": {}
      },
      "source": [
        "def create_vocab(text_lists,vocab_len): ## Creating the word2idx, idx2word mapping using the Keras Tokenizer\n",
        "    tokenizer = Tokenizer(oov_token=\"<UNK>\")\n",
        "    tokenizer.fit_on_texts(text_lists)\n",
        "    ## Due to ambiguity with regards to Keras Tokenizer num_words, below is a good enough fix, \n",
        "    ## though it changes the tokenizer word_index outside of the class\n",
        "    num_words = vocab_len\n",
        "\n",
        "    sorted_by_word_count = sorted(tokenizer.word_counts.items(), key=lambda kv: kv[1], reverse=True)\n",
        "    tokenizer.word_index = {}\n",
        "    word2idx = {}\n",
        "    idx2word = {}\n",
        "    i = 0\n",
        "    for word,count in sorted_by_word_count:\n",
        "        if i == num_words:\n",
        "            break\n",
        "\n",
        "        tokenizer.word_index[word] = i + 1    # <= because tokenizer is 1 indexed\n",
        "        word2idx[word] = i+1\n",
        "        idx2word[i+1]=word\n",
        "        i += 1\n",
        "    \n",
        "    tokenizer.word_index[tokenizer.oov_token] = num_words+1\n",
        "    word2idx[tokenizer.oov_token] = num_words+1\n",
        "    idx2word[num_words+1]=tokenizer.oov_token\n",
        "    \n",
        "    return word2idx,idx2word,tokenizer"
      ],
      "execution_count": 0,
      "outputs": []
    },
    {
      "cell_type": "markdown",
      "metadata": {
        "id": "0paLOyC9QKtz",
        "colab_type": "text"
      },
      "source": [
        "## Tokenizing and Padding/Truncating Data"
      ]
    },
    {
      "cell_type": "code",
      "metadata": {
        "id": "wxQbpwWVnh-u",
        "colab_type": "code",
        "colab": {}
      },
      "source": [
        "def pad_tokenize_data(encoder_inputs,max_sentence_length,tokenizer):\n",
        "\n",
        "  t_encoder_inputs = tokenizer.texts_to_sequences(encoder_inputs)\n",
        "  t_encoder_inputs = pad_sequences(t_encoder_inputs,maxlen=max_sentence_length,padding='post', truncating='post')\n",
        "\n",
        "\n",
        "  return t_encoder_inputs\n"
      ],
      "execution_count": 0,
      "outputs": []
    },
    {
      "cell_type": "markdown",
      "metadata": {
        "id": "S_GqXV2EPP80",
        "colab_type": "text"
      },
      "source": [
        "## Defining Data Generators"
      ]
    },
    {
      "cell_type": "code",
      "metadata": {
        "colab_type": "code",
        "id": "ukjujAuQPPEC",
        "colab": {}
      },
      "source": [
        "def batch_generator(X,Y_CC,Y_DC,max_sentence_length,word2idx,batch_size=128):\n",
        "    \n",
        "        \n",
        "    y_cc = to_categorical(Y_CC)\n",
        "    y_dc = to_categorical(Y_DC)\n",
        "    for idx in range(0,len(X),batch_size):\n",
        "        encoder_input = np.zeros((batch_size,max_sentence_length))\n",
        "        decoder_target = np.zeros((batch_size,max_sentence_length,len(word2idx)+1))\n",
        "        for j,input_seq in enumerate(X[idx:idx+batch_size]):\n",
        "            for i,word_idx in enumerate(input_seq):\n",
        "                encoder_input[j,i]= word_idx\n",
        "                decoder_target[j,i,word_idx] = 1\n",
        "           \n",
        "        yield [encoder_input,[decoder_target,y_cc[idx:idx+batch_size],y_dc[idx:idx+batch_size]]]"
      ],
      "execution_count": 0,
      "outputs": []
    },
    {
      "cell_type": "code",
      "metadata": {
        "id": "79xvcWXvnh-x",
        "colab_type": "code",
        "colab": {}
      },
      "source": [
        "def all_data_generator(X,Y_CC,Y_DC,max_sentence_length,word2idx):\n",
        "    encoder_input = np.zeros((len(X),max_sentence_length))\n",
        "    decoder_target = np.zeros((len(X),max_sentence_length,len(word2idx)+1)) ## Extra index for padding, word2idx is 1 indexed\n",
        "    for j,input_seq in enumerate(X):\n",
        "        for i,word_idx in enumerate(input_seq):\n",
        "            encoder_input[j,i]= word_idx\n",
        "            decoder_target[j,i,word_idx] = 1\n",
        "    \n",
        "    y_cc = to_categorical(Y_CC)\n",
        "    y_dc = to_categorical(Y_DC)\n",
        "\n",
        "    return [encoder_input,[decoder_target,y_cc,y_dc]]"
      ],
      "execution_count": 0,
      "outputs": []
    },
    {
      "cell_type": "markdown",
      "metadata": {
        "id": "98IHiynqnh-3",
        "colab_type": "text"
      },
      "source": [
        "## Loading Glove Word Vectors"
      ]
    },
    {
      "cell_type": "code",
      "metadata": {
        "id": "SlIzeZquVgHu",
        "colab_type": "code",
        "colab": {}
      },
      "source": [
        "# !wget http://nlp.stanford.edu/data/glove.6B.zip"
      ],
      "execution_count": 0,
      "outputs": []
    },
    {
      "cell_type": "code",
      "metadata": {
        "id": "EGJaWo0iXn_2",
        "colab_type": "code",
        "colab": {}
      },
      "source": [
        "# import zipfile\n",
        "# zip_ref = zipfile.ZipFile(\"./glove.6B.zip\", 'r')\n",
        "# zip_ref.extractall(\"./glove/\")\n",
        "# zip_ref.close()"
      ],
      "execution_count": 0,
      "outputs": []
    },
    {
      "cell_type": "code",
      "metadata": {
        "id": "aaiBMdmYnh-3",
        "colab_type": "code",
        "colab": {}
      },
      "source": [
        "embeddings_index = dict()\n",
        "f = open('./glove/glove.6B.100d.txt')\n",
        "for line in f:\n",
        "    values = line.split()\n",
        "    word = values[0]\n",
        "    coefs = np.asarray(values[1:], dtype='float32')\n",
        "    embeddings_index[word] = coefs\n",
        "f.close()"
      ],
      "execution_count": 0,
      "outputs": []
    },
    {
      "cell_type": "code",
      "metadata": {
        "id": "kgSbZ7eHnh-5",
        "colab_type": "code",
        "colab": {}
      },
      "source": [
        "def generate_glove_matrix(vocab_len):\n",
        "  embedding_matrix = np.zeros((vocab_len+1, 100))\n",
        "  for word, i in word2idx.items():\n",
        "      embedding_vector = embeddings_index.get(word)\n",
        "      if embedding_vector is not None:\n",
        "          embedding_matrix[i+1] = embedding_vector\n",
        "  return embedding_matrix"
      ],
      "execution_count": 0,
      "outputs": []
    },
    {
      "cell_type": "markdown",
      "metadata": {
        "id": "QDSiyQLCQ3xz",
        "colab_type": "text"
      },
      "source": [
        "# Building our models"
      ]
    },
    {
      "cell_type": "markdown",
      "metadata": {
        "id": "tK5f7_tBVMyv",
        "colab_type": "text"
      },
      "source": [
        "## Building domain specific classification Model"
      ]
    },
    {
      "cell_type": "code",
      "metadata": {
        "id": "tKzUGdzsVb1A",
        "colab_type": "code",
        "colab": {}
      },
      "source": [
        "def classification_model(max_encoder_len,embedding_dim,latent_dim,include_glove=False):\n",
        "  inputs = Input(shape=(max_encoder_len,),name=\"encoder_inputs\")\n",
        "\n",
        "  if include_glove:\n",
        "    encoder_embedding = Embedding(vocab_len+1,embedding_dim,trainable=False,weights=[embedding_matrix],input_length=max_encoder_len,mask_zero=True,name=\"encoder_embedding\")\n",
        "\n",
        "  else:\n",
        "    encoder_embedding = Embedding(vocab_len+1,embedding_dim,trainable=True,input_length=max_encoder_len,mask_zero=True,name=\"encoder_embedding\")\n",
        "\n",
        "  encoder_inputs = encoder_embedding(inputs)\n",
        "\n",
        "\n",
        "  encoder = LSTM(latent_dim,return_state=True)\n",
        "\n",
        "\n",
        "  encoder_outputs, state_h, state_c = encoder(encoder_inputs)\n",
        "\n",
        "  fully_connected_CC = Dense(128,\n",
        "                        activation=\"tanh\",\n",
        "                        name=\"non_linear_CC\")\n",
        "\n",
        "  logits_CC = fully_connected_CC(encoder_outputs)\n",
        "\n",
        "  softmax_layer_CC = Dense(2,\n",
        "                      activation=\"softmax\",\n",
        "                      name=\"softmax_layer_CC\")\n",
        "\n",
        "  output_CC = softmax_layer_CC(logits_CC)\n",
        "\n",
        "  model = Model(inputs,output_CC)\n",
        "\n",
        "  return model\n",
        "\n",
        "\n"
      ],
      "execution_count": 0,
      "outputs": []
    },
    {
      "cell_type": "markdown",
      "metadata": {
        "id": "QBRqKRtOV3hs",
        "colab_type": "text"
      },
      "source": [
        "## Building domain independent model with domain loss"
      ]
    },
    {
      "cell_type": "code",
      "metadata": {
        "id": "yPvmnzgnV-aW",
        "colab_type": "code",
        "colab": {}
      },
      "source": [
        "def classification_domain_model(max_encoder_len,embedding_dim,latent_dim,include_glove=False):\n",
        "  inputs = Input(shape=(max_encoder_len,),name=\"encoder_inputs\")\n",
        "\n",
        "\n",
        "  if include_glove:\n",
        "    encoder_embedding = Embedding(vocab_len+1,embedding_dim,trainable=False,weights=[embedding_matrix],input_length=max_encoder_len,mask_zero=True,name=\"encoder_embedding\")\n",
        "\n",
        "  else:\n",
        "    encoder_embedding = Embedding(vocab_len+1,embedding_dim,trainable=True,input_length=max_encoder_len,mask_zero=True,name=\"encoder_embedding\")\n",
        "\n",
        "  encoder_inputs = encoder_embedding(inputs)\n",
        "\n",
        "\n",
        "  encoder = LSTM(latent_dim,return_state=True)\n",
        "\n",
        "\n",
        "  encoder_outputs, state_h, state_c = encoder(encoder_inputs)\n",
        "\n",
        "\n",
        "  encoder_states = [state_h,state_c]\n",
        "\n",
        "\n",
        "  ########## Content Classification Part ###############\n",
        "\n",
        "  fully_connected_CC = Dense(128,\n",
        "                        activation=\"tanh\",\n",
        "                        name=\"non_linear_CC\")\n",
        "\n",
        "  logits_CC = fully_connected_CC(encoder_outputs)\n",
        "\n",
        "  softmax_layer_CC = Dense(2,\n",
        "                      activation=\"softmax\",\n",
        "                      name=\"softmax_layer_CC\")\n",
        "\n",
        "  output_CC = softmax_layer_CC(logits_CC)\n",
        "\n",
        "\n",
        "  ######### Domain Classification Part ##############\n",
        "\n",
        "  fully_connected_DC = Dense(128,\n",
        "                        activation=\"tanh\",\n",
        "                        name=\"non_linear_DC\")\n",
        "\n",
        "  logits_DC = fully_connected_DC(encoder_outputs)\n",
        "\n",
        "  softmax_layer_DC = Dense(2,\n",
        "                      activation=\"softmax\",\n",
        "                      name=\"softmax_layer_DC\")\n",
        "\n",
        "  output_DC = softmax_layer_DC(logits_DC)\n",
        "\n",
        "\n",
        "  model = Model(inputs,[output_CC,output_DC])\n",
        "\n",
        "  return model\n",
        "\n"
      ],
      "execution_count": 0,
      "outputs": []
    },
    {
      "cell_type": "markdown",
      "metadata": {
        "id": "mrvdwQp2XC39",
        "colab_type": "text"
      },
      "source": [
        "## Building Plain Autoencoder"
      ]
    },
    {
      "cell_type": "code",
      "metadata": {
        "id": "8jcmhNNTW2hH",
        "colab_type": "code",
        "colab": {}
      },
      "source": [
        "def autoencoder(max_encoder_len,embedding_dim,latent_dim):\n",
        "  inputs = Input(shape=(max_encoder_len,),name=\"encoder_inputs\")\n",
        "\n",
        "\n",
        "  encoder_embedding = Embedding(vocab_len+1,embedding_dim,trainable=True,input_length=max_encoder_len,mask_zero=True,name=\"encoder_embedding\")\n",
        "\n",
        "  encoder_inputs = encoder_embedding(inputs)\n",
        "\n",
        "\n",
        "  encoder = LSTM(latent_dim,return_state=True)\n",
        "\n",
        "\n",
        "  encoder_outputs, state_h, state_c = encoder(encoder_inputs)\n",
        "\n",
        "\n",
        "  encoder_states = [state_h,state_c]\n",
        "\n",
        "  decoder_inputs = RepeatVector(max_encoder_len)(encoder_outputs)\n",
        "\n",
        "\n",
        "  decoder_lstm = LSTM(64, \n",
        "                          return_state=True,\n",
        "                          return_sequences=True,\n",
        "                          name = 'decoder_lstm')\n",
        "\n",
        "\n",
        "  decoder_outputs, _, _ = decoder_lstm(decoder_inputs,initial_state=encoder_states)\n",
        "\n",
        "\n",
        "  decoder_dense = Dense(vocab_len+1, \n",
        "                        activation='softmax', \n",
        "                        name = 'decoder_dense')\n",
        "  decoder_outputs = decoder_dense(decoder_outputs)\n",
        "\n",
        "\n",
        "\n",
        "  model = Model(inputs,decoder_outputs)\n",
        "\n",
        "  return model\n"
      ],
      "execution_count": 0,
      "outputs": []
    },
    {
      "cell_type": "markdown",
      "metadata": {
        "id": "E3Ei-jLknh-8",
        "colab_type": "text"
      },
      "source": [
        "## Building the Final model"
      ]
    },
    {
      "cell_type": "code",
      "metadata": {
        "id": "g3JeUaY8nh-9",
        "colab_type": "code",
        "colab": {}
      },
      "source": [
        "def final_model(max_encoder_len,embedding_dim,latent_dim,include_glove=False):\n",
        "  inputs = Input(shape=(max_encoder_len,),name=\"encoder_inputs\")\n",
        "\n",
        "\n",
        "  if include_glove:\n",
        "    encoder_embedding = Embedding(vocab_len+1,embedding_dim,trainable=False,weights=[embedding_matrix],input_length=max_encoder_len,mask_zero=True,name=\"encoder_embedding\")\n",
        "\n",
        "  else:\n",
        "    encoder_embedding = Embedding(vocab_len+1,embedding_dim,trainable=True,input_length=max_encoder_len,mask_zero=True,name=\"encoder_embedding\")\n",
        "\n",
        "  encoder_inputs = encoder_embedding(inputs)\n",
        "\n",
        "\n",
        "  encoder = LSTM(latent_dim,return_state=True)\n",
        "\n",
        "\n",
        "  encoder_outputs, state_h, state_c = encoder(encoder_inputs)\n",
        "\n",
        "\n",
        "  encoder_states = [state_h,state_c]\n",
        "\n",
        "\n",
        "  ########## Content Classification Part ###############\n",
        "\n",
        "  fully_connected_CC = Dense(128,\n",
        "                        activation=\"tanh\",\n",
        "                        name=\"non_linear_CC\")\n",
        "\n",
        "  logits_CC = fully_connected_CC(encoder_outputs)\n",
        "\n",
        "  softmax_layer_CC = Dense(2,\n",
        "                      activation=\"softmax\",\n",
        "                      name=\"softmax_layer_CC\")\n",
        "\n",
        "  output_CC = softmax_layer_CC(logits_CC)\n",
        "\n",
        "\n",
        "  ######### Domain Classification Part ##############\n",
        "\n",
        "  fully_connected_DC = Dense(128,\n",
        "                        activation=\"tanh\",\n",
        "                        name=\"non_linear_DC\")\n",
        "\n",
        "  logits_DC = fully_connected_DC(encoder_outputs)\n",
        "\n",
        "  softmax_layer_DC = Dense(2,\n",
        "                      activation=\"softmax\",\n",
        "                      name=\"softmax_layer_DC\")\n",
        "\n",
        "  output_DC = softmax_layer_DC(logits_DC)\n",
        "\n",
        "\n",
        "  ########### Autoencoder PART #############\n",
        "  decoder_inputs = RepeatVector(max_encoder_len)(encoder_outputs)\n",
        "\n",
        "\n",
        "  decoder_lstm = LSTM(64, \n",
        "                          return_state=True,\n",
        "                          return_sequences=True,\n",
        "                          name = 'decoder_lstm')\n",
        "\n",
        "\n",
        "  decoder_outputs, _, _ = decoder_lstm(decoder_inputs,initial_state=encoder_states)\n",
        "\n",
        "\n",
        "  decoder_dense = Dense(vocab_len+1, \n",
        "                        activation='softmax', \n",
        "                        name = 'decoder_dense')\n",
        "  decoder_outputs = decoder_dense(decoder_outputs)\n",
        "\n",
        "\n",
        "\n",
        "  model = Model(inputs,[decoder_outputs,output_CC,output_DC])\n",
        "\n",
        "  return model"
      ],
      "execution_count": 0,
      "outputs": []
    },
    {
      "cell_type": "code",
      "metadata": {
        "id": "AjysfxQRnh-_",
        "colab_type": "code",
        "colab": {}
      },
      "source": [
        "def print_model_summary(model):\n",
        "  model.summary()"
      ],
      "execution_count": 0,
      "outputs": []
    },
    {
      "cell_type": "code",
      "metadata": {
        "id": "DI1Jv6iZ-AZR",
        "colab_type": "code",
        "colab": {}
      },
      "source": [
        "# from keras import backend as K\n",
        "\n",
        "# def recall_m(y_true, y_pred):\n",
        "#         true_positives = K.sum(K.round(K.clip(y_true * y_pred, 0, 1)))\n",
        "#         possible_positives = K.sum(K.round(K.clip(y_true, 0, 1)))\n",
        "#         recall = true_positives / (possible_positives + K.epsilon())\n",
        "#         return recall\n",
        "\n",
        "# def precision_m(y_true, y_pred):\n",
        "#         true_positives = K.sum(K.round(K.clip(y_true * y_pred, 0, 1)))\n",
        "#         predicted_positives = K.sum(K.round(K.clip(y_pred, 0, 1)))\n",
        "#         precision = true_positives / (predicted_positives + K.epsilon())\n",
        "#         return precision\n",
        "\n",
        "# def f1_m(y_true, y_pred):\n",
        "#     precision = precision_m(y_true, y_pred)\n",
        "#     recall = recall_m(y_true, y_pred)\n",
        "#     return 2*((precision*recall)/(precision+recall+K.epsilon()))"
      ],
      "execution_count": 0,
      "outputs": []
    },
    {
      "cell_type": "markdown",
      "metadata": {
        "id": "Kxh20g_Nnh_f",
        "colab_type": "text"
      },
      "source": [
        "# Experiments"
      ]
    },
    {
      "cell_type": "markdown",
      "metadata": {
        "id": "y8730pJvpWYT",
        "colab_type": "text"
      },
      "source": [
        "## Experiment 1: Domain Specific Classification"
      ]
    },
    {
      "cell_type": "code",
      "metadata": {
        "colab_type": "code",
        "id": "NuWOxZrdgUFk",
        "colab": {}
      },
      "source": [
        "def prepare_training_data(df,vocab_size):\n",
        "  encoder_inputs = encoder_data(df)\n",
        "  y_cc = fake_news_target(df)\n",
        "  y_dc = domain_target(df)\n",
        "\n",
        "  shuffle = Shuffle(len(encoder_inputs)) ## Initializing the shuffle class instance\n",
        "  encoder_inputs = shuffle.shuffle(encoder_inputs)\n",
        "  y_cc = shuffle.shuffle(y_cc)\n",
        "  y_dc = shuffle.shuffle(y_dc) ## Not used\n",
        "\n",
        "  word2idx,idx2word,tokenizer = create_vocab(encoder_inputs,vocab_size)\n",
        "\n",
        "  vocab_len = len(word2idx)\n",
        "\n",
        "  encoder_inputs = pad_tokenize_data(encoder_inputs,max_sentence_length,tokenizer)\n",
        "\n",
        "  encoder_inputs,[decoder_target,y_cc,y_dc] = all_data_generator(encoder_inputs,y_cc,y_dc,max_sentence_length,word2idx)\n",
        "\n",
        "  train_X, test_X, train_Y, test_Y = train_test_split(encoder_inputs,y_cc,test_size=0.1,random_state=42)\n",
        "\n",
        "  return [[train_X, test_X, train_Y, test_Y],[word2idx,idx2word,tokenizer],vocab_len]\n",
        "\n",
        "  "
      ],
      "execution_count": 0,
      "outputs": []
    },
    {
      "cell_type": "code",
      "metadata": {
        "colab_type": "code",
        "id": "OKRQ4OfOgUFo",
        "colab": {}
      },
      "source": [
        "def prepare_testing_data(df,word2idx):\n",
        "  encoder_inputs = encoder_data(df)\n",
        "  y_cc = fake_news_target(df)\n",
        "  y_dc = domain_target(df)\n",
        "\n",
        "  encoder_inputs = pad_tokenize_data(encoder_inputs,max_sentence_length,tokenizer)\n",
        "\n",
        "  encoder_inputs,[decoder_target,y_cc,y_dc] = all_data_generator(encoder_inputs,y_cc,y_dc,max_sentence_length,word2idx)\n",
        "\n",
        "  return [encoder_inputs,[decoder_target,y_cc,y_dc]]\n",
        "\n"
      ],
      "execution_count": 0,
      "outputs": []
    },
    {
      "cell_type": "markdown",
      "metadata": {
        "id": "9diT-0X5AV2N",
        "colab_type": "text"
      },
      "source": [
        "### Training"
      ]
    },
    {
      "cell_type": "code",
      "metadata": {
        "id": "_Cy0rRie--Eh",
        "colab_type": "code",
        "colab": {}
      },
      "source": [
        "max_sentence_length = 100\n",
        "embedding_dim = 100\n",
        "latent_dim=64\n",
        "vocab_size=5000\n"
      ],
      "execution_count": 0,
      "outputs": []
    },
    {
      "cell_type": "code",
      "metadata": {
        "id": "DOs3lLPtK7Os",
        "colab_type": "code",
        "colab": {}
      },
      "source": [
        "[train_X, test_X, train_Y, test_Y],[word2idx,idx2word,tokenizer],vocab_len = prepare_training_data(domain1_frame,vocab_size=vocab_size)"
      ],
      "execution_count": 0,
      "outputs": []
    },
    {
      "cell_type": "code",
      "metadata": {
        "id": "HHN3fUK93YUD",
        "colab_type": "code",
        "colab": {}
      },
      "source": [
        "embedding_matrix = generate_glove_matrix(vocab_len)"
      ],
      "execution_count": 0,
      "outputs": []
    },
    {
      "cell_type": "code",
      "metadata": {
        "id": "xS8HHDmIxXZy",
        "colab_type": "code",
        "colab": {
          "base_uri": "https://localhost:8080/",
          "height": 190
        },
        "outputId": "718234df-4f2a-444b-cb4c-01028926e61b"
      },
      "source": [
        "model = classification_model(max_sentence_length,embedding_dim,latent_dim,include_glove=False)"
      ],
      "execution_count": 31,
      "outputs": [
        {
          "output_type": "stream",
          "text": [
            "WARNING:tensorflow:From /usr/local/lib/python3.6/dist-packages/keras/backend/tensorflow_backend.py:541: The name tf.placeholder is deprecated. Please use tf.compat.v1.placeholder instead.\n",
            "\n",
            "WARNING:tensorflow:From /usr/local/lib/python3.6/dist-packages/keras/backend/tensorflow_backend.py:4432: The name tf.random_uniform is deprecated. Please use tf.random.uniform instead.\n",
            "\n",
            "WARNING:tensorflow:From /usr/local/lib/python3.6/dist-packages/keras/backend/tensorflow_backend.py:66: The name tf.get_default_graph is deprecated. Please use tf.compat.v1.get_default_graph instead.\n",
            "\n",
            "WARNING:tensorflow:From /usr/local/lib/python3.6/dist-packages/keras/backend/tensorflow_backend.py:3239: where (from tensorflow.python.ops.array_ops) is deprecated and will be removed in a future version.\n",
            "Instructions for updating:\n",
            "Use tf.where in 2.0, which has the same broadcast rule as np.where\n"
          ],
          "name": "stdout"
        }
      ]
    },
    {
      "cell_type": "code",
      "metadata": {
        "id": "c2JegSpMzpLl",
        "colab_type": "code",
        "colab": {
          "base_uri": "https://localhost:8080/",
          "height": 323
        },
        "outputId": "f5d3afcb-c17b-413f-8691-0e505ce42047"
      },
      "source": [
        "print_model_summary(model)"
      ],
      "execution_count": 32,
      "outputs": [
        {
          "output_type": "stream",
          "text": [
            "Model: \"model_1\"\n",
            "_________________________________________________________________\n",
            "Layer (type)                 Output Shape              Param #   \n",
            "=================================================================\n",
            "encoder_inputs (InputLayer)  (None, 100)               0         \n",
            "_________________________________________________________________\n",
            "encoder_embedding (Embedding (None, 100, 100)          500200    \n",
            "_________________________________________________________________\n",
            "lstm_1 (LSTM)                [(None, 64), (None, 64),  42240     \n",
            "_________________________________________________________________\n",
            "non_linear_CC (Dense)        (None, 128)               8320      \n",
            "_________________________________________________________________\n",
            "softmax_layer_CC (Dense)     (None, 2)                 258       \n",
            "=================================================================\n",
            "Total params: 551,018\n",
            "Trainable params: 551,018\n",
            "Non-trainable params: 0\n",
            "_________________________________________________________________\n"
          ],
          "name": "stdout"
        }
      ]
    },
    {
      "cell_type": "code",
      "metadata": {
        "colab_type": "code",
        "outputId": "b56f4a56-3761-4392-ec47-b3b90bf0535b",
        "id": "da21p1aN0h-a",
        "colab": {
          "base_uri": "https://localhost:8080/",
          "height": 649
        }
      },
      "source": [
        "model.compile(optimizer=\"rmsprop\", loss='binary_crossentropy',metrics=['accuracy'])\n",
        "es = EarlyStopping(monitor='val_loss', mode='min', patience=5,verbose=1)\n",
        "history = model.fit(train_X, \n",
        "                    train_Y,\n",
        "                    batch_size=256,\n",
        "                    validation_split=0.1,\n",
        "#                     shuffle=True,\n",
        "                    callbacks=[es],\n",
        "                    epochs=30)"
      ],
      "execution_count": 33,
      "outputs": [
        {
          "output_type": "stream",
          "text": [
            "WARNING:tensorflow:From /usr/local/lib/python3.6/dist-packages/keras/optimizers.py:793: The name tf.train.Optimizer is deprecated. Please use tf.compat.v1.train.Optimizer instead.\n",
            "\n",
            "WARNING:tensorflow:From /usr/local/lib/python3.6/dist-packages/keras/backend/tensorflow_backend.py:3657: The name tf.log is deprecated. Please use tf.math.log instead.\n",
            "\n",
            "WARNING:tensorflow:From /usr/local/lib/python3.6/dist-packages/keras/backend/tensorflow_backend.py:1033: The name tf.assign_add is deprecated. Please use tf.compat.v1.assign_add instead.\n",
            "\n",
            "WARNING:tensorflow:From /usr/local/lib/python3.6/dist-packages/keras/backend/tensorflow_backend.py:1020: The name tf.assign is deprecated. Please use tf.compat.v1.assign instead.\n",
            "\n",
            "WARNING:tensorflow:From /usr/local/lib/python3.6/dist-packages/keras/backend/tensorflow_backend.py:3005: The name tf.Session is deprecated. Please use tf.compat.v1.Session instead.\n",
            "\n",
            "Train on 4710 samples, validate on 524 samples\n",
            "Epoch 1/30\n",
            "WARNING:tensorflow:From /usr/local/lib/python3.6/dist-packages/keras/backend/tensorflow_backend.py:190: The name tf.get_default_session is deprecated. Please use tf.compat.v1.get_default_session instead.\n",
            "\n",
            "WARNING:tensorflow:From /usr/local/lib/python3.6/dist-packages/keras/backend/tensorflow_backend.py:197: The name tf.ConfigProto is deprecated. Please use tf.compat.v1.ConfigProto instead.\n",
            "\n",
            "WARNING:tensorflow:From /usr/local/lib/python3.6/dist-packages/keras/backend/tensorflow_backend.py:207: The name tf.global_variables is deprecated. Please use tf.compat.v1.global_variables instead.\n",
            "\n",
            "WARNING:tensorflow:From /usr/local/lib/python3.6/dist-packages/keras/backend/tensorflow_backend.py:216: The name tf.is_variable_initialized is deprecated. Please use tf.compat.v1.is_variable_initialized instead.\n",
            "\n",
            "WARNING:tensorflow:From /usr/local/lib/python3.6/dist-packages/keras/backend/tensorflow_backend.py:223: The name tf.variables_initializer is deprecated. Please use tf.compat.v1.variables_initializer instead.\n",
            "\n",
            "4710/4710 [==============================] - 11s 2ms/step - loss: 0.6571 - acc: 0.6157 - val_loss: 0.6173 - val_acc: 0.7195\n",
            "Epoch 2/30\n",
            "4710/4710 [==============================] - 5s 1ms/step - loss: 0.5443 - acc: 0.7501 - val_loss: 0.5336 - val_acc: 0.7443\n",
            "Epoch 3/30\n",
            "4710/4710 [==============================] - 5s 1ms/step - loss: 0.4326 - acc: 0.8096 - val_loss: 0.6026 - val_acc: 0.6985\n",
            "Epoch 4/30\n",
            "4710/4710 [==============================] - 5s 1ms/step - loss: 0.3244 - acc: 0.8607 - val_loss: 0.6406 - val_acc: 0.6775\n",
            "Epoch 5/30\n",
            "4710/4710 [==============================] - 5s 1ms/step - loss: 0.2683 - acc: 0.8875 - val_loss: 0.7718 - val_acc: 0.7023\n",
            "Epoch 6/30\n",
            "4710/4710 [==============================] - 5s 1ms/step - loss: 0.2175 - acc: 0.9157 - val_loss: 0.9186 - val_acc: 0.6908\n",
            "Epoch 7/30\n",
            "4710/4710 [==============================] - 5s 1ms/step - loss: 0.1811 - acc: 0.9274 - val_loss: 0.8220 - val_acc: 0.7137\n",
            "Epoch 00007: early stopping\n"
          ],
          "name": "stdout"
        }
      ]
    },
    {
      "cell_type": "markdown",
      "metadata": {
        "id": "D6C6Hh4ZA1g2",
        "colab_type": "text"
      },
      "source": [
        "### Testing"
      ]
    },
    {
      "cell_type": "code",
      "metadata": {
        "id": "CkiddPt5A4W4",
        "colab_type": "code",
        "colab": {}
      },
      "source": [
        "y_pred = model.predict(test_X)\n",
        "y_pred = np.array([np.argmax(x) for x in y_pred])\n",
        "y_true = np.array([np.argmax(x) for x in test_Y])"
      ],
      "execution_count": 0,
      "outputs": []
    },
    {
      "cell_type": "code",
      "metadata": {
        "id": "p54c9j3hCAPy",
        "colab_type": "code",
        "colab": {
          "base_uri": "https://localhost:8080/",
          "height": 170
        },
        "outputId": "586ae564-34f5-4f4a-a0dc-e38a0c07d344"
      },
      "source": [
        "print(f\"Prediction acuracy on same domain is {round(accuracy_score(y_true,y_pred),2)}\")\n",
        "print(f\"Precision on same domain is {round(precision_score(y_true,y_pred),2)}\")\n",
        "print(f\"Recall on same domain is {round(recall_score(y_true,y_pred),2)}\")\n",
        "print(f\"F1 on same domain is {round(f1_score(y_true,y_pred),2)}\")\n",
        "cmtx = pd.DataFrame(\n",
        "    confusion_matrix(y_true, y_pred, labels=[1, 0]), \n",
        "    index=['true:Fake', 'true:Real'], \n",
        "    columns=['pred:Fake', 'pred:Real']\n",
        ")\n",
        "print(\"\\n\")\n",
        "print(cmtx)"
      ],
      "execution_count": 35,
      "outputs": [
        {
          "output_type": "stream",
          "text": [
            "Prediction acuracy on same domain is 0.71\n",
            "Precision on same domain is 0.66\n",
            "Recall on same domain is 0.54\n",
            "F1 on same domain is 0.6\n",
            "\n",
            "\n",
            "           pred:Fake  pred:Real\n",
            "true:Fake        123        103\n",
            "true:Real         64        292\n"
          ],
          "name": "stdout"
        }
      ]
    },
    {
      "cell_type": "code",
      "metadata": {
        "id": "YfNgPQOWEzj2",
        "colab_type": "code",
        "colab": {}
      },
      "source": [
        "d2_encoder_inputs,[decoder_target,d2_y_cc,d2_y_dc] = prepare_testing_data(domain2_frame,word2idx)"
      ],
      "execution_count": 0,
      "outputs": []
    },
    {
      "cell_type": "code",
      "metadata": {
        "id": "r7lzSpTOFG0i",
        "colab_type": "code",
        "colab": {}
      },
      "source": [
        "y_pred = model.predict(d2_encoder_inputs)\n",
        "y_pred = np.array([np.argmax(x) for x in y_pred])\n",
        "y_true = np.array([np.argmax(x) for x in d2_y_cc])"
      ],
      "execution_count": 0,
      "outputs": []
    },
    {
      "cell_type": "code",
      "metadata": {
        "id": "FUQ5NL62FjsX",
        "colab_type": "code",
        "colab": {
          "base_uri": "https://localhost:8080/",
          "height": 170
        },
        "outputId": "574ff07d-e831-4bf5-b771-fe93e7490d6c"
      },
      "source": [
        "print(f\"Prediction acuracy on different domain is {round(accuracy_score(y_true,y_pred),2)}\")\n",
        "print(f\"Precision on different domain is {round(precision_score(y_true,y_pred),2)}\")\n",
        "print(f\"Recall on different domain is {round(recall_score(y_true,y_pred),2)}\")\n",
        "print(f\"F1 on different domain is {round(f1_score(y_true,y_pred),2)}\")\n",
        "cmtx = pd.DataFrame(\n",
        "    confusion_matrix(y_true, y_pred, labels=[1, 0]), \n",
        "    index=['true:Fake', 'true:Real'], \n",
        "    columns=['pred:Fake', 'pred:Real']\n",
        ")\n",
        "print(\"\\n\")\n",
        "print(cmtx)"
      ],
      "execution_count": 38,
      "outputs": [
        {
          "output_type": "stream",
          "text": [
            "Prediction acuracy on different domain is 0.49\n",
            "Precision on different domain is 0.72\n",
            "Recall on different domain is 0.34\n",
            "F1 on different domain is 0.47\n",
            "\n",
            "\n",
            "           pred:Fake  pred:Real\n",
            "true:Fake         93        177\n",
            "true:Real         36        109\n"
          ],
          "name": "stdout"
        }
      ]
    },
    {
      "cell_type": "markdown",
      "metadata": {
        "id": "9KYqJF0HfTMF",
        "colab_type": "text"
      },
      "source": [
        "## Experiment 2: Domain Independent (No AutoEncoder)"
      ]
    },
    {
      "cell_type": "code",
      "metadata": {
        "colab_type": "code",
        "id": "wR7QvdNWgeGO",
        "colab": {}
      },
      "source": [
        "def prepare_training_data(df,vocab_size):\n",
        "  encoder_inputs = encoder_data(df)\n",
        "  y_cc = fake_news_target(df)\n",
        "  y_dc = domain_target(df)\n",
        "\n",
        "  shuffle = Shuffle(len(encoder_inputs)) ## Initializing the shuffle class instance\n",
        "  encoder_inputs = shuffle.shuffle(encoder_inputs)\n",
        "  y_cc = shuffle.shuffle(y_cc)\n",
        "  y_dc = shuffle.shuffle(y_dc) \n",
        "\n",
        "  word2idx,idx2word,tokenizer = create_vocab(encoder_inputs,vocab_size)\n",
        "\n",
        "  vocab_len = len(word2idx)\n",
        "\n",
        "  encoder_inputs = pad_tokenize_data(encoder_inputs,max_sentence_length,tokenizer)\n",
        "\n",
        "  encoder_inputs,[decoder_target,y_cc,y_dc] = all_data_generator(encoder_inputs,y_cc,y_dc,max_sentence_length,word2idx)\n",
        "\n",
        "  train_X, test_X, train_C_Y, test_C_Y,train_D_Y,test_D_Y = train_test_split(encoder_inputs,y_cc,y_dc,test_size=0.1,random_state=42)\n",
        "\n",
        "  return [[train_X, test_X, train_C_Y, test_C_Y,train_D_Y,test_D_Y],[word2idx,idx2word,tokenizer],vocab_len]\n",
        "\n",
        "  "
      ],
      "execution_count": 0,
      "outputs": []
    },
    {
      "cell_type": "markdown",
      "metadata": {
        "id": "Hc_K6oSQfkuO",
        "colab_type": "text"
      },
      "source": [
        "### Training"
      ]
    },
    {
      "cell_type": "code",
      "metadata": {
        "id": "keICwjnSfp3o",
        "colab_type": "code",
        "colab": {}
      },
      "source": [
        "max_sentence_length = 100\n",
        "embedding_dim = 100\n",
        "latent_dim=64\n",
        "vocab_size=2000"
      ],
      "execution_count": 0,
      "outputs": []
    },
    {
      "cell_type": "code",
      "metadata": {
        "id": "bhnGPEyPf-5m",
        "colab_type": "code",
        "colab": {}
      },
      "source": [
        "[train_X, test_X, train_C_Y, test_C_Y,train_D_Y,test_D_Y],[word2idx,idx2word,tokenizer],vocab_len = prepare_training_data(pd.concat([domain1_frame,domain2_frame]),vocab_size=vocab_size)"
      ],
      "execution_count": 0,
      "outputs": []
    },
    {
      "cell_type": "code",
      "metadata": {
        "id": "emlBUzKGiPBU",
        "colab_type": "code",
        "colab": {}
      },
      "source": [
        "model = classification_domain_model(max_sentence_length,embedding_dim,latent_dim,include_glove=False)"
      ],
      "execution_count": 0,
      "outputs": []
    },
    {
      "cell_type": "code",
      "metadata": {
        "id": "aGa5AlF9k3M8",
        "colab_type": "code",
        "colab": {
          "base_uri": "https://localhost:8080/",
          "height": 391
        },
        "outputId": "33bc3fc3-7da3-444a-efba-8c0a552d5691"
      },
      "source": [
        "print_model_summary(model)"
      ],
      "execution_count": 43,
      "outputs": [
        {
          "output_type": "stream",
          "text": [
            "Model: \"model_2\"\n",
            "__________________________________________________________________________________________________\n",
            "Layer (type)                    Output Shape         Param #     Connected to                     \n",
            "==================================================================================================\n",
            "encoder_inputs (InputLayer)     (None, 100)          0                                            \n",
            "__________________________________________________________________________________________________\n",
            "encoder_embedding (Embedding)   (None, 100, 100)     200200      encoder_inputs[0][0]             \n",
            "__________________________________________________________________________________________________\n",
            "lstm_2 (LSTM)                   [(None, 64), (None,  42240       encoder_embedding[0][0]          \n",
            "__________________________________________________________________________________________________\n",
            "non_linear_CC (Dense)           (None, 128)          8320        lstm_2[0][0]                     \n",
            "__________________________________________________________________________________________________\n",
            "non_linear_DC (Dense)           (None, 128)          8320        lstm_2[0][0]                     \n",
            "__________________________________________________________________________________________________\n",
            "softmax_layer_CC (Dense)        (None, 2)            258         non_linear_CC[0][0]              \n",
            "__________________________________________________________________________________________________\n",
            "softmax_layer_DC (Dense)        (None, 2)            258         non_linear_DC[0][0]              \n",
            "==================================================================================================\n",
            "Total params: 259,596\n",
            "Trainable params: 259,596\n",
            "Non-trainable params: 0\n",
            "__________________________________________________________________________________________________\n"
          ],
          "name": "stdout"
        }
      ]
    },
    {
      "cell_type": "code",
      "metadata": {
        "id": "CmYoKQDkk9tU",
        "colab_type": "code",
        "colab": {
          "base_uri": "https://localhost:8080/",
          "height": 581
        },
        "outputId": "69b91ab9-5e95-49ac-a731-0bfe4a04885e"
      },
      "source": [
        "model.compile(optimizer=\"rmsprop\", loss=['binary_crossentropy','binary_crossentropy'],loss_weights=[0.7,-0.1],metrics=['accuracy'])\n",
        "es = EarlyStopping(monitor='val_loss', mode='min', patience=5,verbose=1)\n",
        "history = model.fit(train_X, \n",
        "                    [train_C_Y,train_D_Y],\n",
        "                    batch_size=256,\n",
        "                    validation_split=0.1,\n",
        "#                     shuffle=True,\n",
        "                    callbacks=[es],\n",
        "                    epochs=30)"
      ],
      "execution_count": 44,
      "outputs": [
        {
          "output_type": "stream",
          "text": [
            "Train on 5046 samples, validate on 561 samples\n",
            "Epoch 1/30\n",
            "5046/5046 [==============================] - 7s 1ms/step - loss: -0.5075 - softmax_layer_CC_loss: 0.7095 - softmax_layer_DC_loss: 10.0411 - softmax_layer_CC_acc: 0.5717 - softmax_layer_DC_acc: 0.0912 - val_loss: -0.9816 - val_softmax_layer_CC_loss: 0.7290 - val_softmax_layer_DC_loss: 14.9187 - val_softmax_layer_CC_acc: 0.3939 - val_softmax_layer_DC_acc: 0.0677\n",
            "Epoch 2/30\n",
            "5046/5046 [==============================] - 6s 1ms/step - loss: -1.0040 - softmax_layer_CC_loss: 0.6950 - softmax_layer_DC_loss: 14.9045 - softmax_layer_CC_acc: 0.5476 - softmax_layer_DC_acc: 0.0670 - val_loss: -1.0252 - val_softmax_layer_CC_loss: 0.6702 - val_softmax_layer_DC_loss: 14.9429 - val_softmax_layer_CC_acc: 0.6061 - val_softmax_layer_DC_acc: 0.0677\n",
            "Epoch 3/30\n",
            "5046/5046 [==============================] - 5s 1ms/step - loss: -1.0084 - softmax_layer_CC_loss: 0.6923 - softmax_layer_DC_loss: 14.9304 - softmax_layer_CC_acc: 0.5468 - softmax_layer_DC_acc: 0.0670 - val_loss: -1.0151 - val_softmax_layer_CC_loss: 0.6848 - val_softmax_layer_DC_loss: 14.9444 - val_softmax_layer_CC_acc: 0.6114 - val_softmax_layer_DC_acc: 0.0677\n",
            "Epoch 4/30\n",
            "5046/5046 [==============================] - 5s 1ms/step - loss: -1.0187 - softmax_layer_CC_loss: 0.6799 - softmax_layer_DC_loss: 14.9467 - softmax_layer_CC_acc: 0.5914 - softmax_layer_DC_acc: 0.0670 - val_loss: -1.0276 - val_softmax_layer_CC_loss: 0.6669 - val_softmax_layer_DC_loss: 14.9444 - val_softmax_layer_CC_acc: 0.6061 - val_softmax_layer_DC_acc: 0.0677\n",
            "Epoch 5/30\n",
            "5046/5046 [==============================] - 5s 1ms/step - loss: -1.0171 - softmax_layer_CC_loss: 0.6829 - softmax_layer_DC_loss: 14.9514 - softmax_layer_CC_acc: 0.5719 - softmax_layer_DC_acc: 0.0670 - val_loss: -1.0262 - val_softmax_layer_CC_loss: 0.6689 - val_softmax_layer_DC_loss: 14.9444 - val_softmax_layer_CC_acc: 0.6150 - val_softmax_layer_DC_acc: 0.0677\n",
            "Epoch 6/30\n",
            "5046/5046 [==============================] - 6s 1ms/step - loss: -1.0416 - softmax_layer_CC_loss: 0.6482 - softmax_layer_DC_loss: 14.9531 - softmax_layer_CC_acc: 0.6338 - softmax_layer_DC_acc: 0.0670 - val_loss: -1.0441 - val_softmax_layer_CC_loss: 0.6433 - val_softmax_layer_DC_loss: 14.9444 - val_softmax_layer_CC_acc: 0.6364 - val_softmax_layer_DC_acc: 0.0677\n",
            "Epoch 7/30\n",
            "5046/5046 [==============================] - 5s 1ms/step - loss: -1.0735 - softmax_layer_CC_loss: 0.6023 - softmax_layer_DC_loss: 14.9515 - softmax_layer_CC_acc: 0.6734 - softmax_layer_DC_acc: 0.0670 - val_loss: -1.0570 - val_softmax_layer_CC_loss: 0.6248 - val_softmax_layer_DC_loss: 14.9431 - val_softmax_layer_CC_acc: 0.6399 - val_softmax_layer_DC_acc: 0.0677\n",
            "Epoch 8/30\n",
            "5046/5046 [==============================] - 5s 1ms/step - loss: -1.1127 - softmax_layer_CC_loss: 0.5470 - softmax_layer_DC_loss: 14.9557 - softmax_layer_CC_acc: 0.7226 - softmax_layer_DC_acc: 0.0670 - val_loss: -1.0504 - val_softmax_layer_CC_loss: 0.6344 - val_softmax_layer_DC_loss: 14.9444 - val_softmax_layer_CC_acc: 0.6471 - val_softmax_layer_DC_acc: 0.0677\n",
            "Epoch 9/30\n",
            "5046/5046 [==============================] - 5s 1ms/step - loss: -1.1390 - softmax_layer_CC_loss: 0.5095 - softmax_layer_DC_loss: 14.9565 - softmax_layer_CC_acc: 0.7432 - softmax_layer_DC_acc: 0.0670 - val_loss: -1.0046 - val_softmax_layer_CC_loss: 0.6998 - val_softmax_layer_DC_loss: 14.9443 - val_softmax_layer_CC_acc: 0.5918 - val_softmax_layer_DC_acc: 0.0677\n",
            "Epoch 10/30\n",
            "5046/5046 [==============================] - 5s 1ms/step - loss: -1.1622 - softmax_layer_CC_loss: 0.4763 - softmax_layer_DC_loss: 14.9565 - softmax_layer_CC_acc: 0.7598 - softmax_layer_DC_acc: 0.0670 - val_loss: -1.0589 - val_softmax_layer_CC_loss: 0.6221 - val_softmax_layer_DC_loss: 14.9444 - val_softmax_layer_CC_acc: 0.7094 - val_softmax_layer_DC_acc: 0.0677\n",
            "Epoch 11/30\n",
            "5046/5046 [==============================] - 5s 1ms/step - loss: -1.1798 - softmax_layer_CC_loss: 0.4513 - softmax_layer_DC_loss: 14.9565 - softmax_layer_CC_acc: 0.7856 - softmax_layer_DC_acc: 0.0670 - val_loss: -1.0539 - val_softmax_layer_CC_loss: 0.6294 - val_softmax_layer_DC_loss: 14.9444 - val_softmax_layer_CC_acc: 0.7112 - val_softmax_layer_DC_acc: 0.0677\n",
            "Epoch 12/30\n",
            "5046/5046 [==============================] - 5s 1ms/step - loss: -1.2096 - softmax_layer_CC_loss: 0.4086 - softmax_layer_DC_loss: 14.9565 - softmax_layer_CC_acc: 0.8145 - softmax_layer_DC_acc: 0.0670 - val_loss: -1.0445 - val_softmax_layer_CC_loss: 0.6427 - val_softmax_layer_DC_loss: 14.9444 - val_softmax_layer_CC_acc: 0.7255 - val_softmax_layer_DC_acc: 0.0677\n",
            "Epoch 13/30\n",
            "5046/5046 [==============================] - 5s 1ms/step - loss: -1.2247 - softmax_layer_CC_loss: 0.3871 - softmax_layer_DC_loss: 14.9565 - softmax_layer_CC_acc: 0.8292 - softmax_layer_DC_acc: 0.0670 - val_loss: -1.0276 - val_softmax_layer_CC_loss: 0.6670 - val_softmax_layer_DC_loss: 14.9444 - val_softmax_layer_CC_acc: 0.7273 - val_softmax_layer_DC_acc: 0.0677\n",
            "Epoch 14/30\n",
            "5046/5046 [==============================] - 5s 1ms/step - loss: -1.2484 - softmax_layer_CC_loss: 0.3532 - softmax_layer_DC_loss: 14.9565 - softmax_layer_CC_acc: 0.8438 - softmax_layer_DC_acc: 0.0670 - val_loss: -0.8816 - val_softmax_layer_CC_loss: 0.8755 - val_softmax_layer_DC_loss: 14.9444 - val_softmax_layer_CC_acc: 0.5971 - val_softmax_layer_DC_acc: 0.0677\n",
            "Epoch 15/30\n",
            "5046/5046 [==============================] - 6s 1ms/step - loss: -1.2598 - softmax_layer_CC_loss: 0.3369 - softmax_layer_DC_loss: 14.9560 - softmax_layer_CC_acc: 0.8516 - softmax_layer_DC_acc: 0.0670 - val_loss: -0.9664 - val_softmax_layer_CC_loss: 0.7544 - val_softmax_layer_DC_loss: 14.9444 - val_softmax_layer_CC_acc: 0.6916 - val_softmax_layer_DC_acc: 0.0677\n",
            "Epoch 00015: early stopping\n"
          ],
          "name": "stdout"
        }
      ]
    },
    {
      "cell_type": "markdown",
      "metadata": {
        "id": "Mp9jTacgl1Pc",
        "colab_type": "text"
      },
      "source": [
        "### Testing"
      ]
    },
    {
      "cell_type": "code",
      "metadata": {
        "colab_type": "code",
        "id": "tnqiES7XmDhi",
        "colab": {}
      },
      "source": [
        "y_pred,_ = model.predict(test_X)\n",
        "y_pred = np.array([np.argmax(x) for x in y_pred])\n",
        "y_true = np.array([np.argmax(x) for x in test_C_Y])"
      ],
      "execution_count": 0,
      "outputs": []
    },
    {
      "cell_type": "code",
      "metadata": {
        "colab_type": "code",
        "outputId": "80dae62f-830e-437a-bee7-af92fb58485e",
        "id": "0ZB-AWvnmDhl",
        "colab": {
          "base_uri": "https://localhost:8080/",
          "height": 170
        }
      },
      "source": [
        "print(f\"Prediction acuracy on both domains is {round(accuracy_score(y_true,y_pred),2)}\")\n",
        "print(f\"Precision on both domains is {round(precision_score(y_true,y_pred),2)}\")\n",
        "print(f\"Recall on both domains is {round(recall_score(y_true,y_pred),2)}\")\n",
        "print(f\"F1 on both domains is {round(f1_score(y_true,y_pred),2)}\")\n",
        "cmtx = pd.DataFrame(\n",
        "    confusion_matrix(y_true, y_pred, labels=[1, 0]), \n",
        "    index=['true:Fake', 'true:Real'], \n",
        "    columns=['pred:Fake', 'pred:Real']\n",
        ")\n",
        "print(\"\\n\")\n",
        "print(cmtx)"
      ],
      "execution_count": 46,
      "outputs": [
        {
          "output_type": "stream",
          "text": [
            "Prediction acuracy on both domains is 0.75\n",
            "Precision on both domains is 0.66\n",
            "Recall on both domains is 0.51\n",
            "F1 on both domains is 0.58\n",
            "\n",
            "\n",
            "           pred:Fake  pred:Real\n",
            "true:Fake        108        103\n",
            "true:Real         56        357\n"
          ],
          "name": "stdout"
        }
      ]
    },
    {
      "cell_type": "markdown",
      "metadata": {
        "id": "ekCy1pkrm3DR",
        "colab_type": "text"
      },
      "source": [
        "## Experiment 3: Domain Independent (With AutoEncoder)"
      ]
    },
    {
      "cell_type": "code",
      "metadata": {
        "id": "RxtR_goVoeSW",
        "colab_type": "code",
        "colab": {}
      },
      "source": [
        "def prepare_training_data(df,vocab_size):\n",
        "  encoder_inputs = encoder_data(df)\n",
        "  y_cc = fake_news_target(df)\n",
        "  y_dc = domain_target(df)\n",
        "\n",
        "  shuffle = Shuffle(len(encoder_inputs)) ## Initializing the shuffle class instance\n",
        "  encoder_inputs = shuffle.shuffle(encoder_inputs)\n",
        "  y_cc = shuffle.shuffle(y_cc)\n",
        "  y_dc = shuffle.shuffle(y_dc)\n",
        "\n",
        "  word2idx,idx2word,tokenizer = create_vocab(encoder_inputs,vocab_size)\n",
        "\n",
        "  vocab_len = len(word2idx)\n",
        "\n",
        "  encoder_inputs = pad_tokenize_data(encoder_inputs,max_sentence_length,tokenizer)\n",
        "\n",
        "  encoder_inputs,[decoder_target,y_cc,y_dc] = all_data_generator(encoder_inputs,y_cc,y_dc,max_sentence_length,word2idx)\n",
        "\n",
        "  train_X, test_X, train_decoder_Y,test_decoder_Y,train_C_Y, test_C_Y,train_D_Y,test_D_Y = train_test_split(encoder_inputs,decoder_target,y_cc,y_dc,test_size=0.1,random_state=42)\n",
        "\n",
        "  return [[train_X, test_X, train_decoder_Y,test_decoder_Y,train_C_Y, test_C_Y,train_D_Y,test_D_Y],[word2idx,idx2word,tokenizer],vocab_len]"
      ],
      "execution_count": 0,
      "outputs": []
    },
    {
      "cell_type": "markdown",
      "metadata": {
        "id": "9NqXbLB3nFLD",
        "colab_type": "text"
      },
      "source": [
        "### Training"
      ]
    },
    {
      "cell_type": "code",
      "metadata": {
        "id": "L14kvYn5qoPl",
        "colab_type": "code",
        "colab": {}
      },
      "source": [
        "max_sentence_length = 100\n",
        "embedding_dim = 100\n",
        "latent_dim=64\n",
        "vocab_size=2000"
      ],
      "execution_count": 0,
      "outputs": []
    },
    {
      "cell_type": "code",
      "metadata": {
        "id": "3rpAg1byqy-j",
        "colab_type": "code",
        "colab": {}
      },
      "source": [
        "[train_X, test_X, train_decoder_Y,test_decoder_Y,train_C_Y, test_C_Y,train_D_Y,test_D_Y],[word2idx,idx2word,tokenizer],vocab_len = prepare_training_data(pd.concat([domain1_frame,domain2_frame]),vocab_size)"
      ],
      "execution_count": 0,
      "outputs": []
    },
    {
      "cell_type": "code",
      "metadata": {
        "id": "F3LsugfOr_y-",
        "colab_type": "code",
        "colab": {
          "base_uri": "https://localhost:8080/",
          "height": 190
        },
        "outputId": "efc10d9f-9bdb-4c16-c4a5-90246d0cc154"
      },
      "source": [
        "model = final_model(max_sentence_length,embedding_dim,latent_dim,include_glove=False)"
      ],
      "execution_count": 25,
      "outputs": [
        {
          "output_type": "stream",
          "text": [
            "WARNING:tensorflow:From /usr/local/lib/python3.6/dist-packages/keras/backend/tensorflow_backend.py:541: The name tf.placeholder is deprecated. Please use tf.compat.v1.placeholder instead.\n",
            "\n",
            "WARNING:tensorflow:From /usr/local/lib/python3.6/dist-packages/keras/backend/tensorflow_backend.py:4432: The name tf.random_uniform is deprecated. Please use tf.random.uniform instead.\n",
            "\n",
            "WARNING:tensorflow:From /usr/local/lib/python3.6/dist-packages/keras/backend/tensorflow_backend.py:66: The name tf.get_default_graph is deprecated. Please use tf.compat.v1.get_default_graph instead.\n",
            "\n",
            "WARNING:tensorflow:From /usr/local/lib/python3.6/dist-packages/keras/backend/tensorflow_backend.py:3239: where (from tensorflow.python.ops.array_ops) is deprecated and will be removed in a future version.\n",
            "Instructions for updating:\n",
            "Use tf.where in 2.0, which has the same broadcast rule as np.where\n"
          ],
          "name": "stdout"
        }
      ]
    },
    {
      "cell_type": "code",
      "metadata": {
        "id": "R-GmodrGsuPL",
        "colab_type": "code",
        "colab": {
          "base_uri": "https://localhost:8080/",
          "height": 527
        },
        "outputId": "96c25931-b759-4046-87cf-d7162c671dcd"
      },
      "source": [
        "print_model_summary(model)"
      ],
      "execution_count": 26,
      "outputs": [
        {
          "output_type": "stream",
          "text": [
            "Model: \"model_1\"\n",
            "__________________________________________________________________________________________________\n",
            "Layer (type)                    Output Shape         Param #     Connected to                     \n",
            "==================================================================================================\n",
            "encoder_inputs (InputLayer)     (None, 100)          0                                            \n",
            "__________________________________________________________________________________________________\n",
            "encoder_embedding (Embedding)   (None, 100, 100)     200200      encoder_inputs[0][0]             \n",
            "__________________________________________________________________________________________________\n",
            "lstm_1 (LSTM)                   [(None, 64), (None,  42240       encoder_embedding[0][0]          \n",
            "__________________________________________________________________________________________________\n",
            "repeat_vector_1 (RepeatVector)  (None, 100, 64)      0           lstm_1[0][0]                     \n",
            "__________________________________________________________________________________________________\n",
            "decoder_lstm (LSTM)             [(None, 100, 64), (N 33024       repeat_vector_1[0][0]            \n",
            "                                                                 lstm_1[0][1]                     \n",
            "                                                                 lstm_1[0][2]                     \n",
            "__________________________________________________________________________________________________\n",
            "non_linear_CC (Dense)           (None, 128)          8320        lstm_1[0][0]                     \n",
            "__________________________________________________________________________________________________\n",
            "non_linear_DC (Dense)           (None, 128)          8320        lstm_1[0][0]                     \n",
            "__________________________________________________________________________________________________\n",
            "decoder_dense (Dense)           (None, 100, 2002)    130130      decoder_lstm[0][0]               \n",
            "__________________________________________________________________________________________________\n",
            "softmax_layer_CC (Dense)        (None, 2)            258         non_linear_CC[0][0]              \n",
            "__________________________________________________________________________________________________\n",
            "softmax_layer_DC (Dense)        (None, 2)            258         non_linear_DC[0][0]              \n",
            "==================================================================================================\n",
            "Total params: 422,750\n",
            "Trainable params: 422,750\n",
            "Non-trainable params: 0\n",
            "__________________________________________________________________________________________________\n"
          ],
          "name": "stdout"
        }
      ]
    },
    {
      "cell_type": "code",
      "metadata": {
        "id": "1oSWVrCQs03K",
        "colab_type": "code",
        "colab": {
          "base_uri": "https://localhost:8080/",
          "height": 1000
        },
        "outputId": "7d39efa3-6440-4244-fcdf-39d39bb76841"
      },
      "source": [
        "model.compile(optimizer=\"rmsprop\", loss=['categorical_crossentropy','binary_crossentropy','binary_crossentropy'],loss_weights=[0.5,0.8,-0.1],metrics=['accuracy'])\n",
        "es = EarlyStopping(monitor='val_loss', mode='min', patience=30,verbose=1)\n",
        "history = model.fit(train_X, \n",
        "                    [train_decoder_Y,train_C_Y,train_D_Y],\n",
        "                    batch_size=256,\n",
        "                    validation_split=0.1,\n",
        "#                     shuffle=True,\n",
        "                    callbacks=[es],\n",
        "                    epochs=800)"
      ],
      "execution_count": 27,
      "outputs": [
        {
          "output_type": "stream",
          "text": [
            "WARNING:tensorflow:From /usr/local/lib/python3.6/dist-packages/keras/optimizers.py:793: The name tf.train.Optimizer is deprecated. Please use tf.compat.v1.train.Optimizer instead.\n",
            "\n",
            "WARNING:tensorflow:From /usr/local/lib/python3.6/dist-packages/keras/backend/tensorflow_backend.py:3576: The name tf.log is deprecated. Please use tf.math.log instead.\n",
            "\n",
            "WARNING:tensorflow:From /usr/local/lib/python3.6/dist-packages/keras/backend/tensorflow_backend.py:1033: The name tf.assign_add is deprecated. Please use tf.compat.v1.assign_add instead.\n",
            "\n",
            "WARNING:tensorflow:From /usr/local/lib/python3.6/dist-packages/keras/backend/tensorflow_backend.py:1020: The name tf.assign is deprecated. Please use tf.compat.v1.assign instead.\n",
            "\n",
            "WARNING:tensorflow:From /usr/local/lib/python3.6/dist-packages/keras/backend/tensorflow_backend.py:3005: The name tf.Session is deprecated. Please use tf.compat.v1.Session instead.\n",
            "\n",
            "Train on 5046 samples, validate on 561 samples\n",
            "Epoch 1/800\n",
            "WARNING:tensorflow:From /usr/local/lib/python3.6/dist-packages/keras/backend/tensorflow_backend.py:190: The name tf.get_default_session is deprecated. Please use tf.compat.v1.get_default_session instead.\n",
            "\n",
            "WARNING:tensorflow:From /usr/local/lib/python3.6/dist-packages/keras/backend/tensorflow_backend.py:197: The name tf.ConfigProto is deprecated. Please use tf.compat.v1.ConfigProto instead.\n",
            "\n",
            "WARNING:tensorflow:From /usr/local/lib/python3.6/dist-packages/keras/backend/tensorflow_backend.py:207: The name tf.global_variables is deprecated. Please use tf.compat.v1.global_variables instead.\n",
            "\n",
            "WARNING:tensorflow:From /usr/local/lib/python3.6/dist-packages/keras/backend/tensorflow_backend.py:216: The name tf.is_variable_initialized is deprecated. Please use tf.compat.v1.is_variable_initialized instead.\n",
            "\n",
            "WARNING:tensorflow:From /usr/local/lib/python3.6/dist-packages/keras/backend/tensorflow_backend.py:223: The name tf.variables_initializer is deprecated. Please use tf.compat.v1.variables_initializer instead.\n",
            "\n",
            "5046/5046 [==============================] - 23s 4ms/step - loss: 2.7685 - decoder_dense_loss: 6.4360 - softmax_layer_CC_loss: 0.6983 - softmax_layer_DC_loss: 10.0813 - decoder_dense_acc: 0.1876 - softmax_layer_CC_acc: 0.5656 - softmax_layer_DC_acc: 0.0977 - val_loss: 1.7983 - val_decoder_dense_loss: 5.4526 - val_softmax_layer_CC_loss: 0.6885 - val_softmax_layer_DC_loss: 14.7882 - val_decoder_dense_acc: 0.2062 - val_softmax_layer_CC_acc: 0.5793 - val_softmax_layer_DC_acc: 0.0749\n",
            "Epoch 2/800\n",
            "5046/5046 [==============================] - 16s 3ms/step - loss: 1.7053 - decoder_dense_loss: 5.3022 - softmax_layer_CC_loss: 0.6837 - softmax_layer_DC_loss: 14.9274 - decoder_dense_acc: 0.2058 - softmax_layer_CC_acc: 0.5805 - softmax_layer_DC_acc: 0.0658 - val_loss: 1.6928 - val_decoder_dense_loss: 5.2286 - val_softmax_layer_CC_loss: 0.6984 - val_softmax_layer_DC_loss: 14.8022 - val_decoder_dense_acc: 0.2087 - val_softmax_layer_CC_acc: 0.5775 - val_softmax_layer_DC_acc: 0.0749\n",
            "Epoch 3/800\n",
            "5046/5046 [==============================] - 16s 3ms/step - loss: 1.6598 - decoder_dense_loss: 5.2082 - softmax_layer_CC_loss: 0.6884 - softmax_layer_DC_loss: 14.9498 - decoder_dense_acc: 0.2064 - softmax_layer_CC_acc: 0.5694 - softmax_layer_DC_acc: 0.0658 - val_loss: 1.6718 - val_decoder_dense_loss: 5.2094 - val_softmax_layer_CC_loss: 0.6851 - val_softmax_layer_DC_loss: 14.8093 - val_decoder_dense_acc: 0.2087 - val_softmax_layer_CC_acc: 0.6132 - val_softmax_layer_DC_acc: 0.0749\n",
            "Epoch 4/800\n",
            "5046/5046 [==============================] - 16s 3ms/step - loss: 1.6389 - decoder_dense_loss: 5.1991 - softmax_layer_CC_loss: 0.6697 - softmax_layer_DC_loss: 14.9644 - decoder_dense_acc: 0.2064 - softmax_layer_CC_acc: 0.6090 - softmax_layer_DC_acc: 0.0658 - val_loss: 1.6715 - val_decoder_dense_loss: 5.2080 - val_softmax_layer_CC_loss: 0.6861 - val_softmax_layer_DC_loss: 14.8139 - val_decoder_dense_acc: 0.2087 - val_softmax_layer_CC_acc: 0.5775 - val_softmax_layer_DC_acc: 0.0749\n",
            "Epoch 5/800\n",
            "5046/5046 [==============================] - 16s 3ms/step - loss: 1.6202 - decoder_dense_loss: 5.1975 - softmax_layer_CC_loss: 0.6482 - softmax_layer_DC_loss: 14.9711 - decoder_dense_acc: 0.2064 - softmax_layer_CC_acc: 0.6381 - softmax_layer_DC_acc: 0.0658 - val_loss: 1.6391 - val_decoder_dense_loss: 5.2063 - val_softmax_layer_CC_loss: 0.6460 - val_softmax_layer_DC_loss: 14.8087 - val_decoder_dense_acc: 0.2087 - val_softmax_layer_CC_acc: 0.6257 - val_softmax_layer_DC_acc: 0.0749\n",
            "Epoch 6/800\n",
            "5046/5046 [==============================] - 16s 3ms/step - loss: 1.5766 - decoder_dense_loss: 5.1963 - softmax_layer_CC_loss: 0.5946 - softmax_layer_DC_loss: 14.9724 - decoder_dense_acc: 0.2064 - softmax_layer_CC_acc: 0.6966 - softmax_layer_DC_acc: 0.0658 - val_loss: 1.6075 - val_decoder_dense_loss: 5.2053 - val_softmax_layer_CC_loss: 0.6071 - val_softmax_layer_DC_loss: 14.8079 - val_decoder_dense_acc: 0.2087 - val_softmax_layer_CC_acc: 0.6684 - val_softmax_layer_DC_acc: 0.0749\n",
            "Epoch 7/800\n",
            "5046/5046 [==============================] - 16s 3ms/step - loss: 1.5451 - decoder_dense_loss: 5.1946 - softmax_layer_CC_loss: 0.5566 - softmax_layer_DC_loss: 14.9749 - decoder_dense_acc: 0.2064 - softmax_layer_CC_acc: 0.7172 - softmax_layer_DC_acc: 0.0658 - val_loss: 1.5992 - val_decoder_dense_loss: 5.2073 - val_softmax_layer_CC_loss: 0.5964 - val_softmax_layer_DC_loss: 14.8155 - val_decoder_dense_acc: 0.2087 - val_softmax_layer_CC_acc: 0.6881 - val_softmax_layer_DC_acc: 0.0749\n",
            "Epoch 8/800\n",
            "5046/5046 [==============================] - 16s 3ms/step - loss: 1.5016 - decoder_dense_loss: 5.1927 - softmax_layer_CC_loss: 0.5035 - softmax_layer_DC_loss: 14.9754 - decoder_dense_acc: 0.2064 - softmax_layer_CC_acc: 0.7600 - softmax_layer_DC_acc: 0.0658 - val_loss: 1.6144 - val_decoder_dense_loss: 5.2030 - val_softmax_layer_CC_loss: 0.6185 - val_softmax_layer_DC_loss: 14.8196 - val_decoder_dense_acc: 0.2087 - val_softmax_layer_CC_acc: 0.6631 - val_softmax_layer_DC_acc: 0.0749\n",
            "Epoch 9/800\n",
            "5046/5046 [==============================] - 16s 3ms/step - loss: 1.4861 - decoder_dense_loss: 5.1905 - softmax_layer_CC_loss: 0.4854 - softmax_layer_DC_loss: 14.9754 - decoder_dense_acc: 0.2064 - softmax_layer_CC_acc: 0.7723 - softmax_layer_DC_acc: 0.0658 - val_loss: 1.6472 - val_decoder_dense_loss: 5.2010 - val_softmax_layer_CC_loss: 0.6614 - val_softmax_layer_DC_loss: 14.8238 - val_decoder_dense_acc: 0.2087 - val_softmax_layer_CC_acc: 0.6524 - val_softmax_layer_DC_acc: 0.0749\n",
            "Epoch 10/800\n",
            "5046/5046 [==============================] - 16s 3ms/step - loss: 1.4711 - decoder_dense_loss: 5.1875 - softmax_layer_CC_loss: 0.4685 - softmax_layer_DC_loss: 14.9755 - decoder_dense_acc: 0.2064 - softmax_layer_CC_acc: 0.7854 - softmax_layer_DC_acc: 0.0658 - val_loss: 1.5946 - val_decoder_dense_loss: 5.1977 - val_softmax_layer_CC_loss: 0.5984 - val_softmax_layer_DC_loss: 14.8289 - val_decoder_dense_acc: 0.2087 - val_softmax_layer_CC_acc: 0.7112 - val_softmax_layer_DC_acc: 0.0749\n",
            "Epoch 11/800\n",
            "5046/5046 [==============================] - 16s 3ms/step - loss: 1.4485 - decoder_dense_loss: 5.1837 - softmax_layer_CC_loss: 0.4427 - softmax_layer_DC_loss: 14.9755 - decoder_dense_acc: 0.2064 - softmax_layer_CC_acc: 0.7992 - softmax_layer_DC_acc: 0.0658 - val_loss: 1.6480 - val_decoder_dense_loss: 5.1931 - val_softmax_layer_CC_loss: 0.6680 - val_softmax_layer_DC_loss: 14.8301 - val_decoder_dense_acc: 0.2087 - val_softmax_layer_CC_acc: 0.6702 - val_softmax_layer_DC_acc: 0.0749\n",
            "Epoch 12/800\n",
            "5046/5046 [==============================] - 16s 3ms/step - loss: 1.4312 - decoder_dense_loss: 5.1798 - softmax_layer_CC_loss: 0.4235 - softmax_layer_DC_loss: 14.9754 - decoder_dense_acc: 0.2064 - softmax_layer_CC_acc: 0.8133 - softmax_layer_DC_acc: 0.0658 - val_loss: 1.5957 - val_decoder_dense_loss: 5.1864 - val_softmax_layer_CC_loss: 0.6069 - val_softmax_layer_DC_loss: 14.8301 - val_decoder_dense_acc: 0.2087 - val_softmax_layer_CC_acc: 0.7130 - val_softmax_layer_DC_acc: 0.0749\n",
            "Epoch 13/800\n",
            "5046/5046 [==============================] - 16s 3ms/step - loss: 1.4108 - decoder_dense_loss: 5.1752 - softmax_layer_CC_loss: 0.4009 - softmax_layer_DC_loss: 14.9755 - decoder_dense_acc: 0.2064 - softmax_layer_CC_acc: 0.8234 - softmax_layer_DC_acc: 0.0658 - val_loss: 1.6105 - val_decoder_dense_loss: 5.1827 - val_softmax_layer_CC_loss: 0.6277 - val_softmax_layer_DC_loss: 14.8301 - val_decoder_dense_acc: 0.2087 - val_softmax_layer_CC_acc: 0.7094 - val_softmax_layer_DC_acc: 0.0749\n",
            "Epoch 14/800\n",
            "5046/5046 [==============================] - 16s 3ms/step - loss: 1.3940 - decoder_dense_loss: 5.1702 - softmax_layer_CC_loss: 0.3830 - softmax_layer_DC_loss: 14.9755 - decoder_dense_acc: 0.2064 - softmax_layer_CC_acc: 0.8333 - softmax_layer_DC_acc: 0.0658 - val_loss: 1.6345 - val_decoder_dense_loss: 5.1819 - val_softmax_layer_CC_loss: 0.6582 - val_softmax_layer_DC_loss: 14.8301 - val_decoder_dense_acc: 0.2087 - val_softmax_layer_CC_acc: 0.6863 - val_softmax_layer_DC_acc: 0.0749\n",
            "Epoch 15/800\n",
            "5046/5046 [==============================] - 16s 3ms/step - loss: 1.3918 - decoder_dense_loss: 5.1674 - softmax_layer_CC_loss: 0.3820 - softmax_layer_DC_loss: 14.9755 - decoder_dense_acc: 0.2064 - softmax_layer_CC_acc: 0.8333 - softmax_layer_DC_acc: 0.0658 - val_loss: 1.6200 - val_decoder_dense_loss: 5.1721 - val_softmax_layer_CC_loss: 0.6463 - val_softmax_layer_DC_loss: 14.8301 - val_decoder_dense_acc: 0.2087 - val_softmax_layer_CC_acc: 0.7201 - val_softmax_layer_DC_acc: 0.0749\n",
            "Epoch 16/800\n",
            "5046/5046 [==============================] - 16s 3ms/step - loss: 1.3583 - decoder_dense_loss: 5.1611 - softmax_layer_CC_loss: 0.3442 - softmax_layer_DC_loss: 14.9755 - decoder_dense_acc: 0.2064 - softmax_layer_CC_acc: 0.8557 - softmax_layer_DC_acc: 0.0658 - val_loss: 1.6511 - val_decoder_dense_loss: 5.1724 - val_softmax_layer_CC_loss: 0.6849 - val_softmax_layer_DC_loss: 14.8301 - val_decoder_dense_acc: 0.2087 - val_softmax_layer_CC_acc: 0.6791 - val_softmax_layer_DC_acc: 0.0749\n",
            "Epoch 17/800\n",
            "5046/5046 [==============================] - 16s 3ms/step - loss: 1.3458 - decoder_dense_loss: 5.1558 - softmax_layer_CC_loss: 0.3319 - softmax_layer_DC_loss: 14.9755 - decoder_dense_acc: 0.2064 - softmax_layer_CC_acc: 0.8629 - softmax_layer_DC_acc: 0.0658 - val_loss: 1.6540 - val_decoder_dense_loss: 5.1647 - val_softmax_layer_CC_loss: 0.6934 - val_softmax_layer_DC_loss: 14.8301 - val_decoder_dense_acc: 0.2087 - val_softmax_layer_CC_acc: 0.7023 - val_softmax_layer_DC_acc: 0.0749\n",
            "Epoch 18/800\n",
            "5046/5046 [==============================] - 16s 3ms/step - loss: 1.3358 - decoder_dense_loss: 5.1515 - softmax_layer_CC_loss: 0.3220 - softmax_layer_DC_loss: 14.9755 - decoder_dense_acc: 0.2064 - softmax_layer_CC_acc: 0.8633 - softmax_layer_DC_acc: 0.0658 - val_loss: 1.6686 - val_decoder_dense_loss: 5.1565 - val_softmax_layer_CC_loss: 0.7166 - val_softmax_layer_DC_loss: 14.8301 - val_decoder_dense_acc: 0.2087 - val_softmax_layer_CC_acc: 0.7148 - val_softmax_layer_DC_acc: 0.0749\n",
            "Epoch 19/800\n",
            "5046/5046 [==============================] - 16s 3ms/step - loss: 1.3157 - decoder_dense_loss: 5.1435 - softmax_layer_CC_loss: 0.3019 - softmax_layer_DC_loss: 14.9755 - decoder_dense_acc: 0.2064 - softmax_layer_CC_acc: 0.8736 - softmax_layer_DC_acc: 0.0658 - val_loss: 1.6905 - val_decoder_dense_loss: 5.1610 - val_softmax_layer_CC_loss: 0.7412 - val_softmax_layer_DC_loss: 14.8301 - val_decoder_dense_acc: 0.2087 - val_softmax_layer_CC_acc: 0.7077 - val_softmax_layer_DC_acc: 0.0749\n",
            "Epoch 20/800\n",
            "5046/5046 [==============================] - 16s 3ms/step - loss: 1.2994 - decoder_dense_loss: 5.1395 - softmax_layer_CC_loss: 0.2840 - softmax_layer_DC_loss: 14.9755 - decoder_dense_acc: 0.2069 - softmax_layer_CC_acc: 0.8855 - softmax_layer_DC_acc: 0.0658 - val_loss: 1.7087 - val_decoder_dense_loss: 5.1522 - val_softmax_layer_CC_loss: 0.7695 - val_softmax_layer_DC_loss: 14.8301 - val_decoder_dense_acc: 0.2087 - val_softmax_layer_CC_acc: 0.6988 - val_softmax_layer_DC_acc: 0.0749\n",
            "Epoch 21/800\n",
            "5046/5046 [==============================] - 16s 3ms/step - loss: 1.2790 - decoder_dense_loss: 5.1342 - softmax_layer_CC_loss: 0.2618 - softmax_layer_DC_loss: 14.9755 - decoder_dense_acc: 0.2135 - softmax_layer_CC_acc: 0.8964 - softmax_layer_DC_acc: 0.0658 - val_loss: 1.7012 - val_decoder_dense_loss: 5.1464 - val_softmax_layer_CC_loss: 0.7637 - val_softmax_layer_DC_loss: 14.8301 - val_decoder_dense_acc: 0.2170 - val_softmax_layer_CC_acc: 0.7130 - val_softmax_layer_DC_acc: 0.0749\n",
            "Epoch 22/800\n",
            "5046/5046 [==============================] - 16s 3ms/step - loss: 1.2642 - decoder_dense_loss: 5.1259 - softmax_layer_CC_loss: 0.2486 - softmax_layer_DC_loss: 14.9755 - decoder_dense_acc: 0.2195 - softmax_layer_CC_acc: 0.9019 - softmax_layer_DC_acc: 0.0658 - val_loss: 1.7390 - val_decoder_dense_loss: 5.1462 - val_softmax_layer_CC_loss: 0.8111 - val_softmax_layer_DC_loss: 14.8301 - val_decoder_dense_acc: 0.2184 - val_softmax_layer_CC_acc: 0.7166 - val_softmax_layer_DC_acc: 0.0749\n",
            "Epoch 23/800\n",
            "5046/5046 [==============================] - 16s 3ms/step - loss: 1.2483 - decoder_dense_loss: 5.1167 - softmax_layer_CC_loss: 0.2343 - softmax_layer_DC_loss: 14.9754 - decoder_dense_acc: 0.2254 - softmax_layer_CC_acc: 0.9023 - softmax_layer_DC_acc: 0.0658 - val_loss: 1.8672 - val_decoder_dense_loss: 5.1808 - val_softmax_layer_CC_loss: 0.9201 - val_softmax_layer_DC_loss: 14.5925 - val_decoder_dense_acc: 0.1963 - val_softmax_layer_CC_acc: 0.6970 - val_softmax_layer_DC_acc: 0.0749\n",
            "Epoch 24/800\n",
            "5046/5046 [==============================] - 16s 3ms/step - loss: 1.2248 - decoder_dense_loss: 5.1053 - softmax_layer_CC_loss: 0.2105 - softmax_layer_DC_loss: 14.9624 - decoder_dense_acc: 0.2262 - softmax_layer_CC_acc: 0.9182 - softmax_layer_DC_acc: 0.0658 - val_loss: 1.7732 - val_decoder_dense_loss: 5.1179 - val_softmax_layer_CC_loss: 0.8715 - val_softmax_layer_DC_loss: 14.8301 - val_decoder_dense_acc: 0.2300 - val_softmax_layer_CC_acc: 0.6952 - val_softmax_layer_DC_acc: 0.0749\n",
            "Epoch 25/800\n",
            "5046/5046 [==============================] - 16s 3ms/step - loss: 1.2026 - decoder_dense_loss: 5.0968 - softmax_layer_CC_loss: 0.1897 - softmax_layer_DC_loss: 14.9755 - decoder_dense_acc: 0.2316 - softmax_layer_CC_acc: 0.9253 - softmax_layer_DC_acc: 0.0658 - val_loss: 1.8012 - val_decoder_dense_loss: 5.1065 - val_softmax_layer_CC_loss: 0.9136 - val_softmax_layer_DC_loss: 14.8301 - val_decoder_dense_acc: 0.2321 - val_softmax_layer_CC_acc: 0.6738 - val_softmax_layer_DC_acc: 0.0749\n",
            "Epoch 26/800\n",
            "5046/5046 [==============================] - 16s 3ms/step - loss: 1.1817 - decoder_dense_loss: 5.0635 - softmax_layer_CC_loss: 0.1843 - softmax_layer_DC_loss: 14.9750 - decoder_dense_acc: 0.2414 - softmax_layer_CC_acc: 0.9261 - softmax_layer_DC_acc: 0.0658 - val_loss: 1.8403 - val_decoder_dense_loss: 5.0734 - val_softmax_layer_CC_loss: 0.9833 - val_softmax_layer_DC_loss: 14.8301 - val_decoder_dense_acc: 0.2425 - val_softmax_layer_CC_acc: 0.7077 - val_softmax_layer_DC_acc: 0.0749\n",
            "Epoch 27/800\n",
            "5046/5046 [==============================] - 16s 3ms/step - loss: 1.1620 - decoder_dense_loss: 5.0571 - softmax_layer_CC_loss: 0.1637 - softmax_layer_DC_loss: 14.9755 - decoder_dense_acc: 0.2428 - softmax_layer_CC_acc: 0.9380 - softmax_layer_DC_acc: 0.0658 - val_loss: 1.9362 - val_decoder_dense_loss: 5.0948 - val_softmax_layer_CC_loss: 1.0895 - val_softmax_layer_DC_loss: 14.8276 - val_decoder_dense_acc: 0.2407 - val_softmax_layer_CC_acc: 0.6667 - val_softmax_layer_DC_acc: 0.0749\n",
            "Epoch 28/800\n",
            "5046/5046 [==============================] - 16s 3ms/step - loss: 1.1300 - decoder_dense_loss: 5.0346 - softmax_layer_CC_loss: 0.1378 - softmax_layer_DC_loss: 14.9753 - decoder_dense_acc: 0.2484 - softmax_layer_CC_acc: 0.9491 - softmax_layer_DC_acc: 0.0658 - val_loss: 1.9422 - val_decoder_dense_loss: 5.0520 - val_softmax_layer_CC_loss: 1.1241 - val_softmax_layer_DC_loss: 14.8301 - val_decoder_dense_acc: 0.2471 - val_softmax_layer_CC_acc: 0.6827 - val_softmax_layer_DC_acc: 0.0749\n",
            "Epoch 29/800\n",
            "5046/5046 [==============================] - 16s 3ms/step - loss: 1.1577 - decoder_dense_loss: 5.0688 - softmax_layer_CC_loss: 0.1511 - softmax_layer_DC_loss: 14.9755 - decoder_dense_acc: 0.2399 - softmax_layer_CC_acc: 0.9449 - softmax_layer_DC_acc: 0.0658 - val_loss: 1.9641 - val_decoder_dense_loss: 5.0694 - val_softmax_layer_CC_loss: 1.1405 - val_softmax_layer_DC_loss: 14.8301 - val_decoder_dense_acc: 0.2400 - val_softmax_layer_CC_acc: 0.7059 - val_softmax_layer_DC_acc: 0.0749\n",
            "Epoch 30/800\n",
            "5046/5046 [==============================] - 16s 3ms/step - loss: 1.1162 - decoder_dense_loss: 5.0320 - softmax_layer_CC_loss: 0.1222 - softmax_layer_DC_loss: 14.9754 - decoder_dense_acc: 0.2473 - softmax_layer_CC_acc: 0.9562 - softmax_layer_DC_acc: 0.0658 - val_loss: 2.0106 - val_decoder_dense_loss: 5.0614 - val_softmax_layer_CC_loss: 1.2037 - val_softmax_layer_DC_loss: 14.8301 - val_decoder_dense_acc: 0.2428 - val_softmax_layer_CC_acc: 0.6417 - val_softmax_layer_DC_acc: 0.0749\n",
            "Epoch 31/800\n",
            "5046/5046 [==============================] - 16s 3ms/step - loss: 1.0804 - decoder_dense_loss: 5.0298 - softmax_layer_CC_loss: 0.0788 - softmax_layer_DC_loss: 14.9755 - decoder_dense_acc: 0.2468 - softmax_layer_CC_acc: 0.9742 - softmax_layer_DC_acc: 0.0658 - val_loss: 2.0671 - val_decoder_dense_loss: 5.0444 - val_softmax_layer_CC_loss: 1.2849 - val_softmax_layer_DC_loss: 14.8301 - val_decoder_dense_acc: 0.2448 - val_softmax_layer_CC_acc: 0.7059 - val_softmax_layer_DC_acc: 0.0749\n",
            "Epoch 32/800\n",
            "5046/5046 [==============================] - 16s 3ms/step - loss: 1.0954 - decoder_dense_loss: 5.0222 - softmax_layer_CC_loss: 0.1023 - softmax_layer_DC_loss: 14.9755 - decoder_dense_acc: 0.2487 - softmax_layer_CC_acc: 0.9645 - softmax_layer_DC_acc: 0.0658 - val_loss: 2.2652 - val_decoder_dense_loss: 5.1785 - val_softmax_layer_CC_loss: 1.4487 - val_softmax_layer_DC_loss: 14.8301 - val_decoder_dense_acc: 0.2097 - val_softmax_layer_CC_acc: 0.6988 - val_softmax_layer_DC_acc: 0.0749\n",
            "Epoch 33/800\n",
            "5046/5046 [==============================] - 16s 3ms/step - loss: 1.0682 - decoder_dense_loss: 5.0257 - softmax_layer_CC_loss: 0.0661 - softmax_layer_DC_loss: 14.9755 - decoder_dense_acc: 0.2470 - softmax_layer_CC_acc: 0.9794 - softmax_layer_DC_acc: 0.0658 - val_loss: 2.3047 - val_decoder_dense_loss: 5.0363 - val_softmax_layer_CC_loss: 1.5869 - val_softmax_layer_DC_loss: 14.8301 - val_decoder_dense_acc: 0.2465 - val_softmax_layer_CC_acc: 0.6845 - val_softmax_layer_DC_acc: 0.0749\n",
            "Epoch 34/800\n",
            "5046/5046 [==============================] - 16s 3ms/step - loss: 1.0805 - decoder_dense_loss: 5.0312 - softmax_layer_CC_loss: 0.0780 - softmax_layer_DC_loss: 14.9751 - decoder_dense_acc: 0.2463 - softmax_layer_CC_acc: 0.9734 - softmax_layer_DC_acc: 0.0658 - val_loss: 2.3248 - val_decoder_dense_loss: 5.1248 - val_softmax_layer_CC_loss: 1.5568 - val_softmax_layer_DC_loss: 14.8301 - val_decoder_dense_acc: 0.2290 - val_softmax_layer_CC_acc: 0.6702 - val_softmax_layer_DC_acc: 0.0749\n",
            "Epoch 35/800\n",
            "5046/5046 [==============================] - 16s 3ms/step - loss: 1.0651 - decoder_dense_loss: 5.0151 - softmax_layer_CC_loss: 0.0688 - softmax_layer_DC_loss: 14.9755 - decoder_dense_acc: 0.2500 - softmax_layer_CC_acc: 0.9770 - softmax_layer_DC_acc: 0.0658 - val_loss: 2.3067 - val_decoder_dense_loss: 5.0343 - val_softmax_layer_CC_loss: 1.5907 - val_softmax_layer_DC_loss: 14.8301 - val_decoder_dense_acc: 0.2463 - val_softmax_layer_CC_acc: 0.7112 - val_softmax_layer_DC_acc: 0.0749\n",
            "Epoch 36/800\n",
            "5046/5046 [==============================] - 16s 3ms/step - loss: 1.0490 - decoder_dense_loss: 4.9950 - softmax_layer_CC_loss: 0.0614 - softmax_layer_DC_loss: 14.9755 - decoder_dense_acc: 0.2535 - softmax_layer_CC_acc: 0.9786 - softmax_layer_DC_acc: 0.0658 - val_loss: 2.4538 - val_decoder_dense_loss: 5.0767 - val_softmax_layer_CC_loss: 1.7481 - val_softmax_layer_DC_loss: 14.8301 - val_decoder_dense_acc: 0.2407 - val_softmax_layer_CC_acc: 0.6203 - val_softmax_layer_DC_acc: 0.0749\n",
            "Epoch 37/800\n",
            "5046/5046 [==============================] - 16s 3ms/step - loss: 1.0300 - decoder_dense_loss: 4.9959 - softmax_layer_CC_loss: 0.0370 - softmax_layer_DC_loss: 14.9755 - decoder_dense_acc: 0.2520 - softmax_layer_CC_acc: 0.9893 - softmax_layer_DC_acc: 0.0658 - val_loss: 2.4884 - val_decoder_dense_loss: 5.0508 - val_softmax_layer_CC_loss: 1.8075 - val_softmax_layer_DC_loss: 14.8301 - val_decoder_dense_acc: 0.2426 - val_softmax_layer_CC_acc: 0.7077 - val_softmax_layer_DC_acc: 0.0749\n",
            "Epoch 38/800\n",
            "5046/5046 [==============================] - 16s 3ms/step - loss: 1.0564 - decoder_dense_loss: 4.9988 - softmax_layer_CC_loss: 0.0682 - softmax_layer_DC_loss: 14.9755 - decoder_dense_acc: 0.2522 - softmax_layer_CC_acc: 0.9774 - softmax_layer_DC_acc: 0.0658 - val_loss: 2.4302 - val_decoder_dense_loss: 5.0297 - val_softmax_layer_CC_loss: 1.7480 - val_softmax_layer_DC_loss: 14.8301 - val_decoder_dense_acc: 0.2461 - val_softmax_layer_CC_acc: 0.6988 - val_softmax_layer_DC_acc: 0.0749\n",
            "Epoch 39/800\n",
            "5046/5046 [==============================] - 16s 3ms/step - loss: 1.0223 - decoder_dense_loss: 4.9885 - softmax_layer_CC_loss: 0.0321 - softmax_layer_DC_loss: 14.9755 - decoder_dense_acc: 0.2535 - softmax_layer_CC_acc: 0.9891 - softmax_layer_DC_acc: 0.0658 - val_loss: 2.4606 - val_decoder_dense_loss: 5.0268 - val_softmax_layer_CC_loss: 1.7878 - val_softmax_layer_DC_loss: 14.8301 - val_decoder_dense_acc: 0.2460 - val_softmax_layer_CC_acc: 0.7184 - val_softmax_layer_DC_acc: 0.0749\n",
            "Epoch 40/800\n",
            "5046/5046 [==============================] - 16s 3ms/step - loss: 1.0374 - decoder_dense_loss: 4.9984 - softmax_layer_CC_loss: 0.0447 - softmax_layer_DC_loss: 14.9755 - decoder_dense_acc: 0.2511 - softmax_layer_CC_acc: 0.9865 - softmax_layer_DC_acc: 0.0658 - val_loss: 2.8650 - val_decoder_dense_loss: 5.0341 - val_softmax_layer_CC_loss: 2.2887 - val_softmax_layer_DC_loss: 14.8301 - val_decoder_dense_acc: 0.2451 - val_softmax_layer_CC_acc: 0.6078 - val_softmax_layer_DC_acc: 0.0749\n",
            "Epoch 00040: early stopping\n"
          ],
          "name": "stdout"
        }
      ]
    },
    {
      "cell_type": "markdown",
      "metadata": {
        "id": "XdJ_IG5kuM3L",
        "colab_type": "text"
      },
      "source": [
        "### Testing"
      ]
    },
    {
      "cell_type": "code",
      "metadata": {
        "id": "AfGbd7yhuRRp",
        "colab_type": "code",
        "colab": {}
      },
      "source": [
        "decoder_t_output,y_pred,_ = model.predict(test_X)\n",
        "y_pred = np.array([np.argmax(x) for x in y_pred])\n",
        "y_true = np.array([np.argmax(x) for x in test_C_Y])"
      ],
      "execution_count": 0,
      "outputs": []
    },
    {
      "cell_type": "code",
      "metadata": {
        "id": "QTlfiC4iuYZM",
        "colab_type": "code",
        "colab": {
          "base_uri": "https://localhost:8080/",
          "height": 170
        },
        "outputId": "e1b57e6f-90ea-4fe3-c897-8c641b14d6e7"
      },
      "source": [
        "print(f\"Prediction acuracy on both domains is {round(accuracy_score(y_true,y_pred),2)}\")\n",
        "print(f\"Precision on both domains is {round(precision_score(y_true,y_pred),2)}\")\n",
        "print(f\"Recall on both domains is {round(recall_score(y_true,y_pred),2)}\")\n",
        "print(f\"F1 on both domains is {round(f1_score(y_true,y_pred),2)}\")\n",
        "cmtx = pd.DataFrame(\n",
        "    confusion_matrix(y_true, y_pred, labels=[1, 0]), \n",
        "    index=['true:Fake', 'true:Real'], \n",
        "    columns=['pred:Fake', 'pred:Real']\n",
        ")\n",
        "print(\"\\n\")\n",
        "print(cmtx)"
      ],
      "execution_count": 29,
      "outputs": [
        {
          "output_type": "stream",
          "text": [
            "Prediction acuracy on both domains is 0.57\n",
            "Precision on both domains is 0.47\n",
            "Recall on both domains is 0.75\n",
            "F1 on both domains is 0.58\n",
            "\n",
            "\n",
            "           pred:Fake  pred:Real\n",
            "true:Fake        184         62\n",
            "true:Real        209        169\n"
          ],
          "name": "stdout"
        }
      ]
    },
    {
      "cell_type": "markdown",
      "metadata": {
        "id": "FY_p4HFInh_o",
        "colab_type": "text"
      },
      "source": [
        "### Testing the Model"
      ]
    },
    {
      "cell_type": "code",
      "metadata": {
        "id": "tGDL2I_Enh_o",
        "colab_type": "code",
        "outputId": "be57697e-28ae-4be2-fa16-47541630baec",
        "colab": {
          "base_uri": "https://localhost:8080/",
          "height": 54
        }
      },
      "source": [
        "for idx in test_X[0]:\n",
        "    print(idx2word[idx],end=\" \")"
      ],
      "execution_count": 30,
      "outputs": [
        {
          "output_type": "stream",
          "text": [
            "<UNK> hands yearold <UNK> the <UNK> at her concert is <UNK> away watch many people can only dream of the chance to <UNK> their favorite artists song right in their <UNK> for yearold victoria anthony that dream came true at <UNK> concert in <UNK> on saturday may back on may anthony shared a video of herself on twitter directed to the beautiful <UNK> singer when you come here i really want to <UNK> at your concert she wrote anthony then gave a few <UNK> of her incredible singing voice including the <UNK> <UNK> in the caption to help <UNK> <UNK> "
          ],
          "name": "stdout"
        }
      ]
    },
    {
      "cell_type": "code",
      "metadata": {
        "id": "kA86TyD7nh_q",
        "colab_type": "code",
        "colab": {
          "base_uri": "https://localhost:8080/",
          "height": 164
        },
        "outputId": "0a3f2613-c01b-4b70-cdfb-26083d7a0ab2"
      },
      "source": [
        "# model.compile('rmsprop', 'mse')\n",
        "output_array = model.predict([test_encoder_input_data])"
      ],
      "execution_count": 31,
      "outputs": [
        {
          "output_type": "error",
          "ename": "NameError",
          "evalue": "ignored",
          "traceback": [
            "\u001b[0;31m---------------------------------------------------------------------------\u001b[0m",
            "\u001b[0;31mNameError\u001b[0m                                 Traceback (most recent call last)",
            "\u001b[0;32m<ipython-input-31-0f0e7e9c9c42>\u001b[0m in \u001b[0;36m<module>\u001b[0;34m()\u001b[0m\n\u001b[0;32m----> 1\u001b[0;31m \u001b[0moutput_array\u001b[0m \u001b[0;34m=\u001b[0m \u001b[0mmodel\u001b[0m\u001b[0;34m.\u001b[0m\u001b[0mpredict\u001b[0m\u001b[0;34m(\u001b[0m\u001b[0;34m[\u001b[0m\u001b[0mtest_encoder_input_data\u001b[0m\u001b[0;34m]\u001b[0m\u001b[0;34m)\u001b[0m\u001b[0;34m\u001b[0m\u001b[0;34m\u001b[0m\u001b[0m\n\u001b[0m",
            "\u001b[0;31mNameError\u001b[0m: name 'test_encoder_input_data' is not defined"
          ]
        }
      ]
    },
    {
      "cell_type": "code",
      "metadata": {
        "id": "eQRle-Oqnh_r",
        "colab_type": "code",
        "outputId": "cf06ba7e-0bb4-47cf-8543-f05dca2585ac",
        "colab": {
          "base_uri": "https://localhost:8080/",
          "height": 54
        }
      },
      "source": [
        "for idx in decoder_t_output[0]:\n",
        "    lookup = np.argmax(idx)\n",
        "#     print(lookup)\n",
        "    if lookup==0:\n",
        "        break\n",
        "    else:\n",
        "        print(idx2word[lookup],end=\" \")"
      ],
      "execution_count": 32,
      "outputs": [
        {
          "output_type": "stream",
          "text": [
            "<UNK> <UNK> <UNK> <UNK> <UNK> <UNK> <UNK> <UNK> <UNK> <UNK> <UNK> <UNK> <UNK> <UNK> <UNK> <UNK> <UNK> <UNK> <UNK> <UNK> <UNK> <UNK> <UNK> <UNK> <UNK> <UNK> <UNK> <UNK> <UNK> <UNK> <UNK> <UNK> <UNK> <UNK> <UNK> <UNK> <UNK> <UNK> <UNK> <UNK> <UNK> <UNK> <UNK> <UNK> <UNK> <UNK> <UNK> <UNK> <UNK> <UNK> <UNK> <UNK> <UNK> <UNK> <UNK> <UNK> <UNK> <UNK> <UNK> <UNK> <UNK> <UNK> <UNK> <UNK> <UNK> <UNK> <UNK> <UNK> <UNK> <UNK> <UNK> <UNK> <UNK> <UNK> <UNK> <UNK> <UNK> <UNK> <UNK> <UNK> <UNK> <UNK> <UNK> <UNK> <UNK> <UNK> <UNK> <UNK> <UNK> <UNK> <UNK> <UNK> <UNK> <UNK> <UNK> <UNK> <UNK> <UNK> <UNK> <UNK> "
          ],
          "name": "stdout"
        }
      ]
    },
    {
      "cell_type": "code",
      "metadata": {
        "id": "RZ67pMFCnh_s",
        "colab_type": "code",
        "outputId": "5dcdcc20-ac07-41c1-9604-14835f61fc9d",
        "colab": {}
      },
      "source": [
        "for idx in output_array[100]:\n",
        "    print(idx[np.argmax(20)])\n",
        "    break\n",
        "    lookup = np.argmax(idx)\n",
        "#     print(lookup)\n",
        "    if lookup==0:\n",
        "        break\n",
        "    else:\n",
        "        print(idx2word[lookup],end=\" \")"
      ],
      "execution_count": 0,
      "outputs": [
        {
          "output_type": "stream",
          "text": [
            "1.9437695e-07\n"
          ],
          "name": "stdout"
        }
      ]
    },
    {
      "cell_type": "code",
      "metadata": {
        "id": "N3qfblfSnh_u",
        "colab_type": "code",
        "colab": {}
      },
      "source": [
        ""
      ],
      "execution_count": 0,
      "outputs": []
    },
    {
      "cell_type": "code",
      "metadata": {
        "id": "UDGaLJignh_w",
        "colab_type": "code",
        "colab": {}
      },
      "source": [
        ""
      ],
      "execution_count": 0,
      "outputs": []
    },
    {
      "cell_type": "code",
      "metadata": {
        "id": "V6mQVHjTgQlj",
        "colab_type": "code",
        "colab": {}
      },
      "source": [
        ""
      ],
      "execution_count": 0,
      "outputs": []
    }
  ]
}
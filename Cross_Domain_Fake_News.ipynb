{
  "nbformat": 4,
  "nbformat_minor": 0,
  "metadata": {
    "kernelspec": {
      "display_name": "Social",
      "language": "python",
      "name": "social"
    },
    "language_info": {
      "codemirror_mode": {
        "name": "ipython",
        "version": 3
      },
      "file_extension": ".py",
      "mimetype": "text/x-python",
      "name": "python",
      "nbconvert_exporter": "python",
      "pygments_lexer": "ipython3",
      "version": "3.6.1"
    },
    "colab": {
      "name": "Cross Domain Fake News.ipynb",
      "provenance": [],
      "toc_visible": true,
      "machine_shape": "hm",
      "include_colab_link": true
    },
    "accelerator": "GPU"
  },
  "cells": [
    {
      "cell_type": "markdown",
      "metadata": {
        "id": "view-in-github",
        "colab_type": "text"
      },
      "source": [
        "<a href=\"https://colab.research.google.com/github/arnavc1712/Cross-Domain-Fake-News-Detection/blob/master/Cross_Domain_Fake_News.ipynb\" target=\"_parent\"><img src=\"https://colab.research.google.com/assets/colab-badge.svg\" alt=\"Open In Colab\"/></a>"
      ]
    },
    {
      "cell_type": "code",
      "metadata": {
        "id": "7YbGKKiu92Ly",
        "colab_type": "code",
        "colab": {}
      },
      "source": [
        ""
      ],
      "execution_count": 0,
      "outputs": []
    },
    {
      "cell_type": "code",
      "metadata": {
        "id": "yjjT8MW6nh-A",
        "colab_type": "code",
        "colab": {}
      },
      "source": [
        "import pandas as pd\n",
        "import keras\n",
        "from keras.preprocessing.text import Tokenizer\n",
        "from keras.preprocessing.sequence import pad_sequences\n",
        "from keras.layers import Input, LSTM, Dense,Embedding,RepeatVector,Bidirectional\n",
        "from keras.models import Model\n",
        "import re\n",
        "import numpy as np\n",
        "from scipy import stats\n",
        "# import demoji\n",
        "# import tokenizer\n",
        "# from nltk.corpus import stopwords\n",
        "# stopwords_list = list(set(stopwords.words('english')))\n",
        "from keras.utils import to_categorical\n",
        "import os\n",
        "from sklearn.model_selection import train_test_split\n",
        "from keras.callbacks import EarlyStopping,ModelCheckpoint,ReduceLROnPlateau\n",
        "from sklearn.metrics import accuracy_score,precision_score,recall_score,f1_score,confusion_matrix"
      ],
      "execution_count": 0,
      "outputs": []
    },
    {
      "cell_type": "code",
      "metadata": {
        "id": "jsbpEHn4nh-F",
        "colab_type": "code",
        "colab": {}
      },
      "source": [
        "domain1_path = \"./gossipcop_content_no_ignore.tsv\"\n",
        "domain2_path = \"./politifact_content_no_ignore.tsv\""
      ],
      "execution_count": 0,
      "outputs": []
    },
    {
      "cell_type": "code",
      "metadata": {
        "id": "phgfMSc2nh-H",
        "colab_type": "code",
        "colab": {}
      },
      "source": [
        "domain1_frame = pd.read_csv(domain1_path,delimiter=\"\\t\").set_index('id')\n",
        "domain2_frame = pd.read_csv(domain2_path,delimiter=\"\\t\").set_index('id')"
      ],
      "execution_count": 0,
      "outputs": []
    },
    {
      "cell_type": "markdown",
      "metadata": {
        "id": "Xl573iaInh-J",
        "colab_type": "text"
      },
      "source": [
        "### Exploring the Dataset"
      ]
    },
    {
      "cell_type": "markdown",
      "metadata": {
        "id": "s-bgMHpYnh-J",
        "colab_type": "text"
      },
      "source": [
        "#### First Domain"
      ]
    },
    {
      "cell_type": "code",
      "metadata": {
        "id": "osdT_7iVnh-K",
        "colab_type": "code",
        "outputId": "decf4afe-90f2-4b8f-e39d-c4b7d43ee00b",
        "colab": {
          "base_uri": "https://localhost:8080/",
          "height": 450
        }
      },
      "source": [
        "domain1_frame"
      ],
      "execution_count": 4,
      "outputs": [
        {
          "output_type": "execute_result",
          "data": {
            "text/html": [
              "<div>\n",
              "<style scoped>\n",
              "    .dataframe tbody tr th:only-of-type {\n",
              "        vertical-align: middle;\n",
              "    }\n",
              "\n",
              "    .dataframe tbody tr th {\n",
              "        vertical-align: top;\n",
              "    }\n",
              "\n",
              "    .dataframe thead th {\n",
              "        text-align: right;\n",
              "    }\n",
              "</style>\n",
              "<table border=\"1\" class=\"dataframe\">\n",
              "  <thead>\n",
              "    <tr style=\"text-align: right;\">\n",
              "      <th></th>\n",
              "      <th>label</th>\n",
              "      <th>content</th>\n",
              "    </tr>\n",
              "    <tr>\n",
              "      <th>id</th>\n",
              "      <th></th>\n",
              "      <th></th>\n",
              "    </tr>\n",
              "  </thead>\n",
              "  <tbody>\n",
              "    <tr>\n",
              "      <th>gossipcop-9096198130</th>\n",
              "      <td>1</td>\n",
              "      <td>Sarah Jessica Parker is getting candid about h...</td>\n",
              "    </tr>\n",
              "    <tr>\n",
              "      <th>gossipcop-6982710185</th>\n",
              "      <td>1</td>\n",
              "      <td>Many celebrities have been sharing their thoug...</td>\n",
              "    </tr>\n",
              "    <tr>\n",
              "      <th>gossipcop-7887456921</th>\n",
              "      <td>1</td>\n",
              "      <td>He reportedly hasn't seen her in over four yea...</td>\n",
              "    </tr>\n",
              "    <tr>\n",
              "      <th>gossipcop-1594778479</th>\n",
              "      <td>1</td>\n",
              "      <td>The fashion crowd is speaking out about Kim Ka...</td>\n",
              "    </tr>\n",
              "    <tr>\n",
              "      <th>gossipcop-8172018375</th>\n",
              "      <td>1</td>\n",
              "      <td>What term do you want to search? Search with g...</td>\n",
              "    </tr>\n",
              "    <tr>\n",
              "      <th>...</th>\n",
              "      <td>...</td>\n",
              "      <td>...</td>\n",
              "    </tr>\n",
              "    <tr>\n",
              "      <th>gossipcop-854842</th>\n",
              "      <td>0</td>\n",
              "      <td>Aisha Tyler‘s divorce from Jeffrey Tietjens ha...</td>\n",
              "    </tr>\n",
              "    <tr>\n",
              "      <th>gossipcop-843491</th>\n",
              "      <td>0</td>\n",
              "      <td>All four of Queen Elizabeth and Prince Philip'...</td>\n",
              "    </tr>\n",
              "    <tr>\n",
              "      <th>gossipcop-897778</th>\n",
              "      <td>0</td>\n",
              "      <td>Theresa Caputo is adjusting to her new life af...</td>\n",
              "    </tr>\n",
              "    <tr>\n",
              "      <th>gossipcop-899849</th>\n",
              "      <td>0</td>\n",
              "      <td>Follow Us on Twitter  Nominations for the 25th...</td>\n",
              "    </tr>\n",
              "    <tr>\n",
              "      <th>gossipcop-927093</th>\n",
              "      <td>0</td>\n",
              "      <td>Though the happy couple can’t be together in p...</td>\n",
              "    </tr>\n",
              "  </tbody>\n",
              "</table>\n",
              "<p>5816 rows × 2 columns</p>\n",
              "</div>"
            ],
            "text/plain": [
              "                      label                                            content\n",
              "id                                                                            \n",
              "gossipcop-9096198130      1  Sarah Jessica Parker is getting candid about h...\n",
              "gossipcop-6982710185      1  Many celebrities have been sharing their thoug...\n",
              "gossipcop-7887456921      1  He reportedly hasn't seen her in over four yea...\n",
              "gossipcop-1594778479      1  The fashion crowd is speaking out about Kim Ka...\n",
              "gossipcop-8172018375      1  What term do you want to search? Search with g...\n",
              "...                     ...                                                ...\n",
              "gossipcop-854842          0  Aisha Tyler‘s divorce from Jeffrey Tietjens ha...\n",
              "gossipcop-843491          0  All four of Queen Elizabeth and Prince Philip'...\n",
              "gossipcop-897778          0  Theresa Caputo is adjusting to her new life af...\n",
              "gossipcop-899849          0  Follow Us on Twitter  Nominations for the 25th...\n",
              "gossipcop-927093          0  Though the happy couple can’t be together in p...\n",
              "\n",
              "[5816 rows x 2 columns]"
            ]
          },
          "metadata": {
            "tags": []
          },
          "execution_count": 4
        }
      ]
    },
    {
      "cell_type": "code",
      "metadata": {
        "id": "hiDXAODnnh-M",
        "colab_type": "code",
        "outputId": "c21d2bc6-c488-4dfa-cc08-70671e3fb899",
        "colab": {
          "base_uri": "https://localhost:8080/",
          "height": 142
        }
      },
      "source": [
        "domain1_frame.groupby(['label'])[['label']].count()"
      ],
      "execution_count": 5,
      "outputs": [
        {
          "output_type": "execute_result",
          "data": {
            "text/html": [
              "<div>\n",
              "<style scoped>\n",
              "    .dataframe tbody tr th:only-of-type {\n",
              "        vertical-align: middle;\n",
              "    }\n",
              "\n",
              "    .dataframe tbody tr th {\n",
              "        vertical-align: top;\n",
              "    }\n",
              "\n",
              "    .dataframe thead th {\n",
              "        text-align: right;\n",
              "    }\n",
              "</style>\n",
              "<table border=\"1\" class=\"dataframe\">\n",
              "  <thead>\n",
              "    <tr style=\"text-align: right;\">\n",
              "      <th></th>\n",
              "      <th>label</th>\n",
              "    </tr>\n",
              "    <tr>\n",
              "      <th>label</th>\n",
              "      <th></th>\n",
              "    </tr>\n",
              "  </thead>\n",
              "  <tbody>\n",
              "    <tr>\n",
              "      <th>0</th>\n",
              "      <td>3586</td>\n",
              "    </tr>\n",
              "    <tr>\n",
              "      <th>1</th>\n",
              "      <td>2230</td>\n",
              "    </tr>\n",
              "  </tbody>\n",
              "</table>\n",
              "</div>"
            ],
            "text/plain": [
              "       label\n",
              "label       \n",
              "0       3586\n",
              "1       2230"
            ]
          },
          "metadata": {
            "tags": []
          },
          "execution_count": 5
        }
      ]
    },
    {
      "cell_type": "markdown",
      "metadata": {
        "id": "B50hJsd5nh-O",
        "colab_type": "text"
      },
      "source": [
        "#### Second Domain"
      ]
    },
    {
      "cell_type": "code",
      "metadata": {
        "id": "otm6z1Pxnh-P",
        "colab_type": "code",
        "outputId": "5c01e55c-0801-423a-f3c7-a3d8057c5cfe",
        "colab": {
          "base_uri": "https://localhost:8080/",
          "height": 142
        }
      },
      "source": [
        "domain2_frame.groupby(['label'])[['label']].count()"
      ],
      "execution_count": 6,
      "outputs": [
        {
          "output_type": "execute_result",
          "data": {
            "text/html": [
              "<div>\n",
              "<style scoped>\n",
              "    .dataframe tbody tr th:only-of-type {\n",
              "        vertical-align: middle;\n",
              "    }\n",
              "\n",
              "    .dataframe tbody tr th {\n",
              "        vertical-align: top;\n",
              "    }\n",
              "\n",
              "    .dataframe thead th {\n",
              "        text-align: right;\n",
              "    }\n",
              "</style>\n",
              "<table border=\"1\" class=\"dataframe\">\n",
              "  <thead>\n",
              "    <tr style=\"text-align: right;\">\n",
              "      <th></th>\n",
              "      <th>label</th>\n",
              "    </tr>\n",
              "    <tr>\n",
              "      <th>label</th>\n",
              "      <th></th>\n",
              "    </tr>\n",
              "  </thead>\n",
              "  <tbody>\n",
              "    <tr>\n",
              "      <th>0</th>\n",
              "      <td>145</td>\n",
              "    </tr>\n",
              "    <tr>\n",
              "      <th>1</th>\n",
              "      <td>270</td>\n",
              "    </tr>\n",
              "  </tbody>\n",
              "</table>\n",
              "</div>"
            ],
            "text/plain": [
              "       label\n",
              "label       \n",
              "0        145\n",
              "1        270"
            ]
          },
          "metadata": {
            "tags": []
          },
          "execution_count": 6
        }
      ]
    },
    {
      "cell_type": "markdown",
      "metadata": {
        "id": "fO0kuFXGnh-R",
        "colab_type": "text"
      },
      "source": [
        "### Preprocessing and Feature Engineering"
      ]
    },
    {
      "cell_type": "code",
      "metadata": {
        "id": "8qtZjFiWnh-R",
        "colab_type": "code",
        "colab": {
          "base_uri": "https://localhost:8080/",
          "height": 85
        },
        "outputId": "8bc62411-29a6-4f60-820a-e6350525e725"
      },
      "source": [
        "import nltk\n",
        "from nltk.stem import WordNetLemmatizer,PorterStemmer\n",
        "nltk.download('punkt')\n",
        "nltk.download('wordnet')\n",
        "\n",
        "class Preprocess:\n",
        "\n",
        "  def __init__(self):\n",
        "    self.wordnet_lemmatizer = WordNetLemmatizer()\n",
        "    self.porter = PorterStemmer()\n",
        "\n",
        "  def clean_text(self,text):\n",
        "      '''Clean text by removing unnecessary characters and altering the format of words.'''\n",
        "\n",
        "      text = text.lower()\n",
        "      text = re.sub(r\"i'm\", \"i am\", text)\n",
        "      text = re.sub(r\"he's\", \"he is\", text)\n",
        "      text = re.sub(r\"she's\", \"she is\", text)\n",
        "      text = re.sub(r\"it's\", \"it is\", text)\n",
        "      text = re.sub(r\"that's\", \"that is\", text)\n",
        "      text = re.sub(r\"what's\", \"that is\", text)\n",
        "      text = re.sub(r\"where's\", \"where is\", text)\n",
        "      text = re.sub(r\"how's\", \"how is\", text)\n",
        "      text = re.sub(r\"\\'ll\", \" will\", text)\n",
        "      text = re.sub(r\"\\'ve\", \" have\", text)\n",
        "      text = re.sub(r\"\\'re\", \" are\", text)\n",
        "      text = re.sub(r\"\\'d\", \" would\", text)\n",
        "      text = re.sub(r\"\\'re\", \" are\", text)\n",
        "      text = re.sub(r\"won't\", \"will not\", text)\n",
        "      text = re.sub(r\"can't\", \"cannot\", text)\n",
        "      text = re.sub(r\"n't\", \" not\", text)\n",
        "      text = re.sub(r\"n'\", \"ng\", text)\n",
        "      text = re.sub(r\"'bout\", \"about\", text)\n",
        "      text = re.sub(r\"'til\", \"until\", text)\n",
        "      text = re.sub(r\"[()\\\"_#/@;*%:{}<>`+=~|.!?,'$-\\[\\]]\", \"\", text)\n",
        "      text = re.sub(r\"[0-9]\", \"\", text)\n",
        "      \n",
        "      return text\n",
        "    \n",
        "  def lemmatizer(self,text):\n",
        "    sentence_words = nltk.word_tokenize(text)\n",
        "    ret_text = []\n",
        "    for word in sentence_words:\n",
        "      ret_text.append(self.wordnet_lemmatizer.lemmatize(word))\n",
        "    \n",
        "    return \" \".join(ret_text)\n",
        "\n",
        "\n",
        "  def stemmer(self,text):\n",
        "    sentence_words = nltk.word_tokenize(text)\n",
        "    ret_text = []\n",
        "    for word in sentence_words:\n",
        "      ret_text.append(self.porter.stem(word))\n",
        "    \n",
        "    return \" \".join(ret_text)"
      ],
      "execution_count": 7,
      "outputs": [
        {
          "output_type": "stream",
          "text": [
            "[nltk_data] Downloading package punkt to /root/nltk_data...\n",
            "[nltk_data]   Package punkt is already up-to-date!\n",
            "[nltk_data] Downloading package wordnet to /root/nltk_data...\n",
            "[nltk_data]   Package wordnet is already up-to-date!\n"
          ],
          "name": "stdout"
        }
      ]
    },
    {
      "cell_type": "markdown",
      "metadata": {
        "id": "I2S04asgnh-Y",
        "colab_type": "text"
      },
      "source": [
        "# Preparing Data for the Model"
      ]
    },
    {
      "cell_type": "markdown",
      "metadata": {
        "id": "UiRNGPcaLRwe",
        "colab_type": "text"
      },
      "source": [
        "## Encoder data"
      ]
    },
    {
      "cell_type": "code",
      "metadata": {
        "id": "AlfpTw3Gnh-Z",
        "colab_type": "code",
        "colab": {}
      },
      "source": [
        "def encoder_data(df,lemmatize=False,stem=False):\n",
        "  preprocessor = Preprocess()\n",
        "  encoder_inputs = df['content'].apply(lambda x: preprocessor.clean_text(x))\n",
        "  if lemmatize:\n",
        "    encoder_inputs = df['content'].apply(lambda x: preprocessor.lemmatizer(x))\n",
        "  if stem:\n",
        "    encoder_inputs = df['content'].apply(lambda x: preprocessor.stemmer(x))\n",
        "  encoder_inputs = np.array(encoder_inputs.values.tolist())\n",
        "  return encoder_inputs\n"
      ],
      "execution_count": 0,
      "outputs": []
    },
    {
      "cell_type": "markdown",
      "metadata": {
        "id": "VtRD7t2xnh-a",
        "colab_type": "text"
      },
      "source": [
        "## Fake news detection training data"
      ]
    },
    {
      "cell_type": "code",
      "metadata": {
        "id": "MYS5-ebOnh-b",
        "colab_type": "code",
        "colab": {}
      },
      "source": [
        "def fake_news_target(df):\n",
        "  y_cc = np.array(df['label'].apply(lambda x:int(x)).values.tolist())\n",
        "  return y_cc\n"
      ],
      "execution_count": 0,
      "outputs": []
    },
    {
      "cell_type": "markdown",
      "metadata": {
        "id": "38_lywxsnh-c",
        "colab_type": "text"
      },
      "source": [
        "## Domain classification Data"
      ]
    },
    {
      "cell_type": "code",
      "metadata": {
        "id": "L6Gow5EPnh-d",
        "colab_type": "code",
        "colab": {}
      },
      "source": [
        "def domain_target(df):\n",
        "  y_dc = np.array([0]*len(domain1_frame) + [1]*len(domain2_frame))\n",
        "  return y_dc\n"
      ],
      "execution_count": 0,
      "outputs": []
    },
    {
      "cell_type": "markdown",
      "metadata": {
        "id": "ZNNFiDHYMIQp",
        "colab_type": "text"
      },
      "source": [
        "## Shuffling the data"
      ]
    },
    {
      "cell_type": "code",
      "metadata": {
        "id": "Yi4uejDAfVT-",
        "colab_type": "code",
        "colab": {}
      },
      "source": [
        "class Shuffle:\n",
        "\n",
        "  def __init__(self,data_len):\n",
        "    self.idx = np.arange(data_len)\n",
        "    np.random.shuffle(self.idx)\n",
        "  \n",
        "  def shuffle(self,data):\n",
        "    return np.array(data)[self.idx]"
      ],
      "execution_count": 0,
      "outputs": []
    },
    {
      "cell_type": "markdown",
      "metadata": {
        "id": "WEtAE0iTd8vU",
        "colab_type": "text"
      },
      "source": [
        "## Creating word to index mapping and vice versa"
      ]
    },
    {
      "cell_type": "code",
      "metadata": {
        "id": "lzss0di-eW1G",
        "colab_type": "code",
        "colab": {}
      },
      "source": [
        "def create_vocab(text_lists,vocab_len): ## Creating the word2idx, idx2word mapping using the Keras Tokenizer\n",
        "    tokenizer = Tokenizer(oov_token=\"<UNK>\")\n",
        "    tokenizer.fit_on_texts(text_lists)\n",
        "    ## Due to ambiguity with regards to Keras Tokenizer num_words, below is a good enough fix, \n",
        "    ## though it changes the tokenizer word_index outside of the class\n",
        "    num_words = vocab_len\n",
        "\n",
        "    sorted_by_word_count = sorted(tokenizer.word_counts.items(), key=lambda kv: kv[1], reverse=True)\n",
        "    tokenizer.word_index = {}\n",
        "    word2idx = {}\n",
        "    idx2word = {}\n",
        "    i = 0\n",
        "    for word,count in sorted_by_word_count:\n",
        "        if i == num_words:\n",
        "            break\n",
        "\n",
        "        tokenizer.word_index[word] = i + 1    # <= because tokenizer is 1 indexed\n",
        "        word2idx[word] = i+1\n",
        "        idx2word[i+1]=word\n",
        "        i += 1\n",
        "    \n",
        "    tokenizer.word_index[tokenizer.oov_token] = num_words+1\n",
        "    word2idx[tokenizer.oov_token] = num_words+1\n",
        "    idx2word[num_words+1]=tokenizer.oov_token\n",
        "    \n",
        "    return word2idx,idx2word,tokenizer"
      ],
      "execution_count": 0,
      "outputs": []
    },
    {
      "cell_type": "markdown",
      "metadata": {
        "id": "0paLOyC9QKtz",
        "colab_type": "text"
      },
      "source": [
        "## Tokenizing and Padding/Truncating Data"
      ]
    },
    {
      "cell_type": "code",
      "metadata": {
        "id": "wxQbpwWVnh-u",
        "colab_type": "code",
        "colab": {}
      },
      "source": [
        "def pad_tokenize_data(encoder_inputs,max_sentence_length,tokenizer):\n",
        "\n",
        "  t_encoder_inputs = tokenizer.texts_to_sequences(encoder_inputs)\n",
        "  t_encoder_inputs = pad_sequences(t_encoder_inputs,maxlen=max_sentence_length,padding='post', truncating='post')\n",
        "\n",
        "\n",
        "  return t_encoder_inputs\n"
      ],
      "execution_count": 0,
      "outputs": []
    },
    {
      "cell_type": "markdown",
      "metadata": {
        "id": "S_GqXV2EPP80",
        "colab_type": "text"
      },
      "source": [
        "## Defining Data Generators"
      ]
    },
    {
      "cell_type": "code",
      "metadata": {
        "colab_type": "code",
        "id": "ukjujAuQPPEC",
        "colab": {}
      },
      "source": [
        "def batch_generator(X,Y_CC,Y_DC,max_sentence_length,word2idx,batch_size=128):\n",
        "    \n",
        "        \n",
        "    y_cc = to_categorical(Y_CC)\n",
        "    y_dc = to_categorical(Y_DC)\n",
        "    for idx in range(0,len(X),batch_size):\n",
        "        encoder_input = np.zeros((batch_size,max_sentence_length))\n",
        "        decoder_target = np.zeros((batch_size,max_sentence_length,len(word2idx)+1))\n",
        "        for j,input_seq in enumerate(X[idx:idx+batch_size]):\n",
        "            for i,word_idx in enumerate(input_seq):\n",
        "                encoder_input[j,i]= word_idx\n",
        "                decoder_target[j,i,word_idx] = 1\n",
        "           \n",
        "        yield [encoder_input,[decoder_target,y_cc[idx:idx+batch_size],y_dc[idx:idx+batch_size]]]"
      ],
      "execution_count": 0,
      "outputs": []
    },
    {
      "cell_type": "code",
      "metadata": {
        "id": "79xvcWXvnh-x",
        "colab_type": "code",
        "colab": {}
      },
      "source": [
        "def all_data_generator(X,Y_CC,Y_DC,max_sentence_length,word2idx):\n",
        "    encoder_input = np.zeros((len(X),max_sentence_length))\n",
        "    decoder_target = np.zeros((len(X),max_sentence_length,len(word2idx)+1)) ## Extra index for padding, word2idx is 1 indexed\n",
        "    for j,input_seq in enumerate(X):\n",
        "        for i,word_idx in enumerate(input_seq):\n",
        "            encoder_input[j,i]= word_idx\n",
        "            decoder_target[j,i,word_idx] = 1\n",
        "    \n",
        "    y_cc = to_categorical(Y_CC)\n",
        "    y_dc = to_categorical(Y_DC)\n",
        "\n",
        "    return [encoder_input,[decoder_target,y_cc,y_dc]]"
      ],
      "execution_count": 0,
      "outputs": []
    },
    {
      "cell_type": "markdown",
      "metadata": {
        "id": "98IHiynqnh-3",
        "colab_type": "text"
      },
      "source": [
        "## Loading Glove Word Vectors"
      ]
    },
    {
      "cell_type": "code",
      "metadata": {
        "id": "SlIzeZquVgHu",
        "colab_type": "code",
        "colab": {}
      },
      "source": [
        "# !wget http://nlp.stanford.edu/data/glove.6B.zip"
      ],
      "execution_count": 0,
      "outputs": []
    },
    {
      "cell_type": "code",
      "metadata": {
        "id": "EGJaWo0iXn_2",
        "colab_type": "code",
        "colab": {}
      },
      "source": [
        "# import zipfile\n",
        "# zip_ref = zipfile.ZipFile(\"./glove.6B.zip\", 'r')\n",
        "# zip_ref.extractall(\"./glove/\")\n",
        "# zip_ref.close()"
      ],
      "execution_count": 0,
      "outputs": []
    },
    {
      "cell_type": "code",
      "metadata": {
        "id": "aaiBMdmYnh-3",
        "colab_type": "code",
        "colab": {}
      },
      "source": [
        "embeddings_index = dict()\n",
        "f = open('./glove/glove.6B.100d.txt')\n",
        "for line in f:\n",
        "    values = line.split()\n",
        "    word = values[0]\n",
        "    coefs = np.asarray(values[1:], dtype='float32')\n",
        "    embeddings_index[word] = coefs\n",
        "f.close()"
      ],
      "execution_count": 0,
      "outputs": []
    },
    {
      "cell_type": "code",
      "metadata": {
        "id": "kgSbZ7eHnh-5",
        "colab_type": "code",
        "colab": {}
      },
      "source": [
        "def generate_glove_matrix(vocab_len):\n",
        "  embedding_matrix = np.zeros((vocab_len+1, 100))\n",
        "  for word, i in word2idx.items():\n",
        "      embedding_vector = embeddings_index.get(word)\n",
        "      if embedding_vector is not None:\n",
        "          embedding_matrix[i+1] = embedding_vector\n",
        "  return embedding_matrix"
      ],
      "execution_count": 0,
      "outputs": []
    },
    {
      "cell_type": "markdown",
      "metadata": {
        "id": "QDSiyQLCQ3xz",
        "colab_type": "text"
      },
      "source": [
        "# Building our models"
      ]
    },
    {
      "cell_type": "markdown",
      "metadata": {
        "id": "tK5f7_tBVMyv",
        "colab_type": "text"
      },
      "source": [
        "## Building domain specific classification Model"
      ]
    },
    {
      "cell_type": "code",
      "metadata": {
        "id": "tKzUGdzsVb1A",
        "colab_type": "code",
        "colab": {}
      },
      "source": [
        "def classification_model(max_encoder_len,embedding_dim,latent_dim,include_glove=False):\n",
        "  inputs = Input(shape=(max_encoder_len,),name=\"encoder_inputs\")\n",
        "\n",
        "  if include_glove:\n",
        "    encoder_embedding = Embedding(vocab_len+1,embedding_dim,trainable=True,weights=[embedding_matrix],input_length=max_encoder_len,mask_zero=True,name=\"encoder_embedding\")\n",
        "\n",
        "  else:\n",
        "    encoder_embedding = Embedding(vocab_len+1,embedding_dim,trainable=True,input_length=max_encoder_len,mask_zero=True,name=\"encoder_embedding\")\n",
        "\n",
        "  encoder_inputs = encoder_embedding(inputs)\n",
        "\n",
        "\n",
        "  encoder = LSTM(latent_dim,return_state=True)\n",
        "\n",
        "\n",
        "  encoder_outputs, state_h, state_c = encoder(encoder_inputs)\n",
        "\n",
        "  fully_connected_CC = Dense(128,\n",
        "                        activation=\"tanh\",\n",
        "                        name=\"non_linear_CC\")\n",
        "\n",
        "  logits_CC = fully_connected_CC(encoder_outputs)\n",
        "\n",
        "  softmax_layer_CC = Dense(2,\n",
        "                      activation=\"softmax\",\n",
        "                      name=\"softmax_layer_CC\")\n",
        "\n",
        "  output_CC = softmax_layer_CC(logits_CC)\n",
        "\n",
        "  model = Model(inputs,output_CC)\n",
        "\n",
        "  return model\n",
        "\n",
        "\n"
      ],
      "execution_count": 0,
      "outputs": []
    },
    {
      "cell_type": "markdown",
      "metadata": {
        "id": "QBRqKRtOV3hs",
        "colab_type": "text"
      },
      "source": [
        "## Building domain independent model with domain loss"
      ]
    },
    {
      "cell_type": "code",
      "metadata": {
        "id": "yPvmnzgnV-aW",
        "colab_type": "code",
        "colab": {}
      },
      "source": [
        "def classification_domain_model(max_encoder_len,embedding_dim,latent_dim,include_glove=False):\n",
        "  inputs = Input(shape=(max_encoder_len,),name=\"encoder_inputs\")\n",
        "\n",
        "\n",
        "  if include_glove:\n",
        "    encoder_embedding = Embedding(vocab_len+1,embedding_dim,trainable=True,weights=[embedding_matrix],input_length=max_encoder_len,mask_zero=True,name=\"encoder_embedding\")\n",
        "\n",
        "  else:\n",
        "    encoder_embedding = Embedding(vocab_len+1,embedding_dim,trainable=True,input_length=max_encoder_len,mask_zero=True,name=\"encoder_embedding\")\n",
        "\n",
        "  encoder_inputs = encoder_embedding(inputs)\n",
        "\n",
        "\n",
        "  encoder = LSTM(latent_dim,return_state=True)\n",
        "\n",
        "\n",
        "  encoder_outputs, state_h, state_c = encoder(encoder_inputs)\n",
        "\n",
        "\n",
        "  encoder_states = [state_h,state_c]\n",
        "\n",
        "\n",
        "  ########## Content Classification Part ###############\n",
        "\n",
        "  fully_connected_CC = Dense(128,\n",
        "                        activation=\"tanh\",\n",
        "                        name=\"non_linear_CC\")\n",
        "\n",
        "  logits_CC = fully_connected_CC(encoder_outputs)\n",
        "\n",
        "  softmax_layer_CC = Dense(2,\n",
        "                      activation=\"softmax\",\n",
        "                      name=\"softmax_layer_CC\")\n",
        "\n",
        "  output_CC = softmax_layer_CC(logits_CC)\n",
        "\n",
        "\n",
        "  ######### Domain Classification Part ##############\n",
        "\n",
        "  fully_connected_DC = Dense(128,\n",
        "                        activation=\"tanh\",\n",
        "                        name=\"non_linear_DC\")\n",
        "\n",
        "  logits_DC = fully_connected_DC(encoder_outputs)\n",
        "\n",
        "  softmax_layer_DC = Dense(2,\n",
        "                      activation=\"softmax\",\n",
        "                      name=\"softmax_layer_DC\")\n",
        "\n",
        "  output_DC = softmax_layer_DC(logits_DC)\n",
        "\n",
        "\n",
        "  model = Model(inputs,[output_CC,output_DC])\n",
        "\n",
        "  return model\n",
        "\n"
      ],
      "execution_count": 0,
      "outputs": []
    },
    {
      "cell_type": "markdown",
      "metadata": {
        "id": "mrvdwQp2XC39",
        "colab_type": "text"
      },
      "source": [
        "## Building Plain Autoencoder"
      ]
    },
    {
      "cell_type": "code",
      "metadata": {
        "id": "8jcmhNNTW2hH",
        "colab_type": "code",
        "colab": {}
      },
      "source": [
        "def autoencoder(max_encoder_len,embedding_dim,latent_dim):\n",
        "  inputs = Input(shape=(max_encoder_len,),name=\"encoder_inputs\")\n",
        "\n",
        "\n",
        "  encoder_embedding = Embedding(vocab_len+1,embedding_dim,trainable=True,input_length=max_encoder_len,mask_zero=True,name=\"encoder_embedding\")\n",
        "\n",
        "  encoder_inputs = encoder_embedding(inputs)\n",
        "\n",
        "\n",
        "  encoder = LSTM(latent_dim,return_state=True)\n",
        "\n",
        "\n",
        "  encoder_outputs, state_h, state_c = encoder(encoder_inputs)\n",
        "\n",
        "\n",
        "  encoder_states = [state_h,state_c]\n",
        "\n",
        "  decoder_inputs = RepeatVector(max_encoder_len)(encoder_outputs)\n",
        "\n",
        "\n",
        "  decoder_lstm = LSTM(64, \n",
        "                          return_state=True,\n",
        "                          return_sequences=True,\n",
        "                          name = 'decoder_lstm')\n",
        "\n",
        "\n",
        "  decoder_outputs, _, _ = decoder_lstm(decoder_inputs,initial_state=encoder_states)\n",
        "\n",
        "\n",
        "  decoder_dense = Dense(vocab_len+1, \n",
        "                        activation='softmax', \n",
        "                        name = 'decoder_dense')\n",
        "  decoder_outputs = decoder_dense(decoder_outputs)\n",
        "\n",
        "\n",
        "\n",
        "  model = Model(inputs,decoder_outputs)\n",
        "\n",
        "  return model\n"
      ],
      "execution_count": 0,
      "outputs": []
    },
    {
      "cell_type": "markdown",
      "metadata": {
        "id": "E3Ei-jLknh-8",
        "colab_type": "text"
      },
      "source": [
        "## Building the Final model"
      ]
    },
    {
      "cell_type": "code",
      "metadata": {
        "id": "g3JeUaY8nh-9",
        "colab_type": "code",
        "colab": {}
      },
      "source": [
        "def final_model(max_encoder_len,embedding_dim,latent_dim,include_glove=False):\n",
        "  inputs = Input(shape=(max_encoder_len,),name=\"encoder_inputs\")\n",
        "\n",
        "\n",
        "  if include_glove:\n",
        "    encoder_embedding = Embedding(vocab_len+1,embedding_dim,trainable=True,weights=[embedding_matrix],input_length=max_encoder_len,mask_zero=True,name=\"encoder_embedding\")\n",
        "\n",
        "  else:\n",
        "    encoder_embedding = Embedding(vocab_len+1,embedding_dim,trainable=True,input_length=max_encoder_len,mask_zero=True,name=\"encoder_embedding\")\n",
        "\n",
        "  encoder_inputs = encoder_embedding(inputs)\n",
        "\n",
        "\n",
        "  encoder = LSTM(latent_dim,return_state=True)\n",
        "\n",
        "\n",
        "  encoder_outputs, state_h, state_c = encoder(encoder_inputs)\n",
        "\n",
        "\n",
        "  encoder_states = [state_h,state_c]\n",
        "\n",
        "\n",
        "  ########## Content Classification Part ###############\n",
        "\n",
        "  fully_connected_CC = Dense(128,\n",
        "                        activation=\"tanh\",\n",
        "                        name=\"non_linear_CC\")\n",
        "\n",
        "  logits_CC = fully_connected_CC(encoder_outputs)\n",
        "\n",
        "  softmax_layer_CC = Dense(2,\n",
        "                      activation=\"softmax\",\n",
        "                      name=\"softmax_layer_CC\")\n",
        "\n",
        "  output_CC = softmax_layer_CC(logits_CC)\n",
        "\n",
        "\n",
        "  ######### Domain Classification Part ##############\n",
        "\n",
        "  fully_connected_DC = Dense(128,\n",
        "                        activation=\"tanh\",\n",
        "                        name=\"non_linear_DC\")\n",
        "\n",
        "  logits_DC = fully_connected_DC(encoder_outputs)\n",
        "\n",
        "  softmax_layer_DC = Dense(2,\n",
        "                      activation=\"softmax\",\n",
        "                      name=\"softmax_layer_DC\")\n",
        "\n",
        "  output_DC = softmax_layer_DC(logits_DC)\n",
        "\n",
        "\n",
        "  ########### Autoencoder PART #############\n",
        "  decoder_inputs = RepeatVector(max_encoder_len)(encoder_outputs)\n",
        "\n",
        "\n",
        "  decoder_lstm = LSTM(64, \n",
        "                          return_state=True,\n",
        "                          return_sequences=True,\n",
        "                          name = 'decoder_lstm')\n",
        "\n",
        "\n",
        "  decoder_outputs, _, _ = decoder_lstm(decoder_inputs,initial_state=encoder_states)\n",
        "\n",
        "\n",
        "  decoder_dense = Dense(vocab_len+1, \n",
        "                        activation='softmax', \n",
        "                        name = 'decoder_dense')\n",
        "  decoder_outputs = decoder_dense(decoder_outputs)\n",
        "\n",
        "\n",
        "\n",
        "  model = Model(inputs,[decoder_outputs,output_CC,output_DC])\n",
        "\n",
        "  return model"
      ],
      "execution_count": 0,
      "outputs": []
    },
    {
      "cell_type": "code",
      "metadata": {
        "id": "AjysfxQRnh-_",
        "colab_type": "code",
        "colab": {}
      },
      "source": [
        "def print_model_summary(model):\n",
        "  model.summary()"
      ],
      "execution_count": 0,
      "outputs": []
    },
    {
      "cell_type": "code",
      "metadata": {
        "id": "DI1Jv6iZ-AZR",
        "colab_type": "code",
        "colab": {}
      },
      "source": [
        "# from keras import backend as K\n",
        "\n",
        "# def recall_m(y_true, y_pred):\n",
        "#         true_positives = K.sum(K.round(K.clip(y_true * y_pred, 0, 1)))\n",
        "#         possible_positives = K.sum(K.round(K.clip(y_true, 0, 1)))\n",
        "#         recall = true_positives / (possible_positives + K.epsilon())\n",
        "#         return recall\n",
        "\n",
        "# def precision_m(y_true, y_pred):\n",
        "#         true_positives = K.sum(K.round(K.clip(y_true * y_pred, 0, 1)))\n",
        "#         predicted_positives = K.sum(K.round(K.clip(y_pred, 0, 1)))\n",
        "#         precision = true_positives / (predicted_positives + K.epsilon())\n",
        "#         return precision\n",
        "\n",
        "# def f1_m(y_true, y_pred):\n",
        "#     precision = precision_m(y_true, y_pred)\n",
        "#     recall = recall_m(y_true, y_pred)\n",
        "#     return 2*((precision*recall)/(precision+recall+K.epsilon()))"
      ],
      "execution_count": 0,
      "outputs": []
    },
    {
      "cell_type": "markdown",
      "metadata": {
        "id": "Kxh20g_Nnh_f",
        "colab_type": "text"
      },
      "source": [
        "# Experiments"
      ]
    },
    {
      "cell_type": "markdown",
      "metadata": {
        "id": "y8730pJvpWYT",
        "colab_type": "text"
      },
      "source": [
        "## Experiment 1: Domain Specific Classification"
      ]
    },
    {
      "cell_type": "code",
      "metadata": {
        "colab_type": "code",
        "id": "NuWOxZrdgUFk",
        "colab": {}
      },
      "source": [
        "def prepare_training_data(df,vocab_size):\n",
        "  encoder_inputs = encoder_data(df)\n",
        "  y_cc = fake_news_target(df)\n",
        "  y_dc = domain_target(df)\n",
        "\n",
        "  shuffle = Shuffle(len(encoder_inputs)) ## Initializing the shuffle class instance\n",
        "  encoder_inputs = shuffle.shuffle(encoder_inputs)\n",
        "  y_cc = shuffle.shuffle(y_cc)\n",
        "  y_dc = shuffle.shuffle(y_dc) ## Not used\n",
        "\n",
        "  word2idx,idx2word,tokenizer = create_vocab(encoder_inputs,vocab_size)\n",
        "\n",
        "  vocab_len = len(word2idx)\n",
        "\n",
        "  encoder_inputs = pad_tokenize_data(encoder_inputs,max_sentence_length,tokenizer)\n",
        "\n",
        "  encoder_inputs,[decoder_target,y_cc,y_dc] = all_data_generator(encoder_inputs,y_cc,y_dc,max_sentence_length,word2idx)\n",
        "\n",
        "  train_X, test_X, train_Y, test_Y = train_test_split(encoder_inputs,y_cc,test_size=0.1,random_state=42)\n",
        "\n",
        "  return [[train_X, test_X, train_Y, test_Y],[word2idx,idx2word,tokenizer],vocab_len]\n",
        "\n",
        "  "
      ],
      "execution_count": 0,
      "outputs": []
    },
    {
      "cell_type": "code",
      "metadata": {
        "colab_type": "code",
        "id": "OKRQ4OfOgUFo",
        "colab": {}
      },
      "source": [
        "def prepare_testing_data(df,word2idx):\n",
        "  encoder_inputs = encoder_data(df)\n",
        "  y_cc = fake_news_target(df)\n",
        "  y_dc = domain_target(df)\n",
        "\n",
        "  encoder_inputs = pad_tokenize_data(encoder_inputs,max_sentence_length,tokenizer)\n",
        "\n",
        "  encoder_inputs,[decoder_target,y_cc,y_dc] = all_data_generator(encoder_inputs,y_cc,y_dc,max_sentence_length,word2idx)\n",
        "\n",
        "  return [encoder_inputs,[decoder_target,y_cc,y_dc]]\n",
        "\n"
      ],
      "execution_count": 0,
      "outputs": []
    },
    {
      "cell_type": "markdown",
      "metadata": {
        "id": "9diT-0X5AV2N",
        "colab_type": "text"
      },
      "source": [
        "### Training"
      ]
    },
    {
      "cell_type": "code",
      "metadata": {
        "id": "_Cy0rRie--Eh",
        "colab_type": "code",
        "colab": {}
      },
      "source": [
        "max_sentence_length = 100\n",
        "embedding_dim = 100\n",
        "latent_dim=64\n",
        "vocab_size=5000\n"
      ],
      "execution_count": 0,
      "outputs": []
    },
    {
      "cell_type": "code",
      "metadata": {
        "id": "DOs3lLPtK7Os",
        "colab_type": "code",
        "colab": {}
      },
      "source": [
        "[train_X, test_X, train_Y, test_Y],[word2idx,idx2word,tokenizer],vocab_len = prepare_training_data(domain1_frame,vocab_size=vocab_size)"
      ],
      "execution_count": 0,
      "outputs": []
    },
    {
      "cell_type": "code",
      "metadata": {
        "id": "HHN3fUK93YUD",
        "colab_type": "code",
        "colab": {
          "base_uri": "https://localhost:8080/",
          "height": 164
        },
        "outputId": "330b8bec-bc37-4557-d1d6-12c42399df02"
      },
      "source": [
        "embedding_matrix = generate_glove_matrix(vocab_len)"
      ],
      "execution_count": 30,
      "outputs": [
        {
          "output_type": "error",
          "ename": "NameError",
          "evalue": "ignored",
          "traceback": [
            "\u001b[0;31m---------------------------------------------------------------------------\u001b[0m",
            "\u001b[0;31mNameError\u001b[0m                                 Traceback (most recent call last)",
            "\u001b[0;32m<ipython-input-30-7118ca9fdae9>\u001b[0m in \u001b[0;36m<module>\u001b[0;34m()\u001b[0m\n\u001b[0;32m----> 1\u001b[0;31m \u001b[0membedding_matrix\u001b[0m \u001b[0;34m=\u001b[0m \u001b[0mgenerate_glove_matrix\u001b[0m\u001b[0;34m(\u001b[0m\u001b[0mvocab_len\u001b[0m\u001b[0;34m)\u001b[0m\u001b[0;34m\u001b[0m\u001b[0;34m\u001b[0m\u001b[0m\n\u001b[0m",
            "\u001b[0;31mNameError\u001b[0m: name 'generate_glove_matrix' is not defined"
          ]
        }
      ]
    },
    {
      "cell_type": "code",
      "metadata": {
        "id": "xS8HHDmIxXZy",
        "colab_type": "code",
        "colab": {
          "base_uri": "https://localhost:8080/",
          "height": 190
        },
        "outputId": "2191a37a-8f53-427b-8853-edafadf18ea2"
      },
      "source": [
        "model = classification_model(max_sentence_length,embedding_dim,latent_dim,include_glove=False)"
      ],
      "execution_count": 31,
      "outputs": [
        {
          "output_type": "stream",
          "text": [
            "WARNING:tensorflow:From /usr/local/lib/python3.6/dist-packages/keras/backend/tensorflow_backend.py:541: The name tf.placeholder is deprecated. Please use tf.compat.v1.placeholder instead.\n",
            "\n",
            "WARNING:tensorflow:From /usr/local/lib/python3.6/dist-packages/keras/backend/tensorflow_backend.py:4432: The name tf.random_uniform is deprecated. Please use tf.random.uniform instead.\n",
            "\n",
            "WARNING:tensorflow:From /usr/local/lib/python3.6/dist-packages/keras/backend/tensorflow_backend.py:66: The name tf.get_default_graph is deprecated. Please use tf.compat.v1.get_default_graph instead.\n",
            "\n",
            "WARNING:tensorflow:From /usr/local/lib/python3.6/dist-packages/keras/backend/tensorflow_backend.py:3239: where (from tensorflow.python.ops.array_ops) is deprecated and will be removed in a future version.\n",
            "Instructions for updating:\n",
            "Use tf.where in 2.0, which has the same broadcast rule as np.where\n"
          ],
          "name": "stdout"
        }
      ]
    },
    {
      "cell_type": "code",
      "metadata": {
        "id": "c2JegSpMzpLl",
        "colab_type": "code",
        "colab": {
          "base_uri": "https://localhost:8080/",
          "height": 323
        },
        "outputId": "68c11c9e-70f9-4ccb-be83-61f6a7879666"
      },
      "source": [
        "print_model_summary(model)"
      ],
      "execution_count": 32,
      "outputs": [
        {
          "output_type": "stream",
          "text": [
            "Model: \"model_1\"\n",
            "_________________________________________________________________\n",
            "Layer (type)                 Output Shape              Param #   \n",
            "=================================================================\n",
            "encoder_inputs (InputLayer)  (None, 100)               0         \n",
            "_________________________________________________________________\n",
            "encoder_embedding (Embedding (None, 100, 100)          500200    \n",
            "_________________________________________________________________\n",
            "lstm_1 (LSTM)                [(None, 64), (None, 64),  42240     \n",
            "_________________________________________________________________\n",
            "non_linear_CC (Dense)        (None, 128)               8320      \n",
            "_________________________________________________________________\n",
            "softmax_layer_CC (Dense)     (None, 2)                 258       \n",
            "=================================================================\n",
            "Total params: 551,018\n",
            "Trainable params: 551,018\n",
            "Non-trainable params: 0\n",
            "_________________________________________________________________\n"
          ],
          "name": "stdout"
        }
      ]
    },
    {
      "cell_type": "code",
      "metadata": {
        "colab_type": "code",
        "outputId": "9e7400ad-2cb3-4b1b-a1d3-f02bc3e27244",
        "id": "da21p1aN0h-a",
        "colab": {
          "base_uri": "https://localhost:8080/",
          "height": 649
        }
      },
      "source": [
        "model.compile(optimizer=\"rmsprop\", loss='binary_crossentropy',metrics=['accuracy'])\n",
        "es = EarlyStopping(monitor='val_loss', mode='min', patience=5,verbose=1)\n",
        "mcp_save = ModelCheckpoint('.mdl_wts.hdf5', save_best_only=True, monitor='val_loss', mode='min')\n",
        "reduce_lr_loss = ReduceLROnPlateau(monitor='val_loss', factor=0.1, patience=7, verbose=1, epsilon=1e-4, mode='min')\n",
        "history = model.fit(train_X, \n",
        "                    train_Y,\n",
        "                    batch_size=256,\n",
        "                    validation_split=0.1,\n",
        "#                     shuffle=True,\n",
        "                    callbacks=[es,mcp_save,reduce_lr_loss],\n",
        "                    epochs=30)"
      ],
      "execution_count": 35,
      "outputs": [
        {
          "output_type": "stream",
          "text": [
            "/usr/local/lib/python3.6/dist-packages/keras/callbacks.py:1335: UserWarning: `epsilon` argument is deprecated and will be removed, use `min_delta` instead.\n",
            "  warnings.warn('`epsilon` argument is deprecated and '\n"
          ],
          "name": "stderr"
        },
        {
          "output_type": "stream",
          "text": [
            "WARNING:tensorflow:From /usr/local/lib/python3.6/dist-packages/keras/backend/tensorflow_backend.py:1033: The name tf.assign_add is deprecated. Please use tf.compat.v1.assign_add instead.\n",
            "\n",
            "WARNING:tensorflow:From /usr/local/lib/python3.6/dist-packages/keras/backend/tensorflow_backend.py:1020: The name tf.assign is deprecated. Please use tf.compat.v1.assign instead.\n",
            "\n",
            "WARNING:tensorflow:From /usr/local/lib/python3.6/dist-packages/keras/backend/tensorflow_backend.py:3005: The name tf.Session is deprecated. Please use tf.compat.v1.Session instead.\n",
            "\n",
            "Train on 4710 samples, validate on 524 samples\n",
            "Epoch 1/30\n",
            "WARNING:tensorflow:From /usr/local/lib/python3.6/dist-packages/keras/backend/tensorflow_backend.py:190: The name tf.get_default_session is deprecated. Please use tf.compat.v1.get_default_session instead.\n",
            "\n",
            "WARNING:tensorflow:From /usr/local/lib/python3.6/dist-packages/keras/backend/tensorflow_backend.py:197: The name tf.ConfigProto is deprecated. Please use tf.compat.v1.ConfigProto instead.\n",
            "\n",
            "WARNING:tensorflow:From /usr/local/lib/python3.6/dist-packages/keras/backend/tensorflow_backend.py:207: The name tf.global_variables is deprecated. Please use tf.compat.v1.global_variables instead.\n",
            "\n",
            "WARNING:tensorflow:From /usr/local/lib/python3.6/dist-packages/keras/backend/tensorflow_backend.py:216: The name tf.is_variable_initialized is deprecated. Please use tf.compat.v1.is_variable_initialized instead.\n",
            "\n",
            "WARNING:tensorflow:From /usr/local/lib/python3.6/dist-packages/keras/backend/tensorflow_backend.py:223: The name tf.variables_initializer is deprecated. Please use tf.compat.v1.variables_initializer instead.\n",
            "\n",
            "4710/4710 [==============================] - 11s 2ms/step - loss: 0.6612 - acc: 0.6180 - val_loss: 0.6364 - val_acc: 0.6527\n",
            "Epoch 2/30\n",
            "4710/4710 [==============================] - 5s 1ms/step - loss: 0.5723 - acc: 0.7270 - val_loss: 0.5671 - val_acc: 0.7042\n",
            "Epoch 3/30\n",
            "4710/4710 [==============================] - 5s 1ms/step - loss: 0.4291 - acc: 0.8087 - val_loss: 0.5511 - val_acc: 0.7252\n",
            "Epoch 4/30\n",
            "4710/4710 [==============================] - 5s 1ms/step - loss: 0.3407 - acc: 0.8648 - val_loss: 0.6312 - val_acc: 0.6641\n",
            "Epoch 5/30\n",
            "4710/4710 [==============================] - 5s 1ms/step - loss: 0.2935 - acc: 0.8834 - val_loss: 0.6307 - val_acc: 0.7634\n",
            "Epoch 6/30\n",
            "4710/4710 [==============================] - 5s 1ms/step - loss: 0.2339 - acc: 0.9072 - val_loss: 0.6112 - val_acc: 0.7328\n",
            "Epoch 7/30\n",
            "4710/4710 [==============================] - 5s 1ms/step - loss: 0.1831 - acc: 0.9295 - val_loss: 0.8360 - val_acc: 0.7481\n",
            "Epoch 8/30\n",
            "4710/4710 [==============================] - 5s 1ms/step - loss: 0.1604 - acc: 0.9423 - val_loss: 0.7268 - val_acc: 0.7252\n",
            "Epoch 00008: early stopping\n"
          ],
          "name": "stdout"
        }
      ]
    },
    {
      "cell_type": "markdown",
      "metadata": {
        "id": "D6C6Hh4ZA1g2",
        "colab_type": "text"
      },
      "source": [
        "### Testing"
      ]
    },
    {
      "cell_type": "code",
      "metadata": {
        "id": "CkiddPt5A4W4",
        "colab_type": "code",
        "colab": {}
      },
      "source": [
        "y_pred = model.predict(test_X)\n",
        "y_pred = np.array([np.argmax(x) for x in y_pred])\n",
        "y_true = np.array([np.argmax(x) for x in test_Y])"
      ],
      "execution_count": 0,
      "outputs": []
    },
    {
      "cell_type": "code",
      "metadata": {
        "id": "p54c9j3hCAPy",
        "colab_type": "code",
        "colab": {
          "base_uri": "https://localhost:8080/",
          "height": 170
        },
        "outputId": "80e8c32b-15c2-43a1-e3ff-a4aab43b460b"
      },
      "source": [
        "print(f\"Prediction acuracy on same domain is {round(accuracy_score(y_true,y_pred),2)}\")\n",
        "print(f\"Precision on same domain is {round(precision_score(y_true,y_pred),2)}\")\n",
        "print(f\"Recall on same domain is {round(recall_score(y_true,y_pred),2)}\")\n",
        "print(f\"F1 on same domain is {round(f1_score(y_true,y_pred),2)}\")\n",
        "cmtx = pd.DataFrame(\n",
        "    confusion_matrix(y_true, y_pred, labels=[1, 0]), \n",
        "    index=['true:Fake', 'true:Real'], \n",
        "    columns=['pred:Fake', 'pred:Real']\n",
        ")\n",
        "print(\"\\n\")\n",
        "print(cmtx)"
      ],
      "execution_count": 37,
      "outputs": [
        {
          "output_type": "stream",
          "text": [
            "Prediction acuracy on same domain is 0.71\n",
            "Precision on same domain is 0.6\n",
            "Recall on same domain is 0.6\n",
            "F1 on same domain is 0.6\n",
            "\n",
            "\n",
            "           pred:Fake  pred:Real\n",
            "true:Fake        128         87\n",
            "true:Real         84        283\n"
          ],
          "name": "stdout"
        }
      ]
    },
    {
      "cell_type": "code",
      "metadata": {
        "id": "YfNgPQOWEzj2",
        "colab_type": "code",
        "colab": {}
      },
      "source": [
        "d2_encoder_inputs,[decoder_target,d2_y_cc,d2_y_dc] = prepare_testing_data(domain2_frame,word2idx)"
      ],
      "execution_count": 0,
      "outputs": []
    },
    {
      "cell_type": "code",
      "metadata": {
        "id": "r7lzSpTOFG0i",
        "colab_type": "code",
        "colab": {}
      },
      "source": [
        "y_pred = model.predict(d2_encoder_inputs)\n",
        "y_pred = np.array([np.argmax(x) for x in y_pred])\n",
        "y_true = np.array([np.argmax(x) for x in d2_y_cc])"
      ],
      "execution_count": 0,
      "outputs": []
    },
    {
      "cell_type": "code",
      "metadata": {
        "id": "FUQ5NL62FjsX",
        "colab_type": "code",
        "colab": {
          "base_uri": "https://localhost:8080/",
          "height": 170
        },
        "outputId": "51edf6be-25fb-4847-bc3e-ea01986d32ed"
      },
      "source": [
        "print(f\"Prediction acuracy on different domain is {round(accuracy_score(y_true,y_pred),2)}\")\n",
        "print(f\"Precision on different domain is {round(precision_score(y_true,y_pred),2)}\")\n",
        "print(f\"Recall on different domain is {round(recall_score(y_true,y_pred),2)}\")\n",
        "print(f\"F1 on different domain is {round(f1_score(y_true,y_pred),2)}\")\n",
        "cmtx = pd.DataFrame(\n",
        "    confusion_matrix(y_true, y_pred, labels=[1, 0]), \n",
        "    index=['true:Fake', 'true:Real'], \n",
        "    columns=['pred:Fake', 'pred:Real']\n",
        ")\n",
        "print(\"\\n\")\n",
        "print(cmtx)"
      ],
      "execution_count": 40,
      "outputs": [
        {
          "output_type": "stream",
          "text": [
            "Prediction acuracy on different domain is 0.51\n",
            "Precision on different domain is 0.71\n",
            "Recall on different domain is 0.41\n",
            "F1 on different domain is 0.52\n",
            "\n",
            "\n",
            "           pred:Fake  pred:Real\n",
            "true:Fake        110        160\n",
            "true:Real         44        101\n"
          ],
          "name": "stdout"
        }
      ]
    },
    {
      "cell_type": "markdown",
      "metadata": {
        "id": "9KYqJF0HfTMF",
        "colab_type": "text"
      },
      "source": [
        "## Experiment 2: Domain Independent (No AutoEncoder)"
      ]
    },
    {
      "cell_type": "code",
      "metadata": {
        "colab_type": "code",
        "id": "wR7QvdNWgeGO",
        "colab": {}
      },
      "source": [
        "def prepare_training_data(df,vocab_size):\n",
        "  encoder_inputs = encoder_data(df)\n",
        "  y_cc = fake_news_target(df)\n",
        "  y_dc = domain_target(df)\n",
        "\n",
        "  shuffle = Shuffle(len(encoder_inputs)) ## Initializing the shuffle class instance\n",
        "  encoder_inputs = shuffle.shuffle(encoder_inputs)\n",
        "  y_cc = shuffle.shuffle(y_cc)\n",
        "  y_dc = shuffle.shuffle(y_dc) \n",
        "\n",
        "  word2idx,idx2word,tokenizer = create_vocab(encoder_inputs,vocab_size)\n",
        "\n",
        "  vocab_len = len(word2idx)\n",
        "\n",
        "  encoder_inputs = pad_tokenize_data(encoder_inputs,max_sentence_length,tokenizer)\n",
        "\n",
        "  encoder_inputs,[decoder_target,y_cc,y_dc] = all_data_generator(encoder_inputs,y_cc,y_dc,max_sentence_length,word2idx)\n",
        "\n",
        "  train_X, test_X, train_C_Y, test_C_Y,train_D_Y,test_D_Y = train_test_split(encoder_inputs,y_cc,y_dc,test_size=0.1,random_state=42)\n",
        "\n",
        "  return [[train_X, test_X, train_C_Y, test_C_Y,train_D_Y,test_D_Y],[word2idx,idx2word,tokenizer],vocab_len]\n",
        "\n",
        "  "
      ],
      "execution_count": 0,
      "outputs": []
    },
    {
      "cell_type": "markdown",
      "metadata": {
        "id": "Hc_K6oSQfkuO",
        "colab_type": "text"
      },
      "source": [
        "### Training"
      ]
    },
    {
      "cell_type": "code",
      "metadata": {
        "id": "keICwjnSfp3o",
        "colab_type": "code",
        "colab": {}
      },
      "source": [
        "max_sentence_length = 100\n",
        "embedding_dim = 100\n",
        "latent_dim=64\n",
        "vocab_size=2000"
      ],
      "execution_count": 0,
      "outputs": []
    },
    {
      "cell_type": "code",
      "metadata": {
        "id": "bhnGPEyPf-5m",
        "colab_type": "code",
        "colab": {}
      },
      "source": [
        "[train_X, test_X, train_C_Y, test_C_Y,train_D_Y,test_D_Y],[word2idx,idx2word,tokenizer],vocab_len = prepare_training_data(pd.concat([domain1_frame,domain2_frame]),vocab_size=vocab_size)"
      ],
      "execution_count": 0,
      "outputs": []
    },
    {
      "cell_type": "code",
      "metadata": {
        "id": "emlBUzKGiPBU",
        "colab_type": "code",
        "colab": {}
      },
      "source": [
        "model = classification_domain_model(max_sentence_length,embedding_dim,latent_dim,include_glove=False)"
      ],
      "execution_count": 0,
      "outputs": []
    },
    {
      "cell_type": "code",
      "metadata": {
        "id": "aGa5AlF9k3M8",
        "colab_type": "code",
        "colab": {
          "base_uri": "https://localhost:8080/",
          "height": 391
        },
        "outputId": "a0766b23-52d8-47ca-8c5e-93fe672838c8"
      },
      "source": [
        "print_model_summary(model)"
      ],
      "execution_count": 45,
      "outputs": [
        {
          "output_type": "stream",
          "text": [
            "Model: \"model_2\"\n",
            "__________________________________________________________________________________________________\n",
            "Layer (type)                    Output Shape         Param #     Connected to                     \n",
            "==================================================================================================\n",
            "encoder_inputs (InputLayer)     (None, 100)          0                                            \n",
            "__________________________________________________________________________________________________\n",
            "encoder_embedding (Embedding)   (None, 100, 100)     200200      encoder_inputs[0][0]             \n",
            "__________________________________________________________________________________________________\n",
            "lstm_2 (LSTM)                   [(None, 64), (None,  42240       encoder_embedding[0][0]          \n",
            "__________________________________________________________________________________________________\n",
            "non_linear_CC (Dense)           (None, 128)          8320        lstm_2[0][0]                     \n",
            "__________________________________________________________________________________________________\n",
            "non_linear_DC (Dense)           (None, 128)          8320        lstm_2[0][0]                     \n",
            "__________________________________________________________________________________________________\n",
            "softmax_layer_CC (Dense)        (None, 2)            258         non_linear_CC[0][0]              \n",
            "__________________________________________________________________________________________________\n",
            "softmax_layer_DC (Dense)        (None, 2)            258         non_linear_DC[0][0]              \n",
            "==================================================================================================\n",
            "Total params: 259,596\n",
            "Trainable params: 259,596\n",
            "Non-trainable params: 0\n",
            "__________________________________________________________________________________________________\n"
          ],
          "name": "stdout"
        }
      ]
    },
    {
      "cell_type": "code",
      "metadata": {
        "id": "CmYoKQDkk9tU",
        "colab_type": "code",
        "colab": {
          "base_uri": "https://localhost:8080/",
          "height": 581
        },
        "outputId": "f8317f78-446b-47da-9d34-39c76f6ada20"
      },
      "source": [
        "model.compile(optimizer=\"rmsprop\", loss=['binary_crossentropy','binary_crossentropy'],loss_weights=[0.7,-0.2],metrics=['accuracy'])\n",
        "es = EarlyStopping(monitor='val_loss', mode='min', patience=30,verbose=1)\n",
        "mcp_save = ModelCheckpoint('.md2_wts.hdf5', save_best_only=True, monitor='val_loss', mode='min')\n",
        "reduce_lr_loss = ReduceLROnPlateau(monitor='val_loss', factor=0.1, patience=7, verbose=1, epsilon=1e-4, mode='min')\n",
        "history = model.fit(train_X, \n",
        "                    [train_C_Y,train_D_Y],\n",
        "                    batch_size=256,\n",
        "                    validation_split=0.1,\n",
        "#                     shuffle=True,\n",
        "                    callbacks=[es,mcp_save,reduce_lr_loss],\n",
        "                    epochs=30)"
      ],
      "execution_count": 46,
      "outputs": [
        {
          "output_type": "stream",
          "text": [
            "/usr/local/lib/python3.6/dist-packages/keras/callbacks.py:1335: UserWarning: `epsilon` argument is deprecated and will be removed, use `min_delta` instead.\n",
            "  warnings.warn('`epsilon` argument is deprecated and '\n"
          ],
          "name": "stderr"
        },
        {
          "output_type": "stream",
          "text": [
            "Train on 5046 samples, validate on 561 samples\n",
            "Epoch 1/30\n",
            "5046/5046 [==============================] - 6s 1ms/step - loss: -1.6810 - softmax_layer_CC_loss: 0.6993 - softmax_layer_DC_loss: 10.8526 - softmax_layer_CC_acc: 0.5729 - softmax_layer_DC_acc: 0.0781 - val_loss: -2.4666 - val_softmax_layer_CC_loss: 0.7064 - val_softmax_layer_DC_loss: 14.8055 - val_softmax_layer_CC_acc: 0.6025 - val_softmax_layer_DC_acc: 0.0749\n",
            "Epoch 2/30\n",
            "5046/5046 [==============================] - 5s 1ms/step - loss: -2.5049 - softmax_layer_CC_loss: 0.6877 - softmax_layer_DC_loss: 14.9313 - softmax_layer_CC_acc: 0.5676 - softmax_layer_DC_acc: 0.0660 - val_loss: -2.4898 - val_softmax_layer_CC_loss: 0.6785 - val_softmax_layer_DC_loss: 14.8239 - val_softmax_layer_CC_acc: 0.6043 - val_softmax_layer_DC_acc: 0.0749\n",
            "Epoch 3/30\n",
            "5046/5046 [==============================] - 5s 1ms/step - loss: -2.5153 - softmax_layer_CC_loss: 0.6786 - softmax_layer_DC_loss: 14.9515 - softmax_layer_CC_acc: 0.5820 - softmax_layer_DC_acc: 0.0660 - val_loss: -2.4852 - val_softmax_layer_CC_loss: 0.6869 - val_softmax_layer_DC_loss: 14.8301 - val_softmax_layer_CC_acc: 0.6025 - val_softmax_layer_DC_acc: 0.0749\n",
            "Epoch 4/30\n",
            "5046/5046 [==============================] - 6s 1ms/step - loss: -2.5188 - softmax_layer_CC_loss: 0.6771 - softmax_layer_DC_loss: 14.9639 - softmax_layer_CC_acc: 0.5878 - softmax_layer_DC_acc: 0.0660 - val_loss: -2.4827 - val_softmax_layer_CC_loss: 0.6905 - val_softmax_layer_DC_loss: 14.8301 - val_softmax_layer_CC_acc: 0.6025 - val_softmax_layer_DC_acc: 0.0749\n",
            "Epoch 5/30\n",
            "5046/5046 [==============================] - 5s 1ms/step - loss: -2.5191 - softmax_layer_CC_loss: 0.6780 - softmax_layer_DC_loss: 14.9685 - softmax_layer_CC_acc: 0.5888 - softmax_layer_DC_acc: 0.0660 - val_loss: -2.4971 - val_softmax_layer_CC_loss: 0.6698 - val_softmax_layer_DC_loss: 14.8301 - val_softmax_layer_CC_acc: 0.6025 - val_softmax_layer_DC_acc: 0.0749\n",
            "Epoch 6/30\n",
            "5046/5046 [==============================] - 5s 1ms/step - loss: -2.5333 - softmax_layer_CC_loss: 0.6582 - softmax_layer_DC_loss: 14.9704 - softmax_layer_CC_acc: 0.6066 - softmax_layer_DC_acc: 0.0660 - val_loss: -2.5103 - val_softmax_layer_CC_loss: 0.6510 - val_softmax_layer_DC_loss: 14.8301 - val_softmax_layer_CC_acc: 0.6203 - val_softmax_layer_DC_acc: 0.0749\n",
            "Epoch 7/30\n",
            "5046/5046 [==============================] - 5s 1ms/step - loss: -2.5587 - softmax_layer_CC_loss: 0.6224 - softmax_layer_DC_loss: 14.9718 - softmax_layer_CC_acc: 0.6544 - softmax_layer_DC_acc: 0.0660 - val_loss: -2.5279 - val_softmax_layer_CC_loss: 0.6259 - val_softmax_layer_DC_loss: 14.8301 - val_softmax_layer_CC_acc: 0.6453 - val_softmax_layer_DC_acc: 0.0749\n",
            "Epoch 8/30\n",
            "5046/5046 [==============================] - 5s 1ms/step - loss: -2.5863 - softmax_layer_CC_loss: 0.5831 - softmax_layer_DC_loss: 14.9723 - softmax_layer_CC_acc: 0.6940 - softmax_layer_DC_acc: 0.0660 - val_loss: -2.5374 - val_softmax_layer_CC_loss: 0.6124 - val_softmax_layer_DC_loss: 14.8301 - val_softmax_layer_CC_acc: 0.6613 - val_softmax_layer_DC_acc: 0.0749\n",
            "Epoch 9/30\n",
            "5046/5046 [==============================] - 6s 1ms/step - loss: -2.6162 - softmax_layer_CC_loss: 0.5402 - softmax_layer_DC_loss: 14.9718 - softmax_layer_CC_acc: 0.7231 - softmax_layer_DC_acc: 0.0660 - val_loss: -2.5029 - val_softmax_layer_CC_loss: 0.6615 - val_softmax_layer_DC_loss: 14.8301 - val_softmax_layer_CC_acc: 0.6185 - val_softmax_layer_DC_acc: 0.0749\n",
            "Epoch 10/30\n",
            "5046/5046 [==============================] - 5s 1ms/step - loss: -2.6311 - softmax_layer_CC_loss: 0.5190 - softmax_layer_DC_loss: 14.9721 - softmax_layer_CC_acc: 0.7422 - softmax_layer_DC_acc: 0.0660 - val_loss: -2.5341 - val_softmax_layer_CC_loss: 0.6170 - val_softmax_layer_DC_loss: 14.8301 - val_softmax_layer_CC_acc: 0.6684 - val_softmax_layer_DC_acc: 0.0749\n",
            "Epoch 11/30\n",
            "5046/5046 [==============================] - 5s 1ms/step - loss: -2.6699 - softmax_layer_CC_loss: 0.4637 - softmax_layer_DC_loss: 14.9723 - softmax_layer_CC_acc: 0.7840 - softmax_layer_DC_acc: 0.0660 - val_loss: -2.5308 - val_softmax_layer_CC_loss: 0.6217 - val_softmax_layer_DC_loss: 14.8301 - val_softmax_layer_CC_acc: 0.6916 - val_softmax_layer_DC_acc: 0.0749\n",
            "Epoch 12/30\n",
            "5046/5046 [==============================] - 5s 1ms/step - loss: -2.6718 - softmax_layer_CC_loss: 0.4610 - softmax_layer_DC_loss: 14.9723 - softmax_layer_CC_acc: 0.7901 - softmax_layer_DC_acc: 0.0660 - val_loss: -2.5070 - val_softmax_layer_CC_loss: 0.6558 - val_softmax_layer_DC_loss: 14.8301 - val_softmax_layer_CC_acc: 0.6613 - val_softmax_layer_DC_acc: 0.0749\n",
            "Epoch 13/30\n",
            "5046/5046 [==============================] - 5s 1ms/step - loss: -2.6818 - softmax_layer_CC_loss: 0.4467 - softmax_layer_DC_loss: 14.9724 - softmax_layer_CC_acc: 0.7919 - softmax_layer_DC_acc: 0.0660 - val_loss: -2.5152 - val_softmax_layer_CC_loss: 0.6441 - val_softmax_layer_DC_loss: 14.8301 - val_softmax_layer_CC_acc: 0.6720 - val_softmax_layer_DC_acc: 0.0749\n",
            "Epoch 14/30\n",
            "5046/5046 [==============================] - 5s 1ms/step - loss: -2.7091 - softmax_layer_CC_loss: 0.4077 - softmax_layer_DC_loss: 14.9724 - softmax_layer_CC_acc: 0.8183 - softmax_layer_DC_acc: 0.0660 - val_loss: -2.4916 - val_softmax_layer_CC_loss: 0.6777 - val_softmax_layer_DC_loss: 14.8301 - val_softmax_layer_CC_acc: 0.6827 - val_softmax_layer_DC_acc: 0.0749\n",
            "Epoch 00014: early stopping\n"
          ],
          "name": "stdout"
        }
      ]
    },
    {
      "cell_type": "markdown",
      "metadata": {
        "id": "Mp9jTacgl1Pc",
        "colab_type": "text"
      },
      "source": [
        "### Testing"
      ]
    },
    {
      "cell_type": "code",
      "metadata": {
        "colab_type": "code",
        "id": "tnqiES7XmDhi",
        "colab": {}
      },
      "source": [
        "y_pred,_ = model.predict(test_X)\n",
        "y_pred = np.array([np.argmax(x) for x in y_pred])\n",
        "y_true = np.array([np.argmax(x) for x in test_C_Y])"
      ],
      "execution_count": 0,
      "outputs": []
    },
    {
      "cell_type": "code",
      "metadata": {
        "colab_type": "code",
        "outputId": "4576cfe6-1b06-4bcc-ace1-f857866b5f0b",
        "id": "0ZB-AWvnmDhl",
        "colab": {
          "base_uri": "https://localhost:8080/",
          "height": 170
        }
      },
      "source": [
        "print(f\"Prediction acuracy on both domains is {round(accuracy_score(y_true,y_pred),2)}\")\n",
        "print(f\"Precision on both domains is {round(precision_score(y_true,y_pred),2)}\")\n",
        "print(f\"Recall on both domains is {round(recall_score(y_true,y_pred),2)}\")\n",
        "print(f\"F1 on both domains is {round(f1_score(y_true,y_pred),2)}\")\n",
        "cmtx = pd.DataFrame(\n",
        "    confusion_matrix(y_true, y_pred, labels=[1, 0]), \n",
        "    index=['true:Fake', 'true:Real'], \n",
        "    columns=['pred:Fake', 'pred:Real']\n",
        ")\n",
        "print(\"\\n\")\n",
        "print(cmtx)"
      ],
      "execution_count": 48,
      "outputs": [
        {
          "output_type": "stream",
          "text": [
            "Prediction acuracy on both domains is 0.68\n",
            "Precision on both domains is 0.7\n",
            "Recall on both domains is 0.41\n",
            "F1 on both domains is 0.52\n",
            "\n",
            "\n",
            "           pred:Fake  pred:Real\n",
            "true:Fake        107        153\n",
            "true:Real         46        318\n"
          ],
          "name": "stdout"
        }
      ]
    },
    {
      "cell_type": "markdown",
      "metadata": {
        "id": "ekCy1pkrm3DR",
        "colab_type": "text"
      },
      "source": [
        "## Experiment 3: Domain Independent (With AutoEncoder)"
      ]
    },
    {
      "cell_type": "code",
      "metadata": {
        "id": "RxtR_goVoeSW",
        "colab_type": "code",
        "colab": {}
      },
      "source": [
        "def prepare_training_data(df,vocab_size):\n",
        "  encoder_inputs = encoder_data(df)\n",
        "  y_cc = fake_news_target(df)\n",
        "  y_dc = domain_target(df)\n",
        "\n",
        "  shuffle = Shuffle(len(encoder_inputs)) ## Initializing the shuffle class instance\n",
        "  encoder_inputs = shuffle.shuffle(encoder_inputs)\n",
        "  y_cc = shuffle.shuffle(y_cc)\n",
        "  y_dc = shuffle.shuffle(y_dc)\n",
        "\n",
        "  word2idx,idx2word,tokenizer = create_vocab(encoder_inputs,vocab_size)\n",
        "\n",
        "  vocab_len = len(word2idx)\n",
        "\n",
        "  encoder_inputs = pad_tokenize_data(encoder_inputs,max_sentence_length,tokenizer)\n",
        "\n",
        "  encoder_inputs,[decoder_target,y_cc,y_dc] = all_data_generator(encoder_inputs,y_cc,y_dc,max_sentence_length,word2idx)\n",
        "\n",
        "  train_X, test_X, train_decoder_Y,test_decoder_Y,train_C_Y, test_C_Y,train_D_Y,test_D_Y = train_test_split(encoder_inputs,decoder_target,y_cc,y_dc,test_size=0.1,random_state=42)\n",
        "\n",
        "  return [[train_X, test_X, train_decoder_Y,test_decoder_Y,train_C_Y, test_C_Y,train_D_Y,test_D_Y],[word2idx,idx2word,tokenizer],vocab_len]"
      ],
      "execution_count": 0,
      "outputs": []
    },
    {
      "cell_type": "markdown",
      "metadata": {
        "id": "9NqXbLB3nFLD",
        "colab_type": "text"
      },
      "source": [
        "### Training"
      ]
    },
    {
      "cell_type": "code",
      "metadata": {
        "id": "L14kvYn5qoPl",
        "colab_type": "code",
        "colab": {}
      },
      "source": [
        "max_sentence_length = 100\n",
        "embedding_dim = 100\n",
        "latent_dim=64\n",
        "vocab_size=2000"
      ],
      "execution_count": 0,
      "outputs": []
    },
    {
      "cell_type": "code",
      "metadata": {
        "id": "3rpAg1byqy-j",
        "colab_type": "code",
        "colab": {}
      },
      "source": [
        "[train_X, test_X, train_decoder_Y,test_decoder_Y,train_C_Y, test_C_Y,train_D_Y,test_D_Y],[word2idx,idx2word,tokenizer],vocab_len = prepare_training_data(pd.concat([domain1_frame,domain2_frame]),vocab_size)"
      ],
      "execution_count": 0,
      "outputs": []
    },
    {
      "cell_type": "code",
      "metadata": {
        "id": "F3LsugfOr_y-",
        "colab_type": "code",
        "colab": {}
      },
      "source": [
        "model = final_model(max_sentence_length,embedding_dim,latent_dim,include_glove=False)"
      ],
      "execution_count": 0,
      "outputs": []
    },
    {
      "cell_type": "code",
      "metadata": {
        "id": "R-GmodrGsuPL",
        "colab_type": "code",
        "colab": {
          "base_uri": "https://localhost:8080/",
          "height": 527
        },
        "outputId": "f7a1a005-1a30-46bb-8cf0-4ec7ea77ebd6"
      },
      "source": [
        "print_model_summary(model)"
      ],
      "execution_count": 53,
      "outputs": [
        {
          "output_type": "stream",
          "text": [
            "Model: \"model_3\"\n",
            "__________________________________________________________________________________________________\n",
            "Layer (type)                    Output Shape         Param #     Connected to                     \n",
            "==================================================================================================\n",
            "encoder_inputs (InputLayer)     (None, 100)          0                                            \n",
            "__________________________________________________________________________________________________\n",
            "encoder_embedding (Embedding)   (None, 100, 100)     200200      encoder_inputs[0][0]             \n",
            "__________________________________________________________________________________________________\n",
            "lstm_3 (LSTM)                   [(None, 64), (None,  42240       encoder_embedding[0][0]          \n",
            "__________________________________________________________________________________________________\n",
            "repeat_vector_1 (RepeatVector)  (None, 100, 64)      0           lstm_3[0][0]                     \n",
            "__________________________________________________________________________________________________\n",
            "decoder_lstm (LSTM)             [(None, 100, 64), (N 33024       repeat_vector_1[0][0]            \n",
            "                                                                 lstm_3[0][1]                     \n",
            "                                                                 lstm_3[0][2]                     \n",
            "__________________________________________________________________________________________________\n",
            "non_linear_CC (Dense)           (None, 128)          8320        lstm_3[0][0]                     \n",
            "__________________________________________________________________________________________________\n",
            "non_linear_DC (Dense)           (None, 128)          8320        lstm_3[0][0]                     \n",
            "__________________________________________________________________________________________________\n",
            "decoder_dense (Dense)           (None, 100, 2002)    130130      decoder_lstm[0][0]               \n",
            "__________________________________________________________________________________________________\n",
            "softmax_layer_CC (Dense)        (None, 2)            258         non_linear_CC[0][0]              \n",
            "__________________________________________________________________________________________________\n",
            "softmax_layer_DC (Dense)        (None, 2)            258         non_linear_DC[0][0]              \n",
            "==================================================================================================\n",
            "Total params: 422,750\n",
            "Trainable params: 422,750\n",
            "Non-trainable params: 0\n",
            "__________________________________________________________________________________________________\n"
          ],
          "name": "stdout"
        }
      ]
    },
    {
      "cell_type": "code",
      "metadata": {
        "id": "1oSWVrCQs03K",
        "colab_type": "code",
        "colab": {
          "base_uri": "https://localhost:8080/",
          "height": 1000
        },
        "outputId": "459c0302-f256-4a21-beef-8df594b895d7"
      },
      "source": [
        "model.compile(optimizer=\"rmsprop\", loss=['categorical_crossentropy','binary_crossentropy','binary_crossentropy'],loss_weights=[0.5,0.8,-0.1],metrics=['accuracy'])\n",
        "es = EarlyStopping(monitor='val_loss', mode='min', patience=30,verbose=1)\n",
        "mcp_save = ModelCheckpoint('.md3_wts.hdf5', save_best_only=True, monitor='val_loss', mode='min')\n",
        "reduce_lr_loss = ReduceLROnPlateau(monitor='val_loss', factor=0.1, patience=7, verbose=1, epsilon=1e-4, mode='min')\n",
        "\n",
        "history = model.fit(train_X, \n",
        "                    [train_decoder_Y,train_C_Y,train_D_Y],\n",
        "                    batch_size=256,\n",
        "                    validation_split=0.1,\n",
        "#                     shuffle=True,\n",
        "                    callbacks=[es,mcp_save,reduce_lr_loss],\n",
        "                    epochs=800)"
      ],
      "execution_count": 54,
      "outputs": [
        {
          "output_type": "stream",
          "text": [
            "/usr/local/lib/python3.6/dist-packages/keras/callbacks.py:1335: UserWarning: `epsilon` argument is deprecated and will be removed, use `min_delta` instead.\n",
            "  warnings.warn('`epsilon` argument is deprecated and '\n"
          ],
          "name": "stderr"
        },
        {
          "output_type": "stream",
          "text": [
            "Train on 5046 samples, validate on 561 samples\n",
            "Epoch 1/800\n",
            "5046/5046 [==============================] - 18s 4ms/step - loss: 2.7962 - decoder_dense_loss: 6.5448 - softmax_layer_CC_loss: 0.7122 - softmax_layer_DC_loss: 10.4589 - decoder_dense_acc: 0.1818 - softmax_layer_CC_acc: 0.5682 - softmax_layer_DC_acc: 0.0995 - val_loss: 1.8503 - val_decoder_dense_loss: 5.5919 - val_softmax_layer_CC_loss: 0.6727 - val_softmax_layer_DC_loss: 14.8387 - val_decoder_dense_acc: 0.2026 - val_softmax_layer_CC_acc: 0.6007 - val_softmax_layer_DC_acc: 0.0660\n",
            "Epoch 2/800\n",
            "5046/5046 [==============================] - 16s 3ms/step - loss: 1.7477 - decoder_dense_loss: 5.3762 - softmax_layer_CC_loss: 0.6898 - softmax_layer_DC_loss: 14.9218 - decoder_dense_acc: 0.2058 - softmax_layer_CC_acc: 0.5642 - softmax_layer_DC_acc: 0.0662 - val_loss: 1.6679 - val_decoder_dense_loss: 5.2420 - val_softmax_layer_CC_loss: 0.6694 - val_softmax_layer_DC_loss: 14.8870 - val_decoder_dense_acc: 0.2052 - val_softmax_layer_CC_acc: 0.6007 - val_softmax_layer_DC_acc: 0.0660\n",
            "Epoch 3/800\n",
            "5046/5046 [==============================] - 16s 3ms/step - loss: 1.6586 - decoder_dense_loss: 5.2176 - softmax_layer_CC_loss: 0.6798 - softmax_layer_DC_loss: 14.9401 - decoder_dense_acc: 0.2062 - softmax_layer_CC_acc: 0.5773 - softmax_layer_DC_acc: 0.0662 - val_loss: 1.6419 - val_decoder_dense_loss: 5.2042 - val_softmax_layer_CC_loss: 0.6652 - val_softmax_layer_DC_loss: 14.9232 - val_decoder_dense_acc: 0.2052 - val_softmax_layer_CC_acc: 0.6007 - val_softmax_layer_DC_acc: 0.0660\n",
            "Epoch 4/800\n",
            "5046/5046 [==============================] - 15s 3ms/step - loss: 1.6362 - decoder_dense_loss: 5.2034 - softmax_layer_CC_loss: 0.6623 - softmax_layer_DC_loss: 14.9531 - decoder_dense_acc: 0.2062 - softmax_layer_CC_acc: 0.6050 - softmax_layer_DC_acc: 0.0662 - val_loss: 1.6579 - val_decoder_dense_loss: 5.2020 - val_softmax_layer_CC_loss: 0.6910 - val_softmax_layer_DC_loss: 14.9587 - val_decoder_dense_acc: 0.2052 - val_softmax_layer_CC_acc: 0.6007 - val_softmax_layer_DC_acc: 0.0660\n",
            "Epoch 5/800\n",
            "5046/5046 [==============================] - 16s 3ms/step - loss: 1.6059 - decoder_dense_loss: 5.2018 - softmax_layer_CC_loss: 0.6264 - softmax_layer_DC_loss: 14.9609 - decoder_dense_acc: 0.2062 - softmax_layer_CC_acc: 0.6514 - softmax_layer_DC_acc: 0.0662 - val_loss: 1.6570 - val_decoder_dense_loss: 5.2013 - val_softmax_layer_CC_loss: 0.6914 - val_softmax_layer_DC_loss: 14.9675 - val_decoder_dense_acc: 0.2052 - val_softmax_layer_CC_acc: 0.5722 - val_softmax_layer_DC_acc: 0.0660\n",
            "Epoch 6/800\n",
            "5046/5046 [==============================] - 16s 3ms/step - loss: 1.5706 - decoder_dense_loss: 5.1997 - softmax_layer_CC_loss: 0.5842 - softmax_layer_DC_loss: 14.9656 - decoder_dense_acc: 0.2062 - softmax_layer_CC_acc: 0.6984 - softmax_layer_DC_acc: 0.0662 - val_loss: 1.6067 - val_decoder_dense_loss: 5.1967 - val_softmax_layer_CC_loss: 0.6319 - val_softmax_layer_DC_loss: 14.9715 - val_decoder_dense_acc: 0.2052 - val_softmax_layer_CC_acc: 0.6310 - val_softmax_layer_DC_acc: 0.0660\n",
            "Epoch 7/800\n",
            "5046/5046 [==============================] - 16s 3ms/step - loss: 1.5400 - decoder_dense_loss: 5.1977 - softmax_layer_CC_loss: 0.5475 - softmax_layer_DC_loss: 14.9681 - decoder_dense_acc: 0.2062 - softmax_layer_CC_acc: 0.7362 - softmax_layer_DC_acc: 0.0662 - val_loss: 1.6591 - val_decoder_dense_loss: 5.1968 - val_softmax_layer_CC_loss: 0.6975 - val_softmax_layer_DC_loss: 14.9730 - val_decoder_dense_acc: 0.2052 - val_softmax_layer_CC_acc: 0.5829 - val_softmax_layer_DC_acc: 0.0660\n",
            "Epoch 8/800\n",
            "5046/5046 [==============================] - 16s 3ms/step - loss: 1.5122 - decoder_dense_loss: 5.1963 - softmax_layer_CC_loss: 0.5137 - softmax_layer_DC_loss: 14.9686 - decoder_dense_acc: 0.2062 - softmax_layer_CC_acc: 0.7527 - softmax_layer_DC_acc: 0.0662 - val_loss: 1.6348 - val_decoder_dense_loss: 5.1922 - val_softmax_layer_CC_loss: 0.6700 - val_softmax_layer_DC_loss: 14.9730 - val_decoder_dense_acc: 0.2052 - val_softmax_layer_CC_acc: 0.6132 - val_softmax_layer_DC_acc: 0.0660\n",
            "Epoch 9/800\n",
            "5046/5046 [==============================] - 16s 3ms/step - loss: 1.4832 - decoder_dense_loss: 5.1934 - softmax_layer_CC_loss: 0.4792 - softmax_layer_DC_loss: 14.9686 - decoder_dense_acc: 0.2062 - softmax_layer_CC_acc: 0.7723 - softmax_layer_DC_acc: 0.0662 - val_loss: 1.6039 - val_decoder_dense_loss: 5.1920 - val_softmax_layer_CC_loss: 0.6315 - val_softmax_layer_DC_loss: 14.9730 - val_decoder_dense_acc: 0.2052 - val_softmax_layer_CC_acc: 0.6845 - val_softmax_layer_DC_acc: 0.0660\n",
            "Epoch 10/800\n",
            "5046/5046 [==============================] - 16s 3ms/step - loss: 1.4512 - decoder_dense_loss: 5.1907 - softmax_layer_CC_loss: 0.4409 - softmax_layer_DC_loss: 14.9688 - decoder_dense_acc: 0.2062 - softmax_layer_CC_acc: 0.8020 - softmax_layer_DC_acc: 0.0662 - val_loss: 1.6528 - val_decoder_dense_loss: 5.1889 - val_softmax_layer_CC_loss: 0.6946 - val_softmax_layer_DC_loss: 14.9730 - val_decoder_dense_acc: 0.2052 - val_softmax_layer_CC_acc: 0.7112 - val_softmax_layer_DC_acc: 0.0660\n",
            "Epoch 11/800\n",
            "5046/5046 [==============================] - 16s 3ms/step - loss: 1.4526 - decoder_dense_loss: 5.1879 - softmax_layer_CC_loss: 0.4445 - softmax_layer_DC_loss: 14.9691 - decoder_dense_acc: 0.2062 - softmax_layer_CC_acc: 0.7957 - softmax_layer_DC_acc: 0.0662 - val_loss: 1.6359 - val_decoder_dense_loss: 5.1856 - val_softmax_layer_CC_loss: 0.6755 - val_softmax_layer_DC_loss: 14.9730 - val_decoder_dense_acc: 0.2052 - val_softmax_layer_CC_acc: 0.7094 - val_softmax_layer_DC_acc: 0.0660\n",
            "Epoch 12/800\n",
            "5046/5046 [==============================] - 16s 3ms/step - loss: 1.4279 - decoder_dense_loss: 5.1846 - softmax_layer_CC_loss: 0.4156 - softmax_layer_DC_loss: 14.9692 - decoder_dense_acc: 0.2062 - softmax_layer_CC_acc: 0.8086 - softmax_layer_DC_acc: 0.0662 - val_loss: 1.6315 - val_decoder_dense_loss: 5.1826 - val_softmax_layer_CC_loss: 0.6719 - val_softmax_layer_DC_loss: 14.9730 - val_decoder_dense_acc: 0.2052 - val_softmax_layer_CC_acc: 0.6970 - val_softmax_layer_DC_acc: 0.0660\n",
            "Epoch 13/800\n",
            "5046/5046 [==============================] - 16s 3ms/step - loss: 1.4012 - decoder_dense_loss: 5.1807 - softmax_layer_CC_loss: 0.3847 - softmax_layer_DC_loss: 14.9692 - decoder_dense_acc: 0.2062 - softmax_layer_CC_acc: 0.8302 - softmax_layer_DC_acc: 0.0662 - val_loss: 1.6536 - val_decoder_dense_loss: 5.1807 - val_softmax_layer_CC_loss: 0.7007 - val_softmax_layer_DC_loss: 14.9730 - val_decoder_dense_acc: 0.2052 - val_softmax_layer_CC_acc: 0.7023 - val_softmax_layer_DC_acc: 0.0660\n",
            "Epoch 14/800\n",
            "5046/5046 [==============================] - 16s 3ms/step - loss: 1.3828 - decoder_dense_loss: 5.1757 - softmax_layer_CC_loss: 0.3649 - softmax_layer_DC_loss: 14.9692 - decoder_dense_acc: 0.2062 - softmax_layer_CC_acc: 0.8478 - softmax_layer_DC_acc: 0.0662 - val_loss: 1.7277 - val_decoder_dense_loss: 5.1785 - val_softmax_layer_CC_loss: 0.7947 - val_softmax_layer_DC_loss: 14.9730 - val_decoder_dense_acc: 0.2052 - val_softmax_layer_CC_acc: 0.6756 - val_softmax_layer_DC_acc: 0.0660\n",
            "Epoch 15/800\n",
            "5046/5046 [==============================] - 15s 3ms/step - loss: 1.3665 - decoder_dense_loss: 5.1657 - softmax_layer_CC_loss: 0.3507 - softmax_layer_DC_loss: 14.9692 - decoder_dense_acc: 0.2062 - softmax_layer_CC_acc: 0.8462 - softmax_layer_DC_acc: 0.0662 - val_loss: 1.7564 - val_decoder_dense_loss: 5.1568 - val_softmax_layer_CC_loss: 0.8441 - val_softmax_layer_DC_loss: 14.9730 - val_decoder_dense_acc: 0.2052 - val_softmax_layer_CC_acc: 0.6025 - val_softmax_layer_DC_acc: 0.0660\n",
            "Epoch 16/800\n",
            "5046/5046 [==============================] - 16s 3ms/step - loss: 1.3366 - decoder_dense_loss: 5.1480 - softmax_layer_CC_loss: 0.3244 - softmax_layer_DC_loss: 14.9692 - decoder_dense_acc: 0.2062 - softmax_layer_CC_acc: 0.8629 - softmax_layer_DC_acc: 0.0662 - val_loss: 1.6893 - val_decoder_dense_loss: 5.1236 - val_softmax_layer_CC_loss: 0.7809 - val_softmax_layer_DC_loss: 14.9730 - val_decoder_dense_acc: 0.2052 - val_softmax_layer_CC_acc: 0.7077 - val_softmax_layer_DC_acc: 0.0660\n",
            "\n",
            "Epoch 00016: ReduceLROnPlateau reducing learning rate to 0.00010000000474974513.\n",
            "Epoch 17/800\n",
            "5046/5046 [==============================] - 16s 3ms/step - loss: 1.2732 - decoder_dense_loss: 5.1223 - softmax_layer_CC_loss: 0.2612 - softmax_layer_DC_loss: 14.9692 - decoder_dense_acc: 0.2078 - softmax_layer_CC_acc: 0.8983 - softmax_layer_DC_acc: 0.0662 - val_loss: 1.7090 - val_decoder_dense_loss: 5.1183 - val_softmax_layer_CC_loss: 0.8089 - val_softmax_layer_DC_loss: 14.9730 - val_decoder_dense_acc: 0.2148 - val_softmax_layer_CC_acc: 0.6738 - val_softmax_layer_DC_acc: 0.0660\n",
            "Epoch 18/800\n",
            "5046/5046 [==============================] - 16s 3ms/step - loss: 1.2668 - decoder_dense_loss: 5.1175 - softmax_layer_CC_loss: 0.2562 - softmax_layer_DC_loss: 14.9692 - decoder_dense_acc: 0.2323 - softmax_layer_CC_acc: 0.8991 - softmax_layer_DC_acc: 0.0662 - val_loss: 1.7313 - val_decoder_dense_loss: 5.1138 - val_softmax_layer_CC_loss: 0.8397 - val_softmax_layer_DC_loss: 14.9730 - val_decoder_dense_acc: 0.2463 - val_softmax_layer_CC_acc: 0.6720 - val_softmax_layer_DC_acc: 0.0660\n",
            "Epoch 19/800\n",
            "5046/5046 [==============================] - 16s 3ms/step - loss: 1.2613 - decoder_dense_loss: 5.1132 - softmax_layer_CC_loss: 0.2520 - softmax_layer_DC_loss: 14.9692 - decoder_dense_acc: 0.2440 - softmax_layer_CC_acc: 0.9019 - softmax_layer_DC_acc: 0.0662 - val_loss: 1.7379 - val_decoder_dense_loss: 5.1088 - val_softmax_layer_CC_loss: 0.8510 - val_softmax_layer_DC_loss: 14.9730 - val_decoder_dense_acc: 0.2504 - val_softmax_layer_CC_acc: 0.6720 - val_softmax_layer_DC_acc: 0.0660\n",
            "Epoch 20/800\n",
            "5046/5046 [==============================] - 16s 3ms/step - loss: 1.2560 - decoder_dense_loss: 5.1091 - softmax_layer_CC_loss: 0.2479 - softmax_layer_DC_loss: 14.9692 - decoder_dense_acc: 0.2483 - softmax_layer_CC_acc: 0.9019 - softmax_layer_DC_acc: 0.0662 - val_loss: 1.7534 - val_decoder_dense_loss: 5.1047 - val_softmax_layer_CC_loss: 0.8729 - val_softmax_layer_DC_loss: 14.9730 - val_decoder_dense_acc: 0.2530 - val_softmax_layer_CC_acc: 0.6720 - val_softmax_layer_DC_acc: 0.0660\n",
            "Epoch 21/800\n",
            "5046/5046 [==============================] - 16s 3ms/step - loss: 1.2509 - decoder_dense_loss: 5.1049 - softmax_layer_CC_loss: 0.2442 - softmax_layer_DC_loss: 14.9692 - decoder_dense_acc: 0.2505 - softmax_layer_CC_acc: 0.9035 - softmax_layer_DC_acc: 0.0662 - val_loss: 1.7561 - val_decoder_dense_loss: 5.0996 - val_softmax_layer_CC_loss: 0.8794 - val_softmax_layer_DC_loss: 14.9730 - val_decoder_dense_acc: 0.2546 - val_softmax_layer_CC_acc: 0.6738 - val_softmax_layer_DC_acc: 0.0660\n",
            "Epoch 22/800\n",
            "5046/5046 [==============================] - 16s 3ms/step - loss: 1.2450 - decoder_dense_loss: 5.1009 - softmax_layer_CC_loss: 0.2393 - softmax_layer_DC_loss: 14.9692 - decoder_dense_acc: 0.2528 - softmax_layer_CC_acc: 0.9063 - softmax_layer_DC_acc: 0.0662 - val_loss: 1.7642 - val_decoder_dense_loss: 5.0951 - val_softmax_layer_CC_loss: 0.8924 - val_softmax_layer_DC_loss: 14.9730 - val_decoder_dense_acc: 0.2574 - val_softmax_layer_CC_acc: 0.6738 - val_softmax_layer_DC_acc: 0.0660\n",
            "Epoch 23/800\n",
            "5046/5046 [==============================] - 15s 3ms/step - loss: 1.2402 - decoder_dense_loss: 5.0969 - softmax_layer_CC_loss: 0.2359 - softmax_layer_DC_loss: 14.9692 - decoder_dense_acc: 0.2540 - softmax_layer_CC_acc: 0.9071 - softmax_layer_DC_acc: 0.0662 - val_loss: 1.7702 - val_decoder_dense_loss: 5.0905 - val_softmax_layer_CC_loss: 0.9028 - val_softmax_layer_DC_loss: 14.9730 - val_decoder_dense_acc: 0.2588 - val_softmax_layer_CC_acc: 0.6809 - val_softmax_layer_DC_acc: 0.0660\n",
            "\n",
            "Epoch 00023: ReduceLROnPlateau reducing learning rate to 1.0000000474974514e-05.\n",
            "Epoch 24/800\n",
            "5046/5046 [==============================] - 16s 3ms/step - loss: 1.2351 - decoder_dense_loss: 5.0940 - softmax_layer_CC_loss: 0.2313 - softmax_layer_DC_loss: 14.9692 - decoder_dense_acc: 0.2543 - softmax_layer_CC_acc: 0.9096 - softmax_layer_DC_acc: 0.0662 - val_loss: 1.7763 - val_decoder_dense_loss: 5.0903 - val_softmax_layer_CC_loss: 0.9105 - val_softmax_layer_DC_loss: 14.9730 - val_decoder_dense_acc: 0.2586 - val_softmax_layer_CC_acc: 0.6774 - val_softmax_layer_DC_acc: 0.0660\n",
            "Epoch 25/800\n",
            "5046/5046 [==============================] - 16s 3ms/step - loss: 1.2338 - decoder_dense_loss: 5.0935 - softmax_layer_CC_loss: 0.2299 - softmax_layer_DC_loss: 14.9692 - decoder_dense_acc: 0.2546 - softmax_layer_CC_acc: 0.9098 - softmax_layer_DC_acc: 0.0662 - val_loss: 1.7766 - val_decoder_dense_loss: 5.0897 - val_softmax_layer_CC_loss: 0.9114 - val_softmax_layer_DC_loss: 14.9730 - val_decoder_dense_acc: 0.2596 - val_softmax_layer_CC_acc: 0.6756 - val_softmax_layer_DC_acc: 0.0660\n",
            "Epoch 26/800\n",
            "5046/5046 [==============================] - 16s 3ms/step - loss: 1.2333 - decoder_dense_loss: 5.0931 - softmax_layer_CC_loss: 0.2296 - softmax_layer_DC_loss: 14.9692 - decoder_dense_acc: 0.2549 - softmax_layer_CC_acc: 0.9104 - softmax_layer_DC_acc: 0.0662 - val_loss: 1.7773 - val_decoder_dense_loss: 5.0892 - val_softmax_layer_CC_loss: 0.9125 - val_softmax_layer_DC_loss: 14.9730 - val_decoder_dense_acc: 0.2598 - val_softmax_layer_CC_acc: 0.6756 - val_softmax_layer_DC_acc: 0.0660\n",
            "Epoch 27/800\n",
            "5046/5046 [==============================] - 16s 3ms/step - loss: 1.2327 - decoder_dense_loss: 5.0926 - softmax_layer_CC_loss: 0.2292 - softmax_layer_DC_loss: 14.9692 - decoder_dense_acc: 0.2550 - softmax_layer_CC_acc: 0.9106 - softmax_layer_DC_acc: 0.0662 - val_loss: 1.7773 - val_decoder_dense_loss: 5.0886 - val_softmax_layer_CC_loss: 0.9129 - val_softmax_layer_DC_loss: 14.9730 - val_decoder_dense_acc: 0.2601 - val_softmax_layer_CC_acc: 0.6756 - val_softmax_layer_DC_acc: 0.0660\n",
            "Epoch 28/800\n",
            "5046/5046 [==============================] - 16s 3ms/step - loss: 1.2322 - decoder_dense_loss: 5.0922 - softmax_layer_CC_loss: 0.2288 - softmax_layer_DC_loss: 14.9692 - decoder_dense_acc: 0.2553 - softmax_layer_CC_acc: 0.9100 - softmax_layer_DC_acc: 0.0662 - val_loss: 1.7777 - val_decoder_dense_loss: 5.0881 - val_softmax_layer_CC_loss: 0.9137 - val_softmax_layer_DC_loss: 14.9730 - val_decoder_dense_acc: 0.2601 - val_softmax_layer_CC_acc: 0.6756 - val_softmax_layer_DC_acc: 0.0660\n",
            "Epoch 29/800\n",
            "5046/5046 [==============================] - 16s 3ms/step - loss: 1.2317 - decoder_dense_loss: 5.0918 - softmax_layer_CC_loss: 0.2284 - softmax_layer_DC_loss: 14.9692 - decoder_dense_acc: 0.2554 - softmax_layer_CC_acc: 0.9114 - softmax_layer_DC_acc: 0.0662 - val_loss: 1.7798 - val_decoder_dense_loss: 5.0877 - val_softmax_layer_CC_loss: 0.9166 - val_softmax_layer_DC_loss: 14.9730 - val_decoder_dense_acc: 0.2600 - val_softmax_layer_CC_acc: 0.6756 - val_softmax_layer_DC_acc: 0.0660\n",
            "Epoch 30/800\n",
            "5046/5046 [==============================] - 16s 3ms/step - loss: 1.2311 - decoder_dense_loss: 5.0914 - softmax_layer_CC_loss: 0.2280 - softmax_layer_DC_loss: 14.9692 - decoder_dense_acc: 0.2555 - softmax_layer_CC_acc: 0.9106 - softmax_layer_DC_acc: 0.0662 - val_loss: 1.7804 - val_decoder_dense_loss: 5.0872 - val_softmax_layer_CC_loss: 0.9177 - val_softmax_layer_DC_loss: 14.9730 - val_decoder_dense_acc: 0.2602 - val_softmax_layer_CC_acc: 0.6756 - val_softmax_layer_DC_acc: 0.0660\n",
            "\n",
            "Epoch 00030: ReduceLROnPlateau reducing learning rate to 1.0000000656873453e-06.\n",
            "Epoch 31/800\n",
            "5046/5046 [==============================] - 16s 3ms/step - loss: 1.2305 - decoder_dense_loss: 5.0910 - softmax_layer_CC_loss: 0.2274 - softmax_layer_DC_loss: 14.9692 - decoder_dense_acc: 0.2554 - softmax_layer_CC_acc: 0.9112 - softmax_layer_DC_acc: 0.0662 - val_loss: 1.7805 - val_decoder_dense_loss: 5.0872 - val_softmax_layer_CC_loss: 0.9178 - val_softmax_layer_DC_loss: 14.9730 - val_decoder_dense_acc: 0.2602 - val_softmax_layer_CC_acc: 0.6756 - val_softmax_layer_DC_acc: 0.0660\n",
            "Epoch 32/800\n",
            "5046/5046 [==============================] - 16s 3ms/step - loss: 1.2304 - decoder_dense_loss: 5.0910 - softmax_layer_CC_loss: 0.2273 - softmax_layer_DC_loss: 14.9692 - decoder_dense_acc: 0.2555 - softmax_layer_CC_acc: 0.9114 - softmax_layer_DC_acc: 0.0662 - val_loss: 1.7807 - val_decoder_dense_loss: 5.0871 - val_softmax_layer_CC_loss: 0.9180 - val_softmax_layer_DC_loss: 14.9730 - val_decoder_dense_acc: 0.2602 - val_softmax_layer_CC_acc: 0.6738 - val_softmax_layer_DC_acc: 0.0660\n",
            "Epoch 33/800\n",
            "5046/5046 [==============================] - 16s 3ms/step - loss: 1.2304 - decoder_dense_loss: 5.0910 - softmax_layer_CC_loss: 0.2273 - softmax_layer_DC_loss: 14.9692 - decoder_dense_acc: 0.2555 - softmax_layer_CC_acc: 0.9118 - softmax_layer_DC_acc: 0.0662 - val_loss: 1.7808 - val_decoder_dense_loss: 5.0871 - val_softmax_layer_CC_loss: 0.9183 - val_softmax_layer_DC_loss: 14.9730 - val_decoder_dense_acc: 0.2602 - val_softmax_layer_CC_acc: 0.6738 - val_softmax_layer_DC_acc: 0.0660\n",
            "Epoch 34/800\n",
            "5046/5046 [==============================] - 16s 3ms/step - loss: 1.2303 - decoder_dense_loss: 5.0909 - softmax_layer_CC_loss: 0.2273 - softmax_layer_DC_loss: 14.9692 - decoder_dense_acc: 0.2555 - softmax_layer_CC_acc: 0.9116 - softmax_layer_DC_acc: 0.0662 - val_loss: 1.7809 - val_decoder_dense_loss: 5.0870 - val_softmax_layer_CC_loss: 0.9184 - val_softmax_layer_DC_loss: 14.9730 - val_decoder_dense_acc: 0.2602 - val_softmax_layer_CC_acc: 0.6756 - val_softmax_layer_DC_acc: 0.0660\n",
            "Epoch 35/800\n",
            "5046/5046 [==============================] - 16s 3ms/step - loss: 1.2303 - decoder_dense_loss: 5.0909 - softmax_layer_CC_loss: 0.2272 - softmax_layer_DC_loss: 14.9692 - decoder_dense_acc: 0.2555 - softmax_layer_CC_acc: 0.9118 - softmax_layer_DC_acc: 0.0662 - val_loss: 1.7810 - val_decoder_dense_loss: 5.0870 - val_softmax_layer_CC_loss: 0.9185 - val_softmax_layer_DC_loss: 14.9730 - val_decoder_dense_acc: 0.2603 - val_softmax_layer_CC_acc: 0.6756 - val_softmax_layer_DC_acc: 0.0660\n",
            "Epoch 36/800\n",
            "5046/5046 [==============================] - 16s 3ms/step - loss: 1.2302 - decoder_dense_loss: 5.0908 - softmax_layer_CC_loss: 0.2272 - softmax_layer_DC_loss: 14.9692 - decoder_dense_acc: 0.2555 - softmax_layer_CC_acc: 0.9116 - softmax_layer_DC_acc: 0.0662 - val_loss: 1.7811 - val_decoder_dense_loss: 5.0869 - val_softmax_layer_CC_loss: 0.9186 - val_softmax_layer_DC_loss: 14.9730 - val_decoder_dense_acc: 0.2603 - val_softmax_layer_CC_acc: 0.6756 - val_softmax_layer_DC_acc: 0.0660\n",
            "Epoch 37/800\n",
            "5046/5046 [==============================] - 15s 3ms/step - loss: 1.2302 - decoder_dense_loss: 5.0908 - softmax_layer_CC_loss: 0.2271 - softmax_layer_DC_loss: 14.9692 - decoder_dense_acc: 0.2555 - softmax_layer_CC_acc: 0.9114 - softmax_layer_DC_acc: 0.0662 - val_loss: 1.7811 - val_decoder_dense_loss: 5.0869 - val_softmax_layer_CC_loss: 0.9187 - val_softmax_layer_DC_loss: 14.9730 - val_decoder_dense_acc: 0.2604 - val_softmax_layer_CC_acc: 0.6756 - val_softmax_layer_DC_acc: 0.0660\n",
            "\n",
            "Epoch 00037: ReduceLROnPlateau reducing learning rate to 1.0000001111620805e-07.\n",
            "Epoch 38/800\n",
            "5046/5046 [==============================] - 15s 3ms/step - loss: 1.2301 - decoder_dense_loss: 5.0908 - softmax_layer_CC_loss: 0.2271 - softmax_layer_DC_loss: 14.9692 - decoder_dense_acc: 0.2556 - softmax_layer_CC_acc: 0.9114 - softmax_layer_DC_acc: 0.0662 - val_loss: 1.7811 - val_decoder_dense_loss: 5.0869 - val_softmax_layer_CC_loss: 0.9187 - val_softmax_layer_DC_loss: 14.9730 - val_decoder_dense_acc: 0.2604 - val_softmax_layer_CC_acc: 0.6756 - val_softmax_layer_DC_acc: 0.0660\n",
            "Epoch 39/800\n",
            "5046/5046 [==============================] - 16s 3ms/step - loss: 1.2301 - decoder_dense_loss: 5.0908 - softmax_layer_CC_loss: 0.2271 - softmax_layer_DC_loss: 14.9692 - decoder_dense_acc: 0.2556 - softmax_layer_CC_acc: 0.9114 - softmax_layer_DC_acc: 0.0662 - val_loss: 1.7811 - val_decoder_dense_loss: 5.0869 - val_softmax_layer_CC_loss: 0.9187 - val_softmax_layer_DC_loss: 14.9730 - val_decoder_dense_acc: 0.2604 - val_softmax_layer_CC_acc: 0.6756 - val_softmax_layer_DC_acc: 0.0660\n",
            "Epoch 00039: early stopping\n"
          ],
          "name": "stdout"
        }
      ]
    },
    {
      "cell_type": "markdown",
      "metadata": {
        "id": "XdJ_IG5kuM3L",
        "colab_type": "text"
      },
      "source": [
        "### Testing"
      ]
    },
    {
      "cell_type": "code",
      "metadata": {
        "id": "AfGbd7yhuRRp",
        "colab_type": "code",
        "colab": {}
      },
      "source": [
        "decoder_t_output,y_pred,_ = model.predict(test_X)\n",
        "y_pred = np.array([np.argmax(x) for x in y_pred])\n",
        "y_true = np.array([np.argmax(x) for x in test_C_Y])"
      ],
      "execution_count": 0,
      "outputs": []
    },
    {
      "cell_type": "code",
      "metadata": {
        "id": "QTlfiC4iuYZM",
        "colab_type": "code",
        "colab": {
          "base_uri": "https://localhost:8080/",
          "height": 170
        },
        "outputId": "2832294c-81e1-4462-d2e0-c5dc174aabfe"
      },
      "source": [
        "print(f\"Prediction acuracy on both domains is {round(accuracy_score(y_true,y_pred),2)}\")\n",
        "print(f\"Precision on both domains is {round(precision_score(y_true,y_pred),2)}\")\n",
        "print(f\"Recall on both domains is {round(recall_score(y_true,y_pred),2)}\")\n",
        "print(f\"F1 on both domains is {round(f1_score(y_true,y_pred),2)}\")\n",
        "cmtx = pd.DataFrame(\n",
        "    confusion_matrix(y_true, y_pred, labels=[1, 0]), \n",
        "    index=['true:Fake', 'true:Real'], \n",
        "    columns=['pred:Fake', 'pred:Real']\n",
        ")\n",
        "print(\"\\n\")\n",
        "print(cmtx)"
      ],
      "execution_count": 56,
      "outputs": [
        {
          "output_type": "stream",
          "text": [
            "Prediction acuracy on both domains is 0.72\n",
            "Precision on both domains is 0.67\n",
            "Recall on both domains is 0.64\n",
            "F1 on both domains is 0.65\n",
            "\n",
            "\n",
            "           pred:Fake  pred:Real\n",
            "true:Fake        167         95\n",
            "true:Real         82        280\n"
          ],
          "name": "stdout"
        }
      ]
    },
    {
      "cell_type": "code",
      "metadata": {
        "colab_type": "code",
        "id": "tUl2-CkC97rC",
        "colab": {}
      },
      "source": [
        "# for idx in test_X[0]:\n",
        "#     print(idx2word[idx],end=\" \")"
      ],
      "execution_count": 0,
      "outputs": []
    },
    {
      "cell_type": "code",
      "metadata": {
        "colab_type": "code",
        "id": "R08NbQVV96ch",
        "colab": {}
      },
      "source": [
        "# # model.compile('rmsprop', 'mse')\n",
        "# output_array = model.predict([test_encoder_input_data])"
      ],
      "execution_count": 0,
      "outputs": []
    },
    {
      "cell_type": "code",
      "metadata": {
        "colab_type": "code",
        "id": "sx4CAoVy96B8",
        "colab": {}
      },
      "source": [
        "# for idx in decoder_t_output[0]:\n",
        "#     lookup = np.argmax(idx)\n",
        "# #     print(lookup)\n",
        "#     if lookup==0:\n",
        "#         break\n",
        "#     else:\n",
        "#         print(idx2word[lookup],end=\" \")"
      ],
      "execution_count": 0,
      "outputs": []
    },
    {
      "cell_type": "code",
      "metadata": {
        "id": "RZ67pMFCnh_s",
        "colab_type": "code",
        "colab": {}
      },
      "source": [
        "# for idx in output_array[100]:\n",
        "#     print(idx[np.argmax(20)])\n",
        "#     break\n",
        "#     lookup = np.argmax(idx)\n",
        "# #     print(lookup)\n",
        "#     if lookup==0:\n",
        "#         break\n",
        "#     else:\n",
        "#         print(idx2word[lookup],end=\" \")"
      ],
      "execution_count": 0,
      "outputs": []
    },
    {
      "cell_type": "code",
      "metadata": {
        "id": "N3qfblfSnh_u",
        "colab_type": "code",
        "colab": {}
      },
      "source": [
        ""
      ],
      "execution_count": 0,
      "outputs": []
    },
    {
      "cell_type": "code",
      "metadata": {
        "id": "UDGaLJignh_w",
        "colab_type": "code",
        "colab": {}
      },
      "source": [
        ""
      ],
      "execution_count": 0,
      "outputs": []
    },
    {
      "cell_type": "code",
      "metadata": {
        "id": "V6mQVHjTgQlj",
        "colab_type": "code",
        "colab": {}
      },
      "source": [
        ""
      ],
      "execution_count": 0,
      "outputs": []
    }
  ]
}
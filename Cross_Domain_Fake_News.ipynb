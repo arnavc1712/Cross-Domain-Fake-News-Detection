{
  "nbformat": 4,
  "nbformat_minor": 0,
  "metadata": {
    "kernelspec": {
      "display_name": "Social",
      "language": "python",
      "name": "social"
    },
    "language_info": {
      "codemirror_mode": {
        "name": "ipython",
        "version": 3
      },
      "file_extension": ".py",
      "mimetype": "text/x-python",
      "name": "python",
      "nbconvert_exporter": "python",
      "pygments_lexer": "ipython3",
      "version": "3.6.1"
    },
    "colab": {
      "name": "Cross Domain Fake News.ipynb",
      "provenance": [],
      "toc_visible": true,
      "machine_shape": "hm",
      "include_colab_link": true
    },
    "accelerator": "GPU"
  },
  "cells": [
    {
      "cell_type": "markdown",
      "metadata": {
        "id": "view-in-github",
        "colab_type": "text"
      },
      "source": [
        "<a href=\"https://colab.research.google.com/github/arnavc1712/Cross-Domain-Fake-News-Detection/blob/master/Cross_Domain_Fake_News.ipynb\" target=\"_parent\"><img src=\"https://colab.research.google.com/assets/colab-badge.svg\" alt=\"Open In Colab\"/></a>"
      ]
    },
    {
      "cell_type": "code",
      "metadata": {
        "id": "7YbGKKiu92Ly",
        "colab_type": "code",
        "colab": {}
      },
      "source": [
        ""
      ],
      "execution_count": 0,
      "outputs": []
    },
    {
      "cell_type": "code",
      "metadata": {
        "id": "yjjT8MW6nh-A",
        "colab_type": "code",
        "colab": {}
      },
      "source": [
        "import pandas as pd\n",
        "import keras\n",
        "from keras.preprocessing.text import Tokenizer\n",
        "from keras.preprocessing.sequence import pad_sequences\n",
        "from keras.layers import Input, LSTM, Dense,Embedding,RepeatVector,Bidirectional\n",
        "from keras.models import Model\n",
        "import re\n",
        "import numpy as np\n",
        "from scipy import stats\n",
        "# import demoji\n",
        "# import tokenizer\n",
        "# from nltk.corpus import stopwords\n",
        "# stopwords_list = list(set(stopwords.words('english')))\n",
        "from keras.utils import to_categorical\n",
        "import os\n",
        "from sklearn.model_selection import train_test_split\n",
        "from keras.callbacks import EarlyStopping\n",
        "from sklearn.metrics import accuracy_score,precision_score,recall_score,f1_score,confusion_matrix"
      ],
      "execution_count": 0,
      "outputs": []
    },
    {
      "cell_type": "code",
      "metadata": {
        "id": "jsbpEHn4nh-F",
        "colab_type": "code",
        "colab": {}
      },
      "source": [
        "domain1_path = \"./gossipcop_content_no_ignore.tsv\"\n",
        "domain2_path = \"./politifact_content_no_ignore.tsv\""
      ],
      "execution_count": 0,
      "outputs": []
    },
    {
      "cell_type": "code",
      "metadata": {
        "id": "phgfMSc2nh-H",
        "colab_type": "code",
        "colab": {}
      },
      "source": [
        "domain1_frame = pd.read_csv(domain1_path,delimiter=\"\\t\").set_index('id')\n",
        "domain2_frame = pd.read_csv(domain2_path,delimiter=\"\\t\").set_index('id')"
      ],
      "execution_count": 0,
      "outputs": []
    },
    {
      "cell_type": "markdown",
      "metadata": {
        "id": "Xl573iaInh-J",
        "colab_type": "text"
      },
      "source": [
        "### Exploring the Dataset"
      ]
    },
    {
      "cell_type": "markdown",
      "metadata": {
        "id": "s-bgMHpYnh-J",
        "colab_type": "text"
      },
      "source": [
        "#### First Domain"
      ]
    },
    {
      "cell_type": "code",
      "metadata": {
        "id": "osdT_7iVnh-K",
        "colab_type": "code",
        "outputId": "89e0f14e-a524-4728-90c8-e629353144e8",
        "colab": {
          "base_uri": "https://localhost:8080/",
          "height": 450
        }
      },
      "source": [
        "domain1_frame"
      ],
      "execution_count": 0,
      "outputs": [
        {
          "output_type": "execute_result",
          "data": {
            "text/html": [
              "<div>\n",
              "<style scoped>\n",
              "    .dataframe tbody tr th:only-of-type {\n",
              "        vertical-align: middle;\n",
              "    }\n",
              "\n",
              "    .dataframe tbody tr th {\n",
              "        vertical-align: top;\n",
              "    }\n",
              "\n",
              "    .dataframe thead th {\n",
              "        text-align: right;\n",
              "    }\n",
              "</style>\n",
              "<table border=\"1\" class=\"dataframe\">\n",
              "  <thead>\n",
              "    <tr style=\"text-align: right;\">\n",
              "      <th></th>\n",
              "      <th>label</th>\n",
              "      <th>content</th>\n",
              "    </tr>\n",
              "    <tr>\n",
              "      <th>id</th>\n",
              "      <th></th>\n",
              "      <th></th>\n",
              "    </tr>\n",
              "  </thead>\n",
              "  <tbody>\n",
              "    <tr>\n",
              "      <th>gossipcop-9096198130</th>\n",
              "      <td>1</td>\n",
              "      <td>Sarah Jessica Parker is getting candid about h...</td>\n",
              "    </tr>\n",
              "    <tr>\n",
              "      <th>gossipcop-6982710185</th>\n",
              "      <td>1</td>\n",
              "      <td>Many celebrities have been sharing their thoug...</td>\n",
              "    </tr>\n",
              "    <tr>\n",
              "      <th>gossipcop-7887456921</th>\n",
              "      <td>1</td>\n",
              "      <td>He reportedly hasn't seen her in over four yea...</td>\n",
              "    </tr>\n",
              "    <tr>\n",
              "      <th>gossipcop-1594778479</th>\n",
              "      <td>1</td>\n",
              "      <td>The fashion crowd is speaking out about Kim Ka...</td>\n",
              "    </tr>\n",
              "    <tr>\n",
              "      <th>gossipcop-8172018375</th>\n",
              "      <td>1</td>\n",
              "      <td>What term do you want to search? Search with g...</td>\n",
              "    </tr>\n",
              "    <tr>\n",
              "      <th>...</th>\n",
              "      <td>...</td>\n",
              "      <td>...</td>\n",
              "    </tr>\n",
              "    <tr>\n",
              "      <th>gossipcop-854842</th>\n",
              "      <td>0</td>\n",
              "      <td>Aisha Tyler‘s divorce from Jeffrey Tietjens ha...</td>\n",
              "    </tr>\n",
              "    <tr>\n",
              "      <th>gossipcop-843491</th>\n",
              "      <td>0</td>\n",
              "      <td>All four of Queen Elizabeth and Prince Philip'...</td>\n",
              "    </tr>\n",
              "    <tr>\n",
              "      <th>gossipcop-897778</th>\n",
              "      <td>0</td>\n",
              "      <td>Theresa Caputo is adjusting to her new life af...</td>\n",
              "    </tr>\n",
              "    <tr>\n",
              "      <th>gossipcop-899849</th>\n",
              "      <td>0</td>\n",
              "      <td>Follow Us on Twitter  Nominations for the 25th...</td>\n",
              "    </tr>\n",
              "    <tr>\n",
              "      <th>gossipcop-927093</th>\n",
              "      <td>0</td>\n",
              "      <td>Though the happy couple can’t be together in p...</td>\n",
              "    </tr>\n",
              "  </tbody>\n",
              "</table>\n",
              "<p>5816 rows × 2 columns</p>\n",
              "</div>"
            ],
            "text/plain": [
              "                      label                                            content\n",
              "id                                                                            \n",
              "gossipcop-9096198130      1  Sarah Jessica Parker is getting candid about h...\n",
              "gossipcop-6982710185      1  Many celebrities have been sharing their thoug...\n",
              "gossipcop-7887456921      1  He reportedly hasn't seen her in over four yea...\n",
              "gossipcop-1594778479      1  The fashion crowd is speaking out about Kim Ka...\n",
              "gossipcop-8172018375      1  What term do you want to search? Search with g...\n",
              "...                     ...                                                ...\n",
              "gossipcop-854842          0  Aisha Tyler‘s divorce from Jeffrey Tietjens ha...\n",
              "gossipcop-843491          0  All four of Queen Elizabeth and Prince Philip'...\n",
              "gossipcop-897778          0  Theresa Caputo is adjusting to her new life af...\n",
              "gossipcop-899849          0  Follow Us on Twitter  Nominations for the 25th...\n",
              "gossipcop-927093          0  Though the happy couple can’t be together in p...\n",
              "\n",
              "[5816 rows x 2 columns]"
            ]
          },
          "metadata": {
            "tags": []
          },
          "execution_count": 37
        }
      ]
    },
    {
      "cell_type": "code",
      "metadata": {
        "id": "hiDXAODnnh-M",
        "colab_type": "code",
        "outputId": "522f1048-4e08-4309-9f2f-5337493c6027",
        "colab": {
          "base_uri": "https://localhost:8080/",
          "height": 142
        }
      },
      "source": [
        "domain1_frame.groupby(['label'])[['label']].count()"
      ],
      "execution_count": 0,
      "outputs": [
        {
          "output_type": "execute_result",
          "data": {
            "text/html": [
              "<div>\n",
              "<style scoped>\n",
              "    .dataframe tbody tr th:only-of-type {\n",
              "        vertical-align: middle;\n",
              "    }\n",
              "\n",
              "    .dataframe tbody tr th {\n",
              "        vertical-align: top;\n",
              "    }\n",
              "\n",
              "    .dataframe thead th {\n",
              "        text-align: right;\n",
              "    }\n",
              "</style>\n",
              "<table border=\"1\" class=\"dataframe\">\n",
              "  <thead>\n",
              "    <tr style=\"text-align: right;\">\n",
              "      <th></th>\n",
              "      <th>label</th>\n",
              "    </tr>\n",
              "    <tr>\n",
              "      <th>label</th>\n",
              "      <th></th>\n",
              "    </tr>\n",
              "  </thead>\n",
              "  <tbody>\n",
              "    <tr>\n",
              "      <th>0</th>\n",
              "      <td>3586</td>\n",
              "    </tr>\n",
              "    <tr>\n",
              "      <th>1</th>\n",
              "      <td>2230</td>\n",
              "    </tr>\n",
              "  </tbody>\n",
              "</table>\n",
              "</div>"
            ],
            "text/plain": [
              "       label\n",
              "label       \n",
              "0       3586\n",
              "1       2230"
            ]
          },
          "metadata": {
            "tags": []
          },
          "execution_count": 38
        }
      ]
    },
    {
      "cell_type": "markdown",
      "metadata": {
        "id": "B50hJsd5nh-O",
        "colab_type": "text"
      },
      "source": [
        "#### Second Domain"
      ]
    },
    {
      "cell_type": "code",
      "metadata": {
        "id": "otm6z1Pxnh-P",
        "colab_type": "code",
        "outputId": "bd711c05-384d-4382-8a3f-e97a8a3ec0d9",
        "colab": {
          "base_uri": "https://localhost:8080/",
          "height": 142
        }
      },
      "source": [
        "domain2_frame.groupby(['label'])[['label']].count()"
      ],
      "execution_count": 0,
      "outputs": [
        {
          "output_type": "execute_result",
          "data": {
            "text/html": [
              "<div>\n",
              "<style scoped>\n",
              "    .dataframe tbody tr th:only-of-type {\n",
              "        vertical-align: middle;\n",
              "    }\n",
              "\n",
              "    .dataframe tbody tr th {\n",
              "        vertical-align: top;\n",
              "    }\n",
              "\n",
              "    .dataframe thead th {\n",
              "        text-align: right;\n",
              "    }\n",
              "</style>\n",
              "<table border=\"1\" class=\"dataframe\">\n",
              "  <thead>\n",
              "    <tr style=\"text-align: right;\">\n",
              "      <th></th>\n",
              "      <th>label</th>\n",
              "    </tr>\n",
              "    <tr>\n",
              "      <th>label</th>\n",
              "      <th></th>\n",
              "    </tr>\n",
              "  </thead>\n",
              "  <tbody>\n",
              "    <tr>\n",
              "      <th>0</th>\n",
              "      <td>145</td>\n",
              "    </tr>\n",
              "    <tr>\n",
              "      <th>1</th>\n",
              "      <td>270</td>\n",
              "    </tr>\n",
              "  </tbody>\n",
              "</table>\n",
              "</div>"
            ],
            "text/plain": [
              "       label\n",
              "label       \n",
              "0        145\n",
              "1        270"
            ]
          },
          "metadata": {
            "tags": []
          },
          "execution_count": 39
        }
      ]
    },
    {
      "cell_type": "markdown",
      "metadata": {
        "id": "fO0kuFXGnh-R",
        "colab_type": "text"
      },
      "source": [
        "### Preprocessing and Feature Engineering"
      ]
    },
    {
      "cell_type": "code",
      "metadata": {
        "id": "8qtZjFiWnh-R",
        "colab_type": "code",
        "colab": {
          "base_uri": "https://localhost:8080/",
          "height": 85
        },
        "outputId": "4e8e6aa1-c923-48b9-d427-dbec5d45933c"
      },
      "source": [
        "import nltk\n",
        "from nltk.stem import WordNetLemmatizer,PorterStemmer\n",
        "nltk.download('punkt')\n",
        "nltk.download('wordnet')\n",
        "\n",
        "class Preprocess:\n",
        "\n",
        "  def __init__(self):\n",
        "    self.wordnet_lemmatizer = WordNetLemmatizer()\n",
        "    self.porter = PorterStemmer()\n",
        "\n",
        "  def clean_text(self,text):\n",
        "      '''Clean text by removing unnecessary characters and altering the format of words.'''\n",
        "\n",
        "      text = text.lower()\n",
        "      text = re.sub(r\"i'm\", \"i am\", text)\n",
        "      text = re.sub(r\"he's\", \"he is\", text)\n",
        "      text = re.sub(r\"she's\", \"she is\", text)\n",
        "      text = re.sub(r\"it's\", \"it is\", text)\n",
        "      text = re.sub(r\"that's\", \"that is\", text)\n",
        "      text = re.sub(r\"what's\", \"that is\", text)\n",
        "      text = re.sub(r\"where's\", \"where is\", text)\n",
        "      text = re.sub(r\"how's\", \"how is\", text)\n",
        "      text = re.sub(r\"\\'ll\", \" will\", text)\n",
        "      text = re.sub(r\"\\'ve\", \" have\", text)\n",
        "      text = re.sub(r\"\\'re\", \" are\", text)\n",
        "      text = re.sub(r\"\\'d\", \" would\", text)\n",
        "      text = re.sub(r\"\\'re\", \" are\", text)\n",
        "      text = re.sub(r\"won't\", \"will not\", text)\n",
        "      text = re.sub(r\"can't\", \"cannot\", text)\n",
        "      text = re.sub(r\"n't\", \" not\", text)\n",
        "      text = re.sub(r\"n'\", \"ng\", text)\n",
        "      text = re.sub(r\"'bout\", \"about\", text)\n",
        "      text = re.sub(r\"'til\", \"until\", text)\n",
        "      text = re.sub(r\"[()\\\"_#/@;*%:{}<>`+=~|.!?,'$-\\[\\]]\", \"\", text)\n",
        "      text = re.sub(r\"[0-9]\", \"\", text)\n",
        "      \n",
        "      return text\n",
        "    \n",
        "  def lemmatizer(self,text):\n",
        "    sentence_words = nltk.word_tokenize(text)\n",
        "    ret_text = []\n",
        "    for word in sentence_words:\n",
        "      ret_text.append(self.wordnet_lemmatizer.lemmatize(word))\n",
        "    \n",
        "    return \" \".join(ret_text)\n",
        "\n",
        "\n",
        "  def stemmer(self,text):\n",
        "    sentence_words = nltk.word_tokenize(text)\n",
        "    ret_text = []\n",
        "    for word in sentence_words:\n",
        "      ret_text.append(self.porter.stem(word))\n",
        "    \n",
        "    return \" \".join(ret_text)"
      ],
      "execution_count": 92,
      "outputs": [
        {
          "output_type": "stream",
          "text": [
            "[nltk_data] Downloading package punkt to /root/nltk_data...\n",
            "[nltk_data]   Package punkt is already up-to-date!\n",
            "[nltk_data] Downloading package wordnet to /root/nltk_data...\n",
            "[nltk_data]   Package wordnet is already up-to-date!\n"
          ],
          "name": "stdout"
        }
      ]
    },
    {
      "cell_type": "markdown",
      "metadata": {
        "id": "I2S04asgnh-Y",
        "colab_type": "text"
      },
      "source": [
        "# Preparing Data for the Model"
      ]
    },
    {
      "cell_type": "markdown",
      "metadata": {
        "id": "UiRNGPcaLRwe",
        "colab_type": "text"
      },
      "source": [
        "## Encoder data"
      ]
    },
    {
      "cell_type": "code",
      "metadata": {
        "id": "AlfpTw3Gnh-Z",
        "colab_type": "code",
        "colab": {}
      },
      "source": [
        "def encoder_data(df,lemmatize=False,stem=False):\n",
        "  preprocessor = Preprocess()\n",
        "  encoder_inputs = df['content'].apply(lambda x: preprocessor.clean_text(x))\n",
        "  if lemmatize:\n",
        "    encoder_inputs = df['content'].apply(lambda x: preprocessor.lemmatizer(x))\n",
        "  if stem:\n",
        "    encoder_inputs = df['content'].apply(lambda x: preprocessor.stemmer(x))\n",
        "  encoder_inputs = np.array(encoder_inputs.values.tolist())\n",
        "  return encoder_inputs\n"
      ],
      "execution_count": 0,
      "outputs": []
    },
    {
      "cell_type": "markdown",
      "metadata": {
        "id": "VtRD7t2xnh-a",
        "colab_type": "text"
      },
      "source": [
        "## Fake news detection training data"
      ]
    },
    {
      "cell_type": "code",
      "metadata": {
        "id": "MYS5-ebOnh-b",
        "colab_type": "code",
        "colab": {}
      },
      "source": [
        "def fake_news_target(df):\n",
        "  y_cc = np.array(df['label'].apply(lambda x:int(x)).values.tolist())\n",
        "  return y_cc\n"
      ],
      "execution_count": 0,
      "outputs": []
    },
    {
      "cell_type": "markdown",
      "metadata": {
        "id": "38_lywxsnh-c",
        "colab_type": "text"
      },
      "source": [
        "## Domain classification Data"
      ]
    },
    {
      "cell_type": "code",
      "metadata": {
        "id": "L6Gow5EPnh-d",
        "colab_type": "code",
        "colab": {}
      },
      "source": [
        "def domain_target(df):\n",
        "  y_dc = np.array([0]*len(domain1_frame) + [1]*len(domain2_frame))\n",
        "  return y_dc\n"
      ],
      "execution_count": 0,
      "outputs": []
    },
    {
      "cell_type": "markdown",
      "metadata": {
        "id": "ZNNFiDHYMIQp",
        "colab_type": "text"
      },
      "source": [
        "## Shuffling the data"
      ]
    },
    {
      "cell_type": "code",
      "metadata": {
        "id": "Yi4uejDAfVT-",
        "colab_type": "code",
        "colab": {}
      },
      "source": [
        "class Shuffle:\n",
        "\n",
        "  def __init__(self,data_len):\n",
        "    self.idx = np.arange(data_len)\n",
        "    np.random.shuffle(self.idx)\n",
        "  \n",
        "  def shuffle(self,data):\n",
        "    return np.array(data)[self.idx]"
      ],
      "execution_count": 0,
      "outputs": []
    },
    {
      "cell_type": "markdown",
      "metadata": {
        "id": "WEtAE0iTd8vU",
        "colab_type": "text"
      },
      "source": [
        "## Creating word to index mapping and vice versa"
      ]
    },
    {
      "cell_type": "code",
      "metadata": {
        "id": "lzss0di-eW1G",
        "colab_type": "code",
        "colab": {}
      },
      "source": [
        "def create_vocab(text_lists,vocab_len): ## Creating the word2idx, idx2word mapping using the Keras Tokenizer\n",
        "    tokenizer = Tokenizer(oov_token=\"<UNK>\")\n",
        "    tokenizer.fit_on_texts(text_lists)\n",
        "    ## Due to ambiguity with regards to Keras Tokenizer num_words, below is a good enough fix, \n",
        "    ## though it changes the tokenizer word_index outside of the class\n",
        "    num_words = vocab_len\n",
        "\n",
        "    sorted_by_word_count = sorted(tokenizer.word_counts.items(), key=lambda kv: kv[1], reverse=True)\n",
        "    tokenizer.word_index = {}\n",
        "    word2idx = {}\n",
        "    idx2word = {}\n",
        "    i = 0\n",
        "    for word,count in sorted_by_word_count:\n",
        "        if i == num_words:\n",
        "            break\n",
        "\n",
        "        tokenizer.word_index[word] = i + 1    # <= because tokenizer is 1 indexed\n",
        "        word2idx[word] = i+1\n",
        "        idx2word[i+1]=word\n",
        "        i += 1\n",
        "    \n",
        "    tokenizer.word_index[tokenizer.oov_token] = num_words+1\n",
        "    word2idx[tokenizer.oov_token] = num_words+1\n",
        "    idx2word[num_words+1]=tokenizer.oov_token\n",
        "    \n",
        "    return word2idx,idx2word,tokenizer"
      ],
      "execution_count": 0,
      "outputs": []
    },
    {
      "cell_type": "markdown",
      "metadata": {
        "id": "0paLOyC9QKtz",
        "colab_type": "text"
      },
      "source": [
        "## Tokenizing and Padding/Truncating Data"
      ]
    },
    {
      "cell_type": "code",
      "metadata": {
        "id": "wxQbpwWVnh-u",
        "colab_type": "code",
        "colab": {}
      },
      "source": [
        "def pad_tokenize_data(encoder_inputs,max_sentence_length,tokenizer):\n",
        "\n",
        "  t_encoder_inputs = tokenizer.texts_to_sequences(encoder_inputs)\n",
        "  t_encoder_inputs = pad_sequences(t_encoder_inputs,maxlen=max_sentence_length,padding='post', truncating='post')\n",
        "\n",
        "\n",
        "  return t_encoder_inputs\n"
      ],
      "execution_count": 0,
      "outputs": []
    },
    {
      "cell_type": "markdown",
      "metadata": {
        "id": "S_GqXV2EPP80",
        "colab_type": "text"
      },
      "source": [
        "## Defining Data Generators"
      ]
    },
    {
      "cell_type": "code",
      "metadata": {
        "colab_type": "code",
        "id": "ukjujAuQPPEC",
        "colab": {}
      },
      "source": [
        "def batch_generator(X,Y_CC,Y_DC,max_sentence_length,batch_size=128):\n",
        "    \n",
        "        \n",
        "    y_cc = to_categorical(Y_CC)\n",
        "    y_dc = to_categorical(Y_DC)\n",
        "    for idx in range(0,len(X),batch_size):\n",
        "        encoder_input = np.zeros((batch_size,max_sentence_length))\n",
        "        decoder_target = np.zeros((batch_size,max_sentence_length,len(word2idx)+1))\n",
        "        for j,input_seq in enumerate(X[idx:idx+batch_size]):\n",
        "            for i,word_idx in enumerate(input_seq):\n",
        "                encoder_input[j,i]= word_idx\n",
        "                decoder_target[j,i,word_idx] = 1\n",
        "           \n",
        "        yield [encoder_input,[decoder_target,y_cc[idx:idx+batch_size],y_dc[idx:idx+batch_size]]]"
      ],
      "execution_count": 0,
      "outputs": []
    },
    {
      "cell_type": "code",
      "metadata": {
        "id": "79xvcWXvnh-x",
        "colab_type": "code",
        "colab": {}
      },
      "source": [
        "def all_data_generator(X,Y_CC,Y_DC,max_sentence_length):\n",
        "    encoder_input = np.zeros((len(X),max_sentence_length))\n",
        "    decoder_target = np.zeros((len(X),max_sentence_length,len(word2idx)+1)) ## Extra index for padding, word2idx is 1 indexed\n",
        "    for j,input_seq in enumerate(X):\n",
        "        for i,word_idx in enumerate(input_seq):\n",
        "            encoder_input[j,i]= word_idx\n",
        "            decoder_target[j,i,word_idx] = 1\n",
        "    \n",
        "    y_cc = to_categorical(Y_CC)\n",
        "    y_dc = to_categorical(Y_DC)\n",
        "\n",
        "    return [encoder_input,[decoder_target,y_cc,y_dc]]"
      ],
      "execution_count": 0,
      "outputs": []
    },
    {
      "cell_type": "markdown",
      "metadata": {
        "id": "98IHiynqnh-3",
        "colab_type": "text"
      },
      "source": [
        "## Loading Glove Word Vectors"
      ]
    },
    {
      "cell_type": "code",
      "metadata": {
        "id": "SlIzeZquVgHu",
        "colab_type": "code",
        "outputId": "57998713-e353-40f6-f57f-456d53f70665",
        "colab": {
          "base_uri": "https://localhost:8080/",
          "height": 306
        }
      },
      "source": [
        "!wget http://nlp.stanford.edu/data/glove.6B.zip"
      ],
      "execution_count": 13,
      "outputs": [
        {
          "output_type": "stream",
          "text": [
            "--2019-12-01 05:46:57--  http://nlp.stanford.edu/data/glove.6B.zip\n",
            "Resolving nlp.stanford.edu (nlp.stanford.edu)... 171.64.67.140\n",
            "Connecting to nlp.stanford.edu (nlp.stanford.edu)|171.64.67.140|:80... connected.\n",
            "HTTP request sent, awaiting response... 302 Found\n",
            "Location: https://nlp.stanford.edu/data/glove.6B.zip [following]\n",
            "--2019-12-01 05:46:57--  https://nlp.stanford.edu/data/glove.6B.zip\n",
            "Connecting to nlp.stanford.edu (nlp.stanford.edu)|171.64.67.140|:443... connected.\n",
            "HTTP request sent, awaiting response... 301 Moved Permanently\n",
            "Location: http://downloads.cs.stanford.edu/nlp/data/glove.6B.zip [following]\n",
            "--2019-12-01 05:46:57--  http://downloads.cs.stanford.edu/nlp/data/glove.6B.zip\n",
            "Resolving downloads.cs.stanford.edu (downloads.cs.stanford.edu)... 171.64.64.22\n",
            "Connecting to downloads.cs.stanford.edu (downloads.cs.stanford.edu)|171.64.64.22|:80... connected.\n",
            "HTTP request sent, awaiting response... 200 OK\n",
            "Length: 862182613 (822M) [application/zip]\n",
            "Saving to: ‘glove.6B.zip.1’\n",
            "\n",
            "glove.6B.zip.1        6%[>                   ]  55.85M  21.1MB/s               ^C\n"
          ],
          "name": "stdout"
        }
      ]
    },
    {
      "cell_type": "code",
      "metadata": {
        "id": "EGJaWo0iXn_2",
        "colab_type": "code",
        "colab": {}
      },
      "source": [
        "import zipfile\n",
        "zip_ref = zipfile.ZipFile(\"./glove.6B.zip\", 'r')\n",
        "zip_ref.extractall(\"./glove/\")\n",
        "zip_ref.close()"
      ],
      "execution_count": 0,
      "outputs": []
    },
    {
      "cell_type": "code",
      "metadata": {
        "id": "aaiBMdmYnh-3",
        "colab_type": "code",
        "colab": {}
      },
      "source": [
        "embeddings_index = dict()\n",
        "f = open('./glove/glove.6B.100d.txt')\n",
        "for line in f:\n",
        "    values = line.split()\n",
        "    word = values[0]\n",
        "    coefs = np.asarray(values[1:], dtype='float32')\n",
        "    embeddings_index[word] = coefs\n",
        "f.close()"
      ],
      "execution_count": 0,
      "outputs": []
    },
    {
      "cell_type": "code",
      "metadata": {
        "id": "kgSbZ7eHnh-5",
        "colab_type": "code",
        "colab": {}
      },
      "source": [
        "def generate_glove_matrix(vocab_len):\n",
        "  embedding_matrix = np.zeros((vocab_len+1, 100))\n",
        "  for word, i in word2idx.items():\n",
        "      embedding_vector = embeddings_index.get(word)\n",
        "      if embedding_vector is not None:\n",
        "          embedding_matrix[i+1] = embedding_vector\n",
        "  return embedding_matrix"
      ],
      "execution_count": 0,
      "outputs": []
    },
    {
      "cell_type": "markdown",
      "metadata": {
        "id": "QDSiyQLCQ3xz",
        "colab_type": "text"
      },
      "source": [
        "# Building our models"
      ]
    },
    {
      "cell_type": "markdown",
      "metadata": {
        "id": "tK5f7_tBVMyv",
        "colab_type": "text"
      },
      "source": [
        "## Building domain specific classification Model"
      ]
    },
    {
      "cell_type": "code",
      "metadata": {
        "id": "tKzUGdzsVb1A",
        "colab_type": "code",
        "colab": {}
      },
      "source": [
        "def classification_model(max_encoder_len,embedding_dim,latent_dim,include_glove=False):\n",
        "  inputs = Input(shape=(max_encoder_len,),name=\"encoder_inputs\")\n",
        "\n",
        "  if include_glove:\n",
        "    encoder_embedding = Embedding(vocab_len+1,embedding_dim,trainable=False,weights=[embedding_matrix],input_length=max_encoder_len,mask_zero=True,name=\"encoder_embedding\")\n",
        "\n",
        "  else:\n",
        "    encoder_embedding = Embedding(vocab_len+1,embedding_dim,trainable=True,input_length=max_encoder_len,mask_zero=True,name=\"encoder_embedding\")\n",
        "\n",
        "  encoder_inputs = encoder_embedding(inputs)\n",
        "\n",
        "\n",
        "  encoder = LSTM(latent_dim,return_state=True)\n",
        "\n",
        "\n",
        "  encoder_outputs, state_h, state_c = encoder(encoder_inputs)\n",
        "\n",
        "  fully_connected_CC = Dense(128,\n",
        "                        activation=\"tanh\",\n",
        "                        name=\"non_linear_CC\")\n",
        "\n",
        "  logits_CC = fully_connected_CC(encoder_outputs)\n",
        "\n",
        "  softmax_layer_CC = Dense(2,\n",
        "                      activation=\"softmax\",\n",
        "                      name=\"softmax_layer_CC\")\n",
        "\n",
        "  output_CC = softmax_layer_CC(logits_CC)\n",
        "\n",
        "  model = Model(inputs,output_CC)\n",
        "\n",
        "  return model\n",
        "\n",
        "\n"
      ],
      "execution_count": 0,
      "outputs": []
    },
    {
      "cell_type": "markdown",
      "metadata": {
        "id": "QBRqKRtOV3hs",
        "colab_type": "text"
      },
      "source": [
        "## Building domain independent model with domain loss"
      ]
    },
    {
      "cell_type": "code",
      "metadata": {
        "id": "yPvmnzgnV-aW",
        "colab_type": "code",
        "colab": {}
      },
      "source": [
        "def classification_domain_model(max_encoder_len,embedding_dim,latent_dim):\n",
        "  inputs = Input(shape=(max_encoder_len,),name=\"encoder_inputs\")\n",
        "\n",
        "\n",
        "  encoder_embedding = Embedding(vocab_len+1,embedding_dim,trainable=True,input_length=max_encoder_len,mask_zero=True,name=\"encoder_embedding\")\n",
        "\n",
        "  encoder_inputs = encoder_embedding(inputs)\n",
        "\n",
        "\n",
        "  encoder = LSTM(latent_dim,return_state=True)\n",
        "\n",
        "\n",
        "  encoder_outputs, state_h, state_c = encoder(encoder_inputs)\n",
        "\n",
        "\n",
        "  encoder_states = [state_h,state_c]\n",
        "\n",
        "\n",
        "  ########## Content Classification Part ###############\n",
        "\n",
        "  fully_connected_CC = Dense(128,\n",
        "                        activation=\"tanh\",\n",
        "                        name=\"non_linear_CC\")\n",
        "\n",
        "  logits_CC = fully_connected_CC(encoder_outputs)\n",
        "\n",
        "  softmax_layer_CC = Dense(2,\n",
        "                      activation=\"softmax\",\n",
        "                      name=\"softmax_layer_CC\")\n",
        "\n",
        "  output_CC = softmax_layer_CC(logits_CC)\n",
        "\n",
        "\n",
        "  ######### Domain Classification Part ##############\n",
        "\n",
        "  fully_connected_DC = Dense(128,\n",
        "                        activation=\"tanh\",\n",
        "                        name=\"non_linear_DC\")\n",
        "\n",
        "  logits_DC = fully_connected_DC(encoder_outputs)\n",
        "\n",
        "  softmax_layer_DC = Dense(2,\n",
        "                      activation=\"softmax\",\n",
        "                      name=\"softmax_layer_DC\")\n",
        "\n",
        "  output_DC = softmax_layer_DC(logits_DC)\n",
        "\n",
        "\n",
        "  model = Model(inputs,[output_CC,outputs_DC])\n",
        "\n",
        "  return model\n",
        "\n"
      ],
      "execution_count": 0,
      "outputs": []
    },
    {
      "cell_type": "markdown",
      "metadata": {
        "id": "mrvdwQp2XC39",
        "colab_type": "text"
      },
      "source": [
        "## Building Plain Autoencoder"
      ]
    },
    {
      "cell_type": "code",
      "metadata": {
        "id": "8jcmhNNTW2hH",
        "colab_type": "code",
        "colab": {}
      },
      "source": [
        "def autoencoder(max_encoder_len,embedding_dim,latent_dim):\n",
        "  inputs = Input(shape=(max_encoder_len,),name=\"encoder_inputs\")\n",
        "\n",
        "\n",
        "  encoder_embedding = Embedding(vocab_len+1,embedding_dim,trainable=True,input_length=max_encoder_len,mask_zero=True,name=\"encoder_embedding\")\n",
        "\n",
        "  encoder_inputs = encoder_embedding(inputs)\n",
        "\n",
        "\n",
        "  encoder = LSTM(latent_dim,return_state=True)\n",
        "\n",
        "\n",
        "  encoder_outputs, state_h, state_c = encoder(encoder_inputs)\n",
        "\n",
        "\n",
        "  encoder_states = [state_h,state_c]\n",
        "\n",
        "  decoder_inputs = RepeatVector(max_encoder_len)(encoder_outputs)\n",
        "\n",
        "\n",
        "  decoder_lstm = LSTM(64, \n",
        "                          return_state=True,\n",
        "                          return_sequences=True,\n",
        "                          name = 'decoder_lstm')\n",
        "\n",
        "\n",
        "  decoder_outputs, _, _ = decoder_lstm(decoder_inputs,initial_state=encoder_states)\n",
        "\n",
        "\n",
        "  decoder_dense = Dense(vocab_len+1, \n",
        "                        activation='softmax', \n",
        "                        name = 'decoder_dense')\n",
        "  decoder_outputs = decoder_dense(decoder_outputs)\n",
        "\n",
        "\n",
        "\n",
        "  model = Model(inputs,decoder_outputs)\n",
        "\n",
        "  return model\n"
      ],
      "execution_count": 0,
      "outputs": []
    },
    {
      "cell_type": "markdown",
      "metadata": {
        "id": "E3Ei-jLknh-8",
        "colab_type": "text"
      },
      "source": [
        "## Building the Final model"
      ]
    },
    {
      "cell_type": "code",
      "metadata": {
        "id": "g3JeUaY8nh-9",
        "colab_type": "code",
        "colab": {}
      },
      "source": [
        "def final_model(max_encoder_len,embedding_dim,latent_dim):\n",
        "  inputs = Input(shape=(max_encoder_len,),name=\"encoder_inputs\")\n",
        "\n",
        "\n",
        "  encoder_embedding = Embedding(vocab_len+1,embedding_dim,trainable=True,input_length=max_encoder_len,mask_zero=True,name=\"encoder_embedding\")\n",
        "\n",
        "  encoder_inputs = encoder_embedding(inputs)\n",
        "\n",
        "\n",
        "  encoder = LSTM(latent_dim,return_state=True)\n",
        "\n",
        "\n",
        "  encoder_outputs, state_h, state_c = encoder(encoder_inputs)\n",
        "\n",
        "\n",
        "  encoder_states = [state_h,state_c]\n",
        "\n",
        "\n",
        "  ########## Content Classification Part ###############\n",
        "\n",
        "  fully_connected_CC = Dense(128,\n",
        "                        activation=\"tanh\",\n",
        "                        name=\"non_linear_CC\")\n",
        "\n",
        "  logits_CC = fully_connected_CC(encoder_outputs)\n",
        "\n",
        "  softmax_layer_CC = Dense(2,\n",
        "                      activation=\"softmax\",\n",
        "                      name=\"softmax_layer_CC\")\n",
        "\n",
        "  output_CC = softmax_layer_CC(logits_CC)\n",
        "\n",
        "\n",
        "  ######### Domain Classification Part ##############\n",
        "\n",
        "  fully_connected_DC = Dense(128,\n",
        "                        activation=\"tanh\",\n",
        "                        name=\"non_linear_DC\")\n",
        "\n",
        "  logits_DC = fully_connected_DC(encoder_outputs)\n",
        "\n",
        "  softmax_layer_DC = Dense(2,\n",
        "                      activation=\"softmax\",\n",
        "                      name=\"softmax_layer_DC\")\n",
        "\n",
        "  output_DC = softmax_layer_DC(logits_DC)\n",
        "\n",
        "\n",
        "  ########### Autoencoder PART #############\n",
        "  decoder_inputs = RepeatVector(max_encoder_len)(encoder_outputs)\n",
        "\n",
        "\n",
        "  decoder_lstm = LSTM(64, \n",
        "                          return_state=True,\n",
        "                          return_sequences=True,\n",
        "                          name = 'decoder_lstm')\n",
        "\n",
        "\n",
        "  decoder_outputs, _, _ = decoder_lstm(decoder_inputs,initial_state=encoder_states)\n",
        "\n",
        "\n",
        "  decoder_dense = Dense(vocab_len+1, \n",
        "                        activation='softmax', \n",
        "                        name = 'decoder_dense')\n",
        "  decoder_outputs = decoder_dense(decoder_outputs)\n",
        "\n",
        "\n",
        "\n",
        "  model = Model(inputs,[decoder_outputs,output_CC,output_DC])\n",
        "\n",
        "  return model"
      ],
      "execution_count": 0,
      "outputs": []
    },
    {
      "cell_type": "code",
      "metadata": {
        "id": "AjysfxQRnh-_",
        "colab_type": "code",
        "colab": {}
      },
      "source": [
        "def print_model_summary(model):\n",
        "  model.summary()"
      ],
      "execution_count": 0,
      "outputs": []
    },
    {
      "cell_type": "code",
      "metadata": {
        "id": "DI1Jv6iZ-AZR",
        "colab_type": "code",
        "colab": {}
      },
      "source": [
        "from keras import backend as K\n",
        "\n",
        "def recall_m(y_true, y_pred):\n",
        "        true_positives = K.sum(K.round(K.clip(y_true * y_pred, 0, 1)))\n",
        "        possible_positives = K.sum(K.round(K.clip(y_true, 0, 1)))\n",
        "        recall = true_positives / (possible_positives + K.epsilon())\n",
        "        return recall\n",
        "\n",
        "def precision_m(y_true, y_pred):\n",
        "        true_positives = K.sum(K.round(K.clip(y_true * y_pred, 0, 1)))\n",
        "        predicted_positives = K.sum(K.round(K.clip(y_pred, 0, 1)))\n",
        "        precision = true_positives / (predicted_positives + K.epsilon())\n",
        "        return precision\n",
        "\n",
        "def f1_m(y_true, y_pred):\n",
        "    precision = precision_m(y_true, y_pred)\n",
        "    recall = recall_m(y_true, y_pred)\n",
        "    return 2*((precision*recall)/(precision+recall+K.epsilon()))"
      ],
      "execution_count": 0,
      "outputs": []
    },
    {
      "cell_type": "code",
      "metadata": {
        "id": "PRv_bJnF9_CS",
        "colab_type": "code",
        "colab": {}
      },
      "source": [
        "model.compile(optimizer=\"rmsprop\", loss=['categorical_crossentropy','binary_crossentropy','binary_crossentropy'],\n",
        "              loss_weights=[0.1,0.6,-0.1],metrics=['accuracy'])\n",
        "history = model.fit(encoder_input_data, \n",
        "                    [decoder_target_data,y_cc,y_dc],\n",
        "                    batch_size=256,\n",
        "                    validation_split=0.1,\n",
        "#                     shuffle=True,\n",
        "                    epochs=800)"
      ],
      "execution_count": 0,
      "outputs": []
    },
    {
      "cell_type": "markdown",
      "metadata": {
        "id": "Kxh20g_Nnh_f",
        "colab_type": "text"
      },
      "source": [
        "# Experiments"
      ]
    },
    {
      "cell_type": "code",
      "metadata": {
        "colab_type": "code",
        "id": "j3KcgKmqJe7J",
        "colab": {}
      },
      "source": [
        "def prepare_training_data(df):\n",
        "  encoder_inputs = encoder_data(df)\n",
        "  y_cc = fake_news_target(df)\n",
        "  y_dc = domain_target(df)\n",
        "\n",
        "  shuffle = Shuffle(len(encoder_inputs)) ## Initializing the shuffle class instance\n",
        "  encoder_inputs = shuffle.shuffle(encoder_inputs)\n",
        "  y_cc = shuffle.shuffle(y_cc)\n",
        "  y_dc = shuffle.shuffle(y_dc) ## Not used\n",
        "\n",
        "  word2idx,idx2word,tokenizer = create_vocab(encoder_inputs,5000)\n",
        "\n",
        "  vocab_len = len(word2idx)\n",
        "\n",
        "  encoder_inputs = pad_tokenize_data(encoder_inputs,max_sentence_length,tokenizer)\n",
        "\n",
        "  encoder_inputs,[decoder_target,y_cc,y_dc] = all_data_generator(encoder_inputs,y_cc,y_dc,max_sentence_length)\n",
        "\n",
        "  train_X, test_X, train_Y, test_Y = train_test_split(encoder_inputs,y_cc,test_size=0.1,random_state=42)\n",
        "\n",
        "  return [[train_X, test_X, train_Y, test_Y],[word2idx,idx2word,tokenizer],vocab_len]\n",
        "\n",
        "  "
      ],
      "execution_count": 0,
      "outputs": []
    },
    {
      "cell_type": "code",
      "metadata": {
        "id": "4tGGbQo0Kd7u",
        "colab_type": "code",
        "colab": {}
      },
      "source": [
        "def prepare_testing_data(df):\n",
        "  encoder_inputs = encoder_data(df)\n",
        "  y_cc = fake_news_target(df)\n",
        "  y_dc = domain_target(df)\n",
        "\n",
        "  encoder_inputs = pad_tokenize_data(encoder_inputs,max_sentence_length,tokenizer)\n",
        "\n",
        "  encoder_inputs,[decoder_target,y_cc,y_dc] = all_data_generator(encoder_inputs,y_cc,y_dc,max_sentence_length)\n",
        "\n",
        "  return [encoder_inputs,[decoder_target,y_cc,y_dc]]\n",
        "\n"
      ],
      "execution_count": 0,
      "outputs": []
    },
    {
      "cell_type": "markdown",
      "metadata": {
        "id": "y8730pJvpWYT",
        "colab_type": "text"
      },
      "source": [
        "## Experiment 1: Domain Specific Classification"
      ]
    },
    {
      "cell_type": "markdown",
      "metadata": {
        "id": "9diT-0X5AV2N",
        "colab_type": "text"
      },
      "source": [
        "### Training"
      ]
    },
    {
      "cell_type": "code",
      "metadata": {
        "id": "_Cy0rRie--Eh",
        "colab_type": "code",
        "colab": {}
      },
      "source": [
        "max_sentence_length = 40\n",
        "embedding_dim = 100\n",
        "latent_dim=64\n"
      ],
      "execution_count": 0,
      "outputs": []
    },
    {
      "cell_type": "code",
      "metadata": {
        "id": "DOs3lLPtK7Os",
        "colab_type": "code",
        "colab": {}
      },
      "source": [
        "[train_X, test_X, train_Y, test_Y],[word2idx,idx2word,tokenizer],vocab_len = prepare_training_data(domain1_frame)"
      ],
      "execution_count": 0,
      "outputs": []
    },
    {
      "cell_type": "code",
      "metadata": {
        "id": "HHN3fUK93YUD",
        "colab_type": "code",
        "colab": {}
      },
      "source": [
        "embedding_matrix = generate_glove_matrix(vocab_len)"
      ],
      "execution_count": 0,
      "outputs": []
    },
    {
      "cell_type": "code",
      "metadata": {
        "id": "xS8HHDmIxXZy",
        "colab_type": "code",
        "colab": {}
      },
      "source": [
        "model = classification_model(max_sentence_length,embedding_dim,latent_dim,include_glove=False)"
      ],
      "execution_count": 0,
      "outputs": []
    },
    {
      "cell_type": "code",
      "metadata": {
        "id": "c2JegSpMzpLl",
        "colab_type": "code",
        "colab": {
          "base_uri": "https://localhost:8080/",
          "height": 323
        },
        "outputId": "db56b65c-21be-4b14-db19-7fead311b029"
      },
      "source": [
        "print_model_summary(model)"
      ],
      "execution_count": 82,
      "outputs": [
        {
          "output_type": "stream",
          "text": [
            "Model: \"model_5\"\n",
            "_________________________________________________________________\n",
            "Layer (type)                 Output Shape              Param #   \n",
            "=================================================================\n",
            "encoder_inputs (InputLayer)  (None, 40)                0         \n",
            "_________________________________________________________________\n",
            "encoder_embedding (Embedding (None, 40, 100)           500200    \n",
            "_________________________________________________________________\n",
            "lstm_5 (LSTM)                [(None, 64), (None, 64),  42240     \n",
            "_________________________________________________________________\n",
            "non_linear_CC (Dense)        (None, 128)               8320      \n",
            "_________________________________________________________________\n",
            "softmax_layer_CC (Dense)     (None, 2)                 258       \n",
            "=================================================================\n",
            "Total params: 551,018\n",
            "Trainable params: 551,018\n",
            "Non-trainable params: 0\n",
            "_________________________________________________________________\n"
          ],
          "name": "stdout"
        }
      ]
    },
    {
      "cell_type": "code",
      "metadata": {
        "colab_type": "code",
        "outputId": "24b211f7-f6c7-452f-83a6-347a180c5625",
        "id": "da21p1aN0h-a",
        "colab": {
          "base_uri": "https://localhost:8080/",
          "height": 309
        }
      },
      "source": [
        "model.compile(optimizer=\"rmsprop\", loss='binary_crossentropy',metrics=['accuracy'])\n",
        "es = EarlyStopping(monitor='val_loss', mode='min', patience=5,verbose=1)\n",
        "history = model.fit(train_X, \n",
        "                    train_Y,\n",
        "                    batch_size=256,\n",
        "                    validation_split=0.1,\n",
        "#                     shuffle=True,\n",
        "                    callbacks=[es],\n",
        "                    epochs=30)"
      ],
      "execution_count": 83,
      "outputs": [
        {
          "output_type": "stream",
          "text": [
            "Train on 4710 samples, validate on 524 samples\n",
            "Epoch 1/30\n",
            "4710/4710 [==============================] - 4s 772us/step - loss: 0.6467 - acc: 0.6285 - val_loss: 0.5647 - val_acc: 0.7424\n",
            "Epoch 2/30\n",
            "4710/4710 [==============================] - 2s 418us/step - loss: 0.4729 - acc: 0.7758 - val_loss: 0.5303 - val_acc: 0.7481\n",
            "Epoch 3/30\n",
            "4710/4710 [==============================] - 2s 422us/step - loss: 0.3599 - acc: 0.8452 - val_loss: 0.5858 - val_acc: 0.7061\n",
            "Epoch 4/30\n",
            "4710/4710 [==============================] - 2s 418us/step - loss: 0.2913 - acc: 0.8864 - val_loss: 0.6113 - val_acc: 0.7214\n",
            "Epoch 5/30\n",
            "4710/4710 [==============================] - 2s 423us/step - loss: 0.2296 - acc: 0.9102 - val_loss: 0.7400 - val_acc: 0.7443\n",
            "Epoch 6/30\n",
            "4710/4710 [==============================] - 2s 416us/step - loss: 0.2087 - acc: 0.9132 - val_loss: 0.8264 - val_acc: 0.7290\n",
            "Epoch 7/30\n",
            "4710/4710 [==============================] - 2s 419us/step - loss: 0.1652 - acc: 0.9389 - val_loss: 0.8546 - val_acc: 0.7099\n",
            "Epoch 00007: early stopping\n"
          ],
          "name": "stdout"
        }
      ]
    },
    {
      "cell_type": "markdown",
      "metadata": {
        "id": "D6C6Hh4ZA1g2",
        "colab_type": "text"
      },
      "source": [
        "### Testing"
      ]
    },
    {
      "cell_type": "code",
      "metadata": {
        "id": "CkiddPt5A4W4",
        "colab_type": "code",
        "colab": {}
      },
      "source": [
        "y_pred = model.predict(test_X)\n",
        "y_pred = np.array([np.argmax(x) for x in y_pred])\n",
        "y_true = np.array([np.argmax(x) for x in test_Y])"
      ],
      "execution_count": 0,
      "outputs": []
    },
    {
      "cell_type": "code",
      "metadata": {
        "id": "p54c9j3hCAPy",
        "colab_type": "code",
        "colab": {
          "base_uri": "https://localhost:8080/",
          "height": 170
        },
        "outputId": "84274b2c-5e7b-49bc-995d-d6c10cac587b"
      },
      "source": [
        "print(f\"Prediction acuracy on same domain is {round(accuracy_score(y_true,y_pred),2)}\")\n",
        "print(f\"Precision on same domain is {round(precision_score(y_true,y_pred),2)}\")\n",
        "print(f\"Recall on same domain is {round(recall_score(y_true,y_pred),2)}\")\n",
        "print(f\"F1 on same domain is {round(f1_score(y_true,y_pred),2)}\")\n",
        "cmtx = pd.DataFrame(\n",
        "    confusion_matrix(y_true, y_pred, labels=[1, 0]), \n",
        "    index=['true:Fake', 'true:Real'], \n",
        "    columns=['pred:Fake', 'pred:Real']\n",
        ")\n",
        "print(\"\\n\")\n",
        "print(cmtx)"
      ],
      "execution_count": 85,
      "outputs": [
        {
          "output_type": "stream",
          "text": [
            "Prediction acuracy on same domain is 0.7\n",
            "Precision on same domain is 0.62\n",
            "Recall on same domain is 0.61\n",
            "F1 on same domain is 0.62\n",
            "\n",
            "\n",
            "           pred:Fake  pred:Real\n",
            "true:Fake        140         89\n",
            "true:Real         85        268\n"
          ],
          "name": "stdout"
        }
      ]
    },
    {
      "cell_type": "code",
      "metadata": {
        "id": "YfNgPQOWEzj2",
        "colab_type": "code",
        "colab": {}
      },
      "source": [
        "d2_encoder_inputs,[decoder_target,d2_y_cc,d2_y_dc] = prepare_testing_data(domain2_frame)"
      ],
      "execution_count": 0,
      "outputs": []
    },
    {
      "cell_type": "code",
      "metadata": {
        "id": "r7lzSpTOFG0i",
        "colab_type": "code",
        "colab": {}
      },
      "source": [
        "y_pred = model.predict(encoder_inputs)\n",
        "y_pred = np.array([np.argmax(x) for x in y_pred])\n",
        "y_true = np.array([np.argmax(x) for x in y_cc])"
      ],
      "execution_count": 0,
      "outputs": []
    },
    {
      "cell_type": "code",
      "metadata": {
        "id": "FUQ5NL62FjsX",
        "colab_type": "code",
        "colab": {
          "base_uri": "https://localhost:8080/",
          "height": 170
        },
        "outputId": "40d06a15-03c3-434c-8a4f-d921aa279f62"
      },
      "source": [
        "print(f\"Prediction acuracy on different domain is {round(accuracy_score(y_true,y_pred),2)}\")\n",
        "print(f\"Precision on different domain is {round(precision_score(y_true,y_pred),2)}\")\n",
        "print(f\"Recall on different domain is {round(recall_score(y_true,y_pred),2)}\")\n",
        "print(f\"F1 on different domain is {round(f1_score(y_true,y_pred),2)}\")\n",
        "cmtx = pd.DataFrame(\n",
        "    confusion_matrix(y_true, y_pred, labels=[1, 0]), \n",
        "    index=['true:Fake', 'true:Real'], \n",
        "    columns=['pred:Fake', 'pred:Real']\n",
        ")\n",
        "print(\"\\n\")\n",
        "print(cmtx)"
      ],
      "execution_count": 88,
      "outputs": [
        {
          "output_type": "stream",
          "text": [
            "Prediction acuracy on different domain is 0.46\n",
            "Precision on different domain is 0.65\n",
            "Recall on different domain is 0.37\n",
            "F1 on different domain is 0.47\n",
            "\n",
            "\n",
            "           pred:Fake  pred:Real\n",
            "true:Fake        100        170\n",
            "true:Real         53         92\n"
          ],
          "name": "stdout"
        }
      ]
    },
    {
      "cell_type": "markdown",
      "metadata": {
        "id": "FY_p4HFInh_o",
        "colab_type": "text"
      },
      "source": [
        "### Testing the Model"
      ]
    },
    {
      "cell_type": "code",
      "metadata": {
        "id": "tGDL2I_Enh_o",
        "colab_type": "code",
        "outputId": "8e1e1004-6134-4444-b4f1-250a53168fc8",
        "colab": {}
      },
      "source": [
        "for idx in test_encoder_input_data[100]:\n",
        "    print(idx2word[idx],end=\" \")"
      ],
      "execution_count": 0,
      "outputs": [
        {
          "output_type": "stream",
          "text": [
            "loading the player who’s who in pippa middletongs young bridal "
          ],
          "name": "stdout"
        }
      ]
    },
    {
      "cell_type": "code",
      "metadata": {
        "id": "kA86TyD7nh_q",
        "colab_type": "code",
        "colab": {}
      },
      "source": [
        "# model.compile('rmsprop', 'mse')\n",
        "output_array = model.predict([test_encoder_input_data])"
      ],
      "execution_count": 0,
      "outputs": []
    },
    {
      "cell_type": "code",
      "metadata": {
        "id": "eQRle-Oqnh_r",
        "colab_type": "code",
        "outputId": "12833aaf-b6ca-4ad4-c2ef-37f695595c68",
        "colab": {}
      },
      "source": [
        "for idx in output_array[0][28]:\n",
        "    lookup = np.argmax(idx)\n",
        "#     print(lookup)\n",
        "    if lookup==0:\n",
        "        break\n",
        "    else:\n",
        "        print(idx2word[lookup],end=\" \")"
      ],
      "execution_count": 0,
      "outputs": [
        {
          "output_type": "stream",
          "text": [
            "kim said decided decided to a a a a a "
          ],
          "name": "stdout"
        }
      ]
    },
    {
      "cell_type": "code",
      "metadata": {
        "id": "RZ67pMFCnh_s",
        "colab_type": "code",
        "outputId": "5dcdcc20-ac07-41c1-9604-14835f61fc9d",
        "colab": {}
      },
      "source": [
        "for idx in output_array[100]:\n",
        "    print(idx[np.argmax(20)])\n",
        "    break\n",
        "    lookup = np.argmax(idx)\n",
        "#     print(lookup)\n",
        "    if lookup==0:\n",
        "        break\n",
        "    else:\n",
        "        print(idx2word[lookup],end=\" \")"
      ],
      "execution_count": 0,
      "outputs": [
        {
          "output_type": "stream",
          "text": [
            "1.9437695e-07\n"
          ],
          "name": "stdout"
        }
      ]
    },
    {
      "cell_type": "code",
      "metadata": {
        "id": "N3qfblfSnh_u",
        "colab_type": "code",
        "colab": {}
      },
      "source": [
        ""
      ],
      "execution_count": 0,
      "outputs": []
    },
    {
      "cell_type": "code",
      "metadata": {
        "id": "UDGaLJignh_w",
        "colab_type": "code",
        "colab": {}
      },
      "source": [
        ""
      ],
      "execution_count": 0,
      "outputs": []
    }
  ]
}